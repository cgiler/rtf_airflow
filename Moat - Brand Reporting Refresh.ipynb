{
 "cells": [
  {
   "cell_type": "markdown",
   "metadata": {},
   "source": [
    "## Moat Brand Reporting Refresh"
   ]
  },
  {
   "cell_type": "code",
   "execution_count": 1,
   "metadata": {
    "collapsed": true
   },
   "outputs": [],
   "source": [
    "from rtf_utils.moat_utils import MoatTile\n",
    "from essence.analytics.platform import securedcredentials as secure_creds\n",
    "from rtf_utils.gcp_utils import BigQuery,CloudStorage\n",
    "import warnings\n",
    "from rtf_utils.bq_schema import moat_schema_dict\n",
    "\n",
    "warnings.filterwarnings(\"ignore\", \"Your application has authenticated using end user credentials\")\n",
    "import json"
   ]
  },
  {
   "cell_type": "code",
   "execution_count": 2,
   "metadata": {},
   "outputs": [
    {
     "name": "stdout",
     "output_type": "stream",
     "text": [
      "Creds Loaded\n",
      "Token Loaded\n"
     ]
    }
   ],
   "source": [
    "service_account_email='131786951123-compute@developer.gserviceaccount.com' ## gcp analytics service account\n",
    "PROJECT_ID='essence-analytics-dwh'\n",
    "\n",
    "credentialsFromVault=secure_creds.getCredentialsFromEssenceVault(service_account_email)\n",
    "print(\"Creds Loaded\")\n",
    "moat_token = secure_creds.getDataFromEssenceVault('Moat_Token_Google')\n",
    "print(\"Token Loaded\")"
   ]
  },
  {
   "cell_type": "code",
   "execution_count": 3,
   "metadata": {
    "collapsed": true
   },
   "outputs": [],
   "source": [
    "start_date = '20190701'\n",
    "end_date = '20191001'"
   ]
  },
  {
   "cell_type": "code",
   "execution_count": 1,
   "metadata": {},
   "outputs": [
    {
     "ename": "NameError",
     "evalue": "name 'json' is not defined",
     "output_type": "error",
     "traceback": [
      "\u001b[0;31m---------------------------------------------------------------------------\u001b[0m",
      "\u001b[0;31mNameError\u001b[0m                                 Traceback (most recent call last)",
      "\u001b[0;32m<ipython-input-1-46d3fbc2225a>\u001b[0m in \u001b[0;36m<module>\u001b[0;34m()\u001b[0m\n\u001b[1;32m      1\u001b[0m \u001b[0;32mwith\u001b[0m \u001b[0mopen\u001b[0m\u001b[0;34m(\u001b[0m\u001b[0;34m'dags/brand_report_task_queue.json'\u001b[0m\u001b[0;34m)\u001b[0m \u001b[0;32mas\u001b[0m \u001b[0mjson_file\u001b[0m\u001b[0;34m:\u001b[0m\u001b[0;34m\u001b[0m\u001b[0m\n\u001b[0;32m----> 2\u001b[0;31m     \u001b[0mconfig_json\u001b[0m \u001b[0;34m=\u001b[0m \u001b[0mjson\u001b[0m\u001b[0;34m.\u001b[0m\u001b[0mload\u001b[0m\u001b[0;34m(\u001b[0m\u001b[0mjson_file\u001b[0m\u001b[0;34m)\u001b[0m\u001b[0;34m\u001b[0m\u001b[0m\n\u001b[0m\u001b[1;32m      3\u001b[0m     \u001b[0mcampaigns\u001b[0m \u001b[0;34m=\u001b[0m \u001b[0mconfig_json\u001b[0m\u001b[0;34m[\u001b[0m\u001b[0;34m'campaigns'\u001b[0m\u001b[0;34m]\u001b[0m\u001b[0;34m\u001b[0m\u001b[0m\n",
      "\u001b[0;31mNameError\u001b[0m: name 'json' is not defined"
     ]
    }
   ],
   "source": [
    "with open('dags/brand_report_task_queue.json') as json_file:\n",
    "    config_json = json.load(json_file)\n",
    "    campaigns = config_json['campaigns']"
   ]
  },
  {
   "cell_type": "code",
   "execution_count": 4,
   "metadata": {
    "collapsed": true
   },
   "outputs": [],
   "source": [
    "bonito = [(13120,{'level1':10154328017481183},['date','level1','level4']),\n",
    "          (13386,{'level1':7020493427},['date','level1','level4'])]"
   ]
  },
  {
   "cell_type": "code",
   "execution_count": 5,
   "metadata": {
    "collapsed": true
   },
   "outputs": [],
   "source": [
    "def get_moat_data(tile_id,start_date, end_date,level_filters=None,dimensions=None,**kwargs):\n",
    "    tile = MoatTile(tile_id,level_filters,dimensions)\n",
    "    local_filename = tile.get_data(start_date,end_date,moat_token)\n",
    "    return local_filename\n",
    "\n",
    "def upload_local_file(local_filename,dest_bucket,folder=None):\n",
    "    gcs = CloudStorage(credentialsFromVault)\n",
    "    if folder:\n",
    "        blob_name = folder + \"/\" + local_filename\n",
    "    else:\n",
    "        blob_name = local_filename\n",
    "    blob = gcs.upload_blob(dest_bucket, blob_name,local_filename,mode='filename')\n",
    "    return blob"
   ]
  },
  {
   "cell_type": "markdown",
   "metadata": {},
   "source": [
    "# Prototype WorkFlow"
   ]
  },
  {
   "cell_type": "code",
   "execution_count": 22,
   "metadata": {
    "collapsed": true
   },
   "outputs": [],
   "source": [
    "tile_id, level_filter, dimensions = (13120,{'level1':10154328017481183},['date','level1','level4'])"
   ]
  },
  {
   "cell_type": "code",
   "execution_count": 23,
   "metadata": {},
   "outputs": [
    {
     "name": "stdout",
     "output_type": "stream",
     "text": [
      "Data Available, Storing\n"
     ]
    }
   ],
   "source": [
    "filename = get_moat_data(tile_id,'20190801','20190901',level_filter,dimensions)"
   ]
  },
  {
   "cell_type": "code",
   "execution_count": null,
   "metadata": {},
   "outputs": [],
   "source": [
    "filename"
   ]
  },
  {
   "cell_type": "code",
   "execution_count": 9,
   "metadata": {},
   "outputs": [],
   "source": [
    "b = upload_local_file(filename,\"rtf_staging\",folder=\"brand_reporting\")"
   ]
  },
  {
   "cell_type": "code",
   "execution_count": 6,
   "metadata": {},
   "outputs": [
    {
     "name": "stdout",
     "output_type": "stream",
     "text": [
      "13120 {'level1': 10154328017481183} ['date', 'level1', 'level4']\n",
      "Data Available, Storing\n",
      "Stored at Moat_13120_10154328017481183.json\n",
      "Load Schema\n",
      "Try BQ Upload\n",
      "13386 {'level1': 7020493427} ['date', 'level1', 'level4']\n",
      "Data Available, Storing\n",
      "Stored at Moat_13386_7020493427.json\n",
      "Load Schema\n",
      "Try BQ Upload\n"
     ]
    }
   ],
   "source": [
    "import os\n",
    "os.environ['GOOGLE_CLOUD_PROJECT'] = 'essence-analytics-dwh'\n",
    "for x in bonito:\n",
    "    tile_id, level_filter, dimensions = x\n",
    "    print(tile_id, level_filter, dimensions)\n",
    "    filename = get_moat_data(tile_id,start_date,end_date,level_filter,dimensions)\n",
    "    print(\"Stored at {}\".format(filename))    \n",
    "    file_uri = upload_local_file(filename,\"rtf_staging\",folder=\"brand_reporting\")\n",
    "    \n",
    "    file_uri = \"gs://rtf_staging/\" + file_uri.name\n",
    "    \n",
    "    print(\"Load Schema\")\n",
    "    #schema_dict = moat_schema_dict[tile_id]\n",
    "    \n",
    "    dest_table = \"{}_{}\".format(\"NewMoat\",tile_id)\n",
    "    \n",
    "    print(\"Try BQ Upload\")\n",
    "        \n",
    "    bq = BigQuery(credentialsFromVault)\n",
    "    resp = bq.load_from_gcs(\"rtf_brand_reporting\",\n",
    "                     file_uri,\n",
    "                    dest_table,\n",
    "                    #schema=schema_dict['schema'],\n",
    "                    extension='json')\n",
    "    \n",
    "    \n",
    "    \n",
    "    "
   ]
  },
  {
   "cell_type": "code",
   "execution_count": 3,
   "metadata": {},
   "outputs": [
    {
     "data": {
      "text/plain": [
       "rtf_utils.moat_utils.MoatTile"
      ]
     },
     "execution_count": 3,
     "metadata": {},
     "output_type": "execute_result"
    }
   ],
   "source": [
    "MoatTile"
   ]
  },
  {
   "cell_type": "code",
   "execution_count": 13,
   "metadata": {},
   "outputs": [],
   "source": [
    "import requests\n",
    "auth_header = 'Bearer {}'.format(moat_token)\n",
    "\n",
    "fields = [\"impressions_analyzed\",\n",
    "                    \"loads_unfiltered\",\n",
    "                    \"susp_human\",\n",
    "                    \"human_and_viewable\",\n",
    "                    ] \n",
    "\n",
    "query = {\n",
    "                'metrics': ','.join(['level1']),\n",
    "                'start': start_date,\n",
    "                'end': end_date,\n",
    "                'brandId':13120, ## this is the tile ID \n",
    "                } \n",
    "\n",
    "\n",
    "resp = requests.get('https://api.moat.com/1/stats.json',\n",
    "                        params=query,\n",
    "                        headers={'Authorization': auth_header,\n",
    "                                    'User-agent': 'Essence Global 1.0'}\n",
    "                       )\n",
    "r = resp.json()"
   ]
  },
  {
   "cell_type": "code",
   "execution_count": 14,
   "metadata": {},
   "outputs": [
    {
     "data": {
      "text/plain": [
       "{'data_available': True,\n",
       " 'query': {'end': '20191001', 'metrics': 'level1', 'start': '20190918'},\n",
       " 'results': {'details': [{'level1_id': '1376497225955242',\n",
       "    'level1_label': 'Google | NA | USD | GSA'},\n",
       "   {'level1_id': '334868853997818',\n",
       "    'level1_label': 'Google | EMEA | GBP | Multi App'},\n",
       "   {'level1_id': '10154962304896183',\n",
       "    'level1_label': 'Google | EMEA | GBP | Home | GB'},\n",
       "   {'level1_id': '10155942789716183',\n",
       "    'level1_label': 'Google | EMEA | USD | Chromebook'},\n",
       "   {'level1_id': '10154328017481183',\n",
       "    'level1_label': 'Google | NA | USD | Pixel'},\n",
       "   {'level1_id': '599549490505228',\n",
       "    'level1_label': 'Google | EMEA | USD | Google Ads'},\n",
       "   {'level1_id': '645954942417705',\n",
       "    'level1_label': 'Google | EMEA | USD | YouTube Music | Brand'},\n",
       "   {'level1_id': '10155755517181183',\n",
       "    'level1_label': 'Google | EMEA | USD | Google My Business'},\n",
       "   {'level1_id': '10154379737626183',\n",
       "    'level1_label': 'Google | EMEA | GBP | Pixel | UK'},\n",
       "   {'level1_id': '10155591148561183',\n",
       "    'level1_label': 'Google | NA | USD | Grow with Google'},\n",
       "   {'level1_id': '265724167380691',\n",
       "    'level1_label': 'Google | EMEA | USD | G Suite | 4C'},\n",
       "   {'level1_id': '1659729054141579',\n",
       "    'level1_label': 'Google | NA | USD | YouTube Music'}],\n",
       "  'summary': []}}"
      ]
     },
     "execution_count": 14,
     "metadata": {},
     "output_type": "execute_result"
    }
   ],
   "source": [
    "r"
   ]
  },
  {
   "cell_type": "code",
   "execution_count": null,
   "metadata": {},
   "outputs": [],
   "source": []
  }
 ],
 "metadata": {
  "kernelspec": {
   "display_name": "Python 3",
   "language": "python",
   "name": "python3"
  },
  "language_info": {
   "codemirror_mode": {
    "name": "ipython",
    "version": 3
   },
   "file_extension": ".py",
   "mimetype": "text/x-python",
   "name": "python",
   "nbconvert_exporter": "python",
   "pygments_lexer": "ipython3",
   "version": "3.6.3"
  }
 },
 "nbformat": 4,
 "nbformat_minor": 2
}
