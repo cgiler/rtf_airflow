{
 "cells": [
  {
   "cell_type": "markdown",
   "metadata": {},
   "source": [
    "## Moat Brand Reporting Refresh"
   ]
  },
  {
   "cell_type": "code",
   "execution_count": 1,
   "metadata": {
    "collapsed": true
   },
   "outputs": [],
   "source": [
    "from rtf_utils.moat_utils import MoatTile\n",
    "from essence.analytics.platform import securedcredentials as secure_creds\n",
    "from rtf_utils.gcp_utils import BigQuery,CloudStorage\n",
    "import warnings\n",
    "\n",
    "warnings.filterwarnings(\"ignore\", \"Your application has authenticated using end user credentials\")\n",
    "import json"
   ]
  },
  {
   "cell_type": "code",
   "execution_count": 2,
   "metadata": {},
   "outputs": [],
   "source": [
    "service_account_email='131786951123-compute@developer.gserviceaccount.com' ## gcp analytics service account\n",
    "PROJECT_ID='essence-analytics-dwh'\n",
    "\n",
    "credentialsFromVault=secure_creds.getCredentialsFromEssenceVault(service_account_email)\n",
    "\n",
    "moat_token = secure_creds.getDataFromEssenceVault('Moat_Token_Google')"
   ]
  },
  {
   "cell_type": "code",
   "execution_count": 3,
   "metadata": {},
   "outputs": [],
   "source": [
    "start_date = '20190701'\n",
    "end_date = '20190917'"
   ]
  },
  {
   "cell_type": "code",
   "execution_count": 4,
   "metadata": {},
   "outputs": [],
   "source": [
    "with open('dags/brand_report_task_queue.json') as json_file:\n",
    "    config_json = json.load(json_file)\n",
    "    campaigns = config_json['campaigns']"
   ]
  },
  {
   "cell_type": "code",
   "execution_count": 21,
   "metadata": {
    "collapsed": true
   },
   "outputs": [],
   "source": [
    "bonito = [(13120,{'level1':10154328017481183},['date','level4']),\n",
    "          (13386,{'level1':7020493427},['date','level4'])]"
   ]
  },
  {
   "cell_type": "code",
   "execution_count": 67,
   "metadata": {
    "collapsed": true
   },
   "outputs": [],
   "source": [
    "def get_moat_data(tile_id,start_date, end_date,level_filters=None,dimensions=None,**kwargs):\n",
    "    tile = MoatTile(tile_id=tile_id,level_filters=level_filters,dimensions=dimensions)\n",
    "    local_filename = tile.get_data(start_date,end_date,moat_token)\n",
    "    return local_filename\n",
    "\n",
    "def upload_local_file(local_filename,dest_bucket,folder=None):\n",
    "    gcs = CloudStorage(credentialsFromVault)\n",
    "    if folder:\n",
    "        blob_name = folder + \"/\" + local_filename\n",
    "    else:\n",
    "        blob_name = local_filename\n",
    "    gcs.upload_blob(dest_bucket, blob_name,local_filename,mode='filename')\n",
    "    print(\"File Uploaded\")\n",
    "    return \"gs://\" + dest_bucket + \"/\" + blob_name"
   ]
  },
  {
   "cell_type": "code",
   "execution_count": 69,
   "metadata": {},
   "outputs": [],
   "source": [
    "from rtf_utils.bq_schema import moat_schema_dict"
   ]
  },
  {
   "cell_type": "markdown",
   "metadata": {},
   "source": [
    "# Prototype WorkFlow"
   ]
  },
  {
   "cell_type": "code",
   "execution_count": 71,
   "metadata": {},
   "outputs": [
    {
     "name": "stdout",
     "output_type": "stream",
     "text": [
      "Data Available, Storing\n",
      "Stored at 13120_V_instagram.json\n",
      "File Uploaded\n",
      "Trying Schema\n",
      "try upload\n",
      "{'_retry': <google.api_core.retry.Retry object at 0x10ffae1d0>, '_result': None, '_exception': None, '_result_set': False, '_polling_thread': None, '_done_callbacks': [], '_properties': {'kind': 'bigquery#job', 'etag': 'v4UlvvyvzjZVKwueO1LFpw==', 'id': 'essence-analytics-dwh:US.e17ee46a-ec11-4ac5-b91f-b6b947f1a979', 'selfLink': 'https://www.googleapis.com/bigquery/v2/projects/essence-analytics-dwh/jobs/e17ee46a-ec11-4ac5-b91f-b6b947f1a979?location=US', 'user_email': '131786951123-compute@developer.gserviceaccount.com', 'configuration': {'load': {'sourceUris': ['gs://rtf_staging/brand_reporting/13120_V_instagram.json'], 'schema': {'fields': [{'name': 'date', 'type': 'DATE', 'mode': 'REQUIRED'}, {'name': 'level1_id', 'type': 'INTEGER', 'mode': 'REQUIRED'}, {'name': 'level1_label', 'type': 'STRING', 'mode': 'REQUIRED'}, {'name': 'level4_id', 'type': 'INTEGER', 'mode': 'REQUIRED'}, {'name': 'level4_label', 'type': 'STRING', 'mode': 'REQUIRED'}, {'name': 'impressions_analyzed', 'type': 'INTEGER', 'mode': 'NULLABLE'}, {'name': 'player_audible_full_vis_half_time_sum', 'type': 'FLOAT', 'mode': 'NULLABLE'}, {'name': 'player_audible_on_complete_sum', 'type': 'FLOAT', 'mode': 'NULLABLE'}, {'name': 'player_vis_and_aud_on_complete_sum', 'type': 'FLOAT', 'mode': 'NULLABLE'}, {'name': 'player_visible_on_complete_sum', 'type': 'FLOAT', 'mode': 'NULLABLE'}, {'name': 'reached_complete_sum', 'type': 'FLOAT', 'mode': 'NULLABLE'}, {'name': 'reached_first_quart_sum', 'type': 'FLOAT', 'mode': 'NULLABLE'}, {'name': 'reached_second_quart_sum', 'type': 'FLOAT', 'mode': 'NULLABLE'}, {'name': 'reached_third_quart_sum', 'type': 'FLOAT', 'mode': 'NULLABLE'}, {'name': 'susp_human', 'type': 'FLOAT', 'mode': 'NULLABLE'}, {'name': 'susp_human_and_inview_gm_meas_sum', 'type': 'FLOAT', 'mode': 'NULLABLE'}, {'name': 'susp_valid', 'type': 'FLOAT', 'mode': 'NULLABLE'}, {'name': 'susp_valid_and_inview_gm_meas_sum', 'type': 'FLOAT', 'mode': 'NULLABLE'}]}, 'destinationTable': {'projectId': 'essence-analytics-dwh', 'datasetId': 'rtf_brand_reporting', 'tableId': 'vid_instagram_13120'}, 'writeDisposition': 'WRITE_TRUNCATE', 'sourceFormat': 'NEWLINE_DELIMITED_JSON'}, 'jobType': 'LOAD'}, 'jobReference': {'projectId': 'essence-analytics-dwh', 'jobId': 'e17ee46a-ec11-4ac5-b91f-b6b947f1a979', 'location': 'US'}, 'statistics': {'creationTime': 1568847259740.0, 'startTime': 1568847260479.0}, 'status': {'state': 'RUNNING'}}, '_client': <google.cloud.bigquery.client.Client object at 0x11075f9b0>, '_completion_lock': <unlocked _thread.lock object at 0x110e8cf30>, 'source_uris': ['gs://rtf_staging/brand_reporting/13120_V_instagram.json'], '_destination': TableReference(DatasetReference('essence-analytics-dwh', 'rtf_brand_reporting'), 'vid_instagram_13120'), '_configuration': <google.cloud.bigquery.job.LoadJobConfig object at 0x110eda7b8>}\n",
      "Data Available, Storing\n",
      "Stored at 13386_V_youtube-trueview_na.json\n",
      "File Uploaded\n",
      "Trying Schema\n",
      "try upload\n",
      "{'_retry': <google.api_core.retry.Retry object at 0x10ffae1d0>, '_result': None, '_exception': None, '_result_set': False, '_polling_thread': None, '_done_callbacks': [], '_properties': {'kind': 'bigquery#job', 'etag': 'Az5ecHGwzrLhxDRRadbrUg==', 'id': 'essence-analytics-dwh:US.98363baf-cad5-46d7-8c1f-7cb8f422653a', 'selfLink': 'https://www.googleapis.com/bigquery/v2/projects/essence-analytics-dwh/jobs/98363baf-cad5-46d7-8c1f-7cb8f422653a?location=US', 'user_email': '131786951123-compute@developer.gserviceaccount.com', 'configuration': {'load': {'sourceUris': ['gs://rtf_staging/brand_reporting/13386_V_youtube-trueview_na.json'], 'schema': {'fields': [{'name': 'date', 'type': 'DATE', 'mode': 'REQUIRED'}, {'name': 'level2_id', 'type': 'INTEGER', 'mode': 'REQUIRED'}, {'name': 'level2_label', 'type': 'STRING', 'mode': 'REQUIRED'}, {'name': 'level4_id', 'type': 'INTEGER', 'mode': 'REQUIRED'}, {'name': 'level4_label', 'type': 'STRING', 'mode': 'REQUIRED'}, {'name': '_5_sec_in_view_impressions', 'type': 'INTEGER', 'mode': 'NULLABLE'}, {'name': 'impressions_analyzed', 'type': 'INTEGER', 'mode': 'NULLABLE'}, {'name': 'player_audible_full_vis_half_time_sum', 'type': 'FLOAT', 'mode': 'NULLABLE'}, {'name': 'player_audible_on_complete_sum', 'type': 'FLOAT', 'mode': 'NULLABLE'}, {'name': 'player_vis_and_aud_on_complete_sum', 'type': 'FLOAT', 'mode': 'NULLABLE'}, {'name': 'player_visible_on_complete_sum', 'type': 'FLOAT', 'mode': 'NULLABLE'}, {'name': 'reached_complete_sum', 'type': 'FLOAT', 'mode': 'NULLABLE'}, {'name': 'reached_first_quart_sum', 'type': 'FLOAT', 'mode': 'NULLABLE'}, {'name': 'reached_second_quart_sum', 'type': 'FLOAT', 'mode': 'NULLABLE'}, {'name': 'reached_third_quart_sum', 'type': 'FLOAT', 'mode': 'NULLABLE'}, {'name': 'susp_human', 'type': 'FLOAT', 'mode': 'NULLABLE'}, {'name': 'susp_human_and_inview_gm_meas_sum', 'type': 'FLOAT', 'mode': 'NULLABLE'}, {'name': 'susp_valid', 'type': 'FLOAT', 'mode': 'NULLABLE'}, {'name': 'susp_valid_and_inview_gm_meas_sum', 'type': 'FLOAT', 'mode': 'NULLABLE'}]}, 'destinationTable': {'projectId': 'essence-analytics-dwh', 'datasetId': 'rtf_brand_reporting', 'tableId': 'vid_youtube_trueview_na_13386'}, 'writeDisposition': 'WRITE_TRUNCATE', 'sourceFormat': 'NEWLINE_DELIMITED_JSON'}, 'jobType': 'LOAD'}, 'jobReference': {'projectId': 'essence-analytics-dwh', 'jobId': '98363baf-cad5-46d7-8c1f-7cb8f422653a', 'location': 'US'}, 'statistics': {'creationTime': 1568847272519.0, 'startTime': 1568847273423.0}, 'status': {'state': 'RUNNING'}}, '_client': <google.cloud.bigquery.client.Client object at 0x11075f9b0>, '_completion_lock': <unlocked _thread.lock object at 0x110e91c38>, 'source_uris': ['gs://rtf_staging/brand_reporting/13386_V_youtube-trueview_na.json'], '_destination': TableReference(DatasetReference('essence-analytics-dwh', 'rtf_brand_reporting'), 'vid_youtube_trueview_na_13386'), '_configuration': <google.cloud.bigquery.job.LoadJobConfig object at 0x110ecc0f0>}\n"
     ]
    }
   ],
   "source": [
    "for x in bonito:\n",
    "    tile_id, level_filter,dimensions = x\n",
    "    \n",
    "    filename = get_moat_data(tile_id,start_date,end_date,level_filter,dimensions)\n",
    "    print(\"Stored at {}\".format(filename))    \n",
    "    file_uri = upload_local_file(filename,\"rtf_staging\",folder=\"brand_reporting\")\n",
    "    \n",
    "    print(\"Trying Schema\")\n",
    "    schema_dict = moat_schema_dict[tile_id]\n",
    "    \n",
    "    dest_table = \"{}_{}\".format(schema_dict['bq_name'],tile_id)\n",
    "    \n",
    "    print(\"try upload\")\n",
    "    \n",
    "    resp = bq.load_from_gcs(\"rtf_brand_reporting\",\n",
    "                     file_uri,\n",
    "                    dest_table,\n",
    "                    schema=schema_dict['schema'],\n",
    "                    extension='json')\n",
    "    \n",
    "    #add cleaning step\n",
    "    print(resp['jobReference']) "
   ]
  },
  {
   "cell_type": "code",
   "execution_count": 59,
   "metadata": {},
   "outputs": [],
   "source": [
    "from rtf_utils.gcp_utils import BigQuery"
   ]
  }
 ],
 "metadata": {
  "kernelspec": {
   "display_name": "Python 3",
   "language": "python",
   "name": "python3"
  },
  "language_info": {
   "codemirror_mode": {
    "name": "ipython",
    "version": 3
   },
   "file_extension": ".py",
   "mimetype": "text/x-python",
   "name": "python",
   "nbconvert_exporter": "python",
   "pygments_lexer": "ipython3",
   "version": "3.6.3"
  }
 },
 "nbformat": 4,
 "nbformat_minor": 2
}
