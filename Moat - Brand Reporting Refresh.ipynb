{
 "cells": [
  {
   "cell_type": "markdown",
   "metadata": {},
   "source": [
    "## Moat Brand Reporting Refresh"
   ]
  },
  {
   "cell_type": "code",
   "execution_count": 1,
   "metadata": {},
   "outputs": [],
   "source": [
    "%load_ext autoreload"
   ]
  },
  {
   "cell_type": "code",
   "execution_count": 2,
   "metadata": {},
   "outputs": [],
   "source": [
    "%autoreload 2"
   ]
  },
  {
   "cell_type": "code",
   "execution_count": 11,
   "metadata": {},
   "outputs": [],
   "source": [
    "from rtf_utils.moat_utils import MoatTile\n",
    "from essence.analytics.platform import securedcredentials as secure_creds\n",
    "from rtf_utils.gcp_utils import BigQuery,CloudStorage\n",
    "import warnings\n",
    "from rtf_utils.bq_schema import moat_schema_dict\n",
    "import json\n",
    "import logging"
   ]
  },
  {
   "cell_type": "code",
   "execution_count": 12,
   "metadata": {},
   "outputs": [],
   "source": [
    "logger = logging.getLogger()\n",
    "logger.setLevel(logging.INFO)\n",
    "warnings.filterwarnings(\"ignore\", \"Your application has authenticated using end user credentials\")"
   ]
  },
  {
   "cell_type": "code",
   "execution_count": 13,
   "metadata": {},
   "outputs": [
    {
     "name": "stdout",
     "output_type": "stream",
     "text": [
      "Creds Loaded\n",
      "Token Loaded\n"
     ]
    }
   ],
   "source": [
    "service_account_email='131786951123-compute@developer.gserviceaccount.com' ## gcp analytics service account\n",
    "PROJECT_ID='essence-analytics-dwh'\n",
    "\n",
    "credentialsFromVault=secure_creds.getCredentialsFromEssenceVault(service_account_email)\n",
    "print(\"Creds Loaded\")\n",
    "moat_token = secure_creds.getDataFromEssenceVault('Moat_Token_Google')\n",
    "print(\"Token Loaded\")"
   ]
  },
  {
   "cell_type": "code",
   "execution_count": 15,
   "metadata": {},
   "outputs": [],
   "source": [
    "start_date = '20191001'\n",
    "end_date = '20191014'"
   ]
  },
  {
   "cell_type": "code",
   "execution_count": 1,
   "metadata": {},
   "outputs": [
    {
     "ename": "NameError",
     "evalue": "name 'json' is not defined",
     "output_type": "error",
     "traceback": [
      "\u001b[0;31m---------------------------------------------------------------------------\u001b[0m",
      "\u001b[0;31mNameError\u001b[0m                                 Traceback (most recent call last)",
      "\u001b[0;32m<ipython-input-1-46d3fbc2225a>\u001b[0m in \u001b[0;36m<module>\u001b[0;34m()\u001b[0m\n\u001b[1;32m      1\u001b[0m \u001b[0;32mwith\u001b[0m \u001b[0mopen\u001b[0m\u001b[0;34m(\u001b[0m\u001b[0;34m'dags/brand_report_task_queue.json'\u001b[0m\u001b[0;34m)\u001b[0m \u001b[0;32mas\u001b[0m \u001b[0mjson_file\u001b[0m\u001b[0;34m:\u001b[0m\u001b[0;34m\u001b[0m\u001b[0m\n\u001b[0;32m----> 2\u001b[0;31m     \u001b[0mconfig_json\u001b[0m \u001b[0;34m=\u001b[0m \u001b[0mjson\u001b[0m\u001b[0;34m.\u001b[0m\u001b[0mload\u001b[0m\u001b[0;34m(\u001b[0m\u001b[0mjson_file\u001b[0m\u001b[0;34m)\u001b[0m\u001b[0;34m\u001b[0m\u001b[0m\n\u001b[0m\u001b[1;32m      3\u001b[0m     \u001b[0mcampaigns\u001b[0m \u001b[0;34m=\u001b[0m \u001b[0mconfig_json\u001b[0m\u001b[0;34m[\u001b[0m\u001b[0;34m'campaigns'\u001b[0m\u001b[0;34m]\u001b[0m\u001b[0;34m\u001b[0m\u001b[0m\n",
      "\u001b[0;31mNameError\u001b[0m: name 'json' is not defined"
     ]
    }
   ],
   "source": [
    "with open('dags/brand_report_task_queue.json') as json_file:\n",
    "    config_json = json.load(json_file)\n",
    "    campaigns = config_json['campaigns']"
   ]
  },
  {
   "cell_type": "code",
   "execution_count": 16,
   "metadata": {},
   "outputs": [],
   "source": [
    "## Define Moat Tasks for Stadia/Nest/Assistant\n",
    "Q4 = [(2506,{'level1':22783112},['date','level1','level3']), ## disp stadia,\n",
    "      (2506,{'level1':23221764},['date','level1','level3']), ## disp nest 1,\n",
    "      (2506,{'level1':23197607},['date','level1','level3']), ## disp nest 2\n",
    "      (2506,{'level1':23278016},['date','level1','level3']), ## disp assistant\n",
    "      (2698,{'level1':22783112},['date','level1','level3']), ## vid stadia,\n",
    "      (2698,{'level1':23221764},['date','level1','level3']), ## vid nest 1,\n",
    "      (2698,{'level1':23197607},['date','level1','level3']), ## vid nest 2,\n",
    "      (2698,{'level1':23278016},['date','level1','level3']),\n",
    "      (6179366,{'level2':2604566125},['date','level2','level4']),## yt reserve - stadia\n",
    "      (6178833,{'level1':1533586},['date','level1','level4']),## yt res dbm  - assistant\n",
    "      (13386,{'level1':7492919005},['date','level1','level4']) ## stadia truview\n",
    " ]\n",
    "\n",
    "# need access to 6196284"
   ]
  },
  {
   "cell_type": "code",
   "execution_count": 16,
   "metadata": {},
   "outputs": [],
   "source": [
    "def get_moat_data(tile_id,start_date, end_date,level_filters=None,dimensions=None,**kwargs):\n",
    "    tile = MoatTile(tile_id,level_filters,dimensions)\n",
    "    local_filename = tile.get_data(start_date,end_date,moat_token)\n",
    "    return local_filename\n",
    "\n",
    "def upload_local_file(local_filename,dest_bucket,folder=None):\n",
    "    gcs = CloudStorage(credentialsFromVault)\n",
    "    if folder:\n",
    "        blob_name = folder + \"/\" + local_filename\n",
    "    else:\n",
    "        blob_name = local_filename\n",
    "    blob = gcs.upload_blob(dest_bucket, blob_name,local_filename,mode='filename')\n",
    "    return blob"
   ]
  },
  {
   "cell_type": "markdown",
   "metadata": {},
   "source": [
    "# Prototype WorkFlow"
   ]
  },
  {
   "cell_type": "code",
   "execution_count": 18,
   "metadata": {},
   "outputs": [
    {
     "name": "stderr",
     "output_type": "stream",
     "text": [
      "INFO:root:API Request Time\n"
     ]
    },
    {
     "name": "stdout",
     "output_type": "stream",
     "text": [
      "2506 {'level1': 22783112} ['date', 'level1', 'level3']\n"
     ]
    },
    {
     "name": "stderr",
     "output_type": "stream",
     "text": [
      "INFO:root:2506_22783112.json Saved\n"
     ]
    },
    {
     "name": "stdout",
     "output_type": "stream",
     "text": [
      "Stored at 2506_22783112.json\n"
     ]
    },
    {
     "name": "stderr",
     "output_type": "stream",
     "text": [
      "INFO:root:File uploaded as brand_reporting/2506_22783112.json.\n",
      "INFO:root:API Request Time\n"
     ]
    },
    {
     "name": "stdout",
     "output_type": "stream",
     "text": [
      "2506 {'level1': 23221764} ['date', 'level1', 'level3']\n"
     ]
    },
    {
     "name": "stderr",
     "output_type": "stream",
     "text": [
      "INFO:root:2506_23221764.json Saved\n"
     ]
    },
    {
     "name": "stdout",
     "output_type": "stream",
     "text": [
      "Stored at 2506_23221764.json\n"
     ]
    },
    {
     "name": "stderr",
     "output_type": "stream",
     "text": [
      "INFO:root:File uploaded as brand_reporting/2506_23221764.json.\n",
      "INFO:root:API Request Time\n"
     ]
    },
    {
     "name": "stdout",
     "output_type": "stream",
     "text": [
      "2506 {'level1': 23197607} ['date', 'level1', 'level3']\n"
     ]
    },
    {
     "name": "stderr",
     "output_type": "stream",
     "text": [
      "INFO:root:2506_23197607.json Saved\n"
     ]
    },
    {
     "name": "stdout",
     "output_type": "stream",
     "text": [
      "Stored at 2506_23197607.json\n"
     ]
    },
    {
     "name": "stderr",
     "output_type": "stream",
     "text": [
      "INFO:root:File uploaded as brand_reporting/2506_23197607.json.\n",
      "INFO:root:API Request Time\n"
     ]
    },
    {
     "name": "stdout",
     "output_type": "stream",
     "text": [
      "2506 {'level1': 23278016} ['date', 'level1', 'level3']\n"
     ]
    },
    {
     "name": "stderr",
     "output_type": "stream",
     "text": [
      "INFO:root:2506_23278016.json Saved\n"
     ]
    },
    {
     "name": "stdout",
     "output_type": "stream",
     "text": [
      "Stored at 2506_23278016.json\n"
     ]
    },
    {
     "name": "stderr",
     "output_type": "stream",
     "text": [
      "INFO:root:File uploaded as brand_reporting/2506_23278016.json.\n"
     ]
    }
   ],
   "source": [
    "import os\n",
    "import time\n",
    "os.environ['GOOGLE_CLOUD_PROJECT'] = 'essence-analytics-dwh'\n",
    "#for x in bonito:\n",
    "for i,x in enumerate([\n",
    "    (2506,{'level1':22783112},['date','level1','level3']), ## disp stadia,\n",
    "      (2506,{'level1':23221764},['date','level1','level3']), ## disp nest 1,\n",
    "      (2506,{'level1':23197607},['date','level1','level3']), ## disp nest 2\n",
    "      (2506,{'level1':23278016},['date','level1','level3'])]\n",
    "    ):\n",
    "    time.sleep(10)\n",
    "    tile_id, level_filter, dimensions = x\n",
    "    print(tile_id, level_filter, dimensions)\n",
    "    filename = get_moat_data(tile_id,start_date,end_date,level_filter,dimensions)\n",
    "    \n",
    "    if filename:\n",
    "        print(\"Stored at {}\".format(filename))\n",
    "    else:\n",
    "        print(\"No Data\")\n",
    "        \n",
    "        continue    \n",
    "    \n",
    "    try:\n",
    "        file_uri = upload_local_file(filename,\"rtf_staging\",folder=\"brand_reporting\")\n",
    "        \n",
    "        \"\"\"file_uri = \"gs://rtf_staging/\" + file_uri.name\n",
    "    \n",
    "        print(\"Load Schema\")\n",
    "        #schema_dict = moat_schema_dict[tile_id]\n",
    "\n",
    "        dest_table = \"003_Moat_{}_{}\".format(tile_id,i)\n",
    "\n",
    "        print(\"Try BQ Upload: {}\".format(dest_table))\n",
    "\n",
    "        bq = BigQuery(credentialsFromVault)\n",
    "        resp = bq.load_from_gcs(\"rtf_br_reporting\",\n",
    "                         file_uri,\n",
    "                        dest_table,\n",
    "                        #schema=schema_dict['schema'],\n",
    "                        \n",
    "                        extension='json')\"\"\"\n",
    "    except Exception as e:\n",
    "        print(e)\n",
    "        continue"
   ]
  },
  {
   "cell_type": "code",
   "execution_count": 50,
   "metadata": {},
   "outputs": [],
   "source": [
    "file_uri = \"gs://rtf_staging/brand_reporting/Brand Report - Upload File 2019-10-07T2046.csv\"\n",
    "\n",
    "dest_table = \"003_DataLab_DailyPerformance\"\n",
    "\n",
    "bq.load_from_gcs(\"rtf_br_reporting\",\n",
    "                         file_uri,\n",
    "                        dest_table)\n",
    "                        #schema=schema_dict['schema']"
   ]
  },
  {
   "cell_type": "code",
   "execution_count": 19,
   "metadata": {},
   "outputs": [],
   "source": [
    "f = {'level1':123345}"
   ]
  },
  {
   "cell_type": "code",
   "execution_count": 22,
   "metadata": {},
   "outputs": [
    {
     "data": {
      "text/plain": [
       "123345"
      ]
     },
     "execution_count": 22,
     "metadata": {},
     "output_type": "execute_result"
    }
   ],
   "source": [
    "[*f.values()][0]"
   ]
  },
  {
   "cell_type": "code",
   "execution_count": 19,
   "metadata": {},
   "outputs": [
    {
     "ename": "TypeError",
     "evalue": "sequence item 0: expected str instance, NoneType found",
     "output_type": "error",
     "traceback": [
      "\u001b[0;31m---------------------------------------------------------------------------\u001b[0m",
      "\u001b[0;31mTypeError\u001b[0m                                 Traceback (most recent call last)",
      "\u001b[0;32m<ipython-input-19-c7598e91e200>\u001b[0m in \u001b[0;36m<module>\u001b[0;34m\u001b[0m\n\u001b[0;32m----> 1\u001b[0;31m \u001b[0;34m\"_\"\u001b[0m\u001b[0;34m.\u001b[0m\u001b[0mjoin\u001b[0m\u001b[0;34m(\u001b[0m\u001b[0;34m[\u001b[0m\u001b[0;32mNone\u001b[0m\u001b[0;34m,\u001b[0m\u001b[0;34m\"Kyle\"\u001b[0m\u001b[0;34m,\u001b[0m\u001b[0;34m'Hey'\u001b[0m\u001b[0;34m]\u001b[0m\u001b[0;34m)\u001b[0m\u001b[0;34m\u001b[0m\u001b[0m\n\u001b[0m",
      "\u001b[0;31mTypeError\u001b[0m: sequence item 0: expected str instance, NoneType found"
     ]
    }
   ],
   "source": [
    "\"_\".join([None,\"Kyle\",'Hey'])"
   ]
  },
  {
   "cell_type": "code",
   "execution_count": 20,
   "metadata": {},
   "outputs": [
    {
     "data": {
      "text/plain": [
       "'Kyle None'"
      ]
     },
     "execution_count": 20,
     "metadata": {},
     "output_type": "execute_result"
    }
   ],
   "source": [
    "\"Kyle {}\".format(None)"
   ]
  },
  {
   "cell_type": "code",
   "execution_count": 30,
   "metadata": {},
   "outputs": [
    {
     "data": {
      "text/plain": [
       "'we_Moat.json'"
      ]
     },
     "execution_count": 30,
     "metadata": {},
     "output_type": "execute_result"
    }
   ],
   "source": [
    "prefix = \"we\"\n",
    "base = \"Moat\" \n",
    "suffix = None\n",
    "extension = \".json\"\n",
    "\n",
    "l = [prefix,base,suffix]\n",
    "\n",
    "\"_\".join([x for x in l if x ])  + extension"
   ]
  },
  {
   "cell_type": "code",
   "execution_count": 24,
   "metadata": {},
   "outputs": [
    {
     "ename": "SyntaxError",
     "evalue": "invalid syntax (<ipython-input-24-a67a6d4ce7de>, line 1)",
     "output_type": "error",
     "traceback": [
      "\u001b[0;36m  File \u001b[0;32m\"<ipython-input-24-a67a6d4ce7de>\"\u001b[0;36m, line \u001b[0;32m1\u001b[0m\n\u001b[0;31m    [x if x is not None for x in l ]\u001b[0m\n\u001b[0m                          ^\u001b[0m\n\u001b[0;31mSyntaxError\u001b[0m\u001b[0;31m:\u001b[0m invalid syntax\n"
     ]
    }
   ],
   "source": [
    "[x if x is not None for x in l ]"
   ]
  },
  {
   "cell_type": "code",
   "execution_count": 4,
   "metadata": {},
   "outputs": [],
   "source": [
    "\n",
    "tasks = {\n",
    "        2506:[\n",
    "                ({'level1':22783112},['date','level1','level3']), ## disp stadia,\n",
    "                ({'level1':23221764},['date','level1','level3']), ## disp nest 1,\n",
    "                ({'level1':23197607},['date','level1','level3']), ## disp nest 2\n",
    "                ({'level1':23278016},['date','level1','level3']), ## disp assistant\n",
    "                ({'level1':22783112},['date','level1','level3']), ## vid stadia,\n",
    "                ({'level1':23221764},['date','level1','level3']), ## vid nest 1,\n",
    "                ({'level1':23197607},['date','level1','level3']), ## vid nest 2,\n",
    "                ({'level1':23278016},['date','level1','level3'])\n",
    "                ],\n",
    "        6179366:[\n",
    "                ({'level2':2604566125},['date','level2','level4'])\n",
    "                ],## yt reserve - stadia\n",
    "        6178833:[\n",
    "            ({'level1':1533586},['date','level1','level4'])## yt res dbm  - assistant\n",
    "                ],\n",
    "        13386:[\n",
    "            ({'level1':7492919005},['date','level1','level4'])\n",
    "                ]}"
   ]
  },
  {
   "cell_type": "code",
   "execution_count": 11,
   "metadata": {},
   "outputs": [
    {
     "name": "stdout",
     "output_type": "stream",
     "text": [
      "6178833\n",
      "{'level1': 1533586}\n",
      "['date', 'level1', 'level4']\n",
      "2506\n",
      "{'level1': 22783112}\n",
      "['date', 'level1', 'level3']\n",
      "{'level1': 23221764}\n",
      "['date', 'level1', 'level3']\n",
      "{'level1': 23197607}\n",
      "['date', 'level1', 'level3']\n",
      "{'level1': 23278016}\n",
      "['date', 'level1', 'level3']\n",
      "{'level1': 22783112}\n",
      "['date', 'level1', 'level3']\n",
      "{'level1': 23221764}\n",
      "['date', 'level1', 'level3']\n",
      "{'level1': 23197607}\n",
      "['date', 'level1', 'level3']\n",
      "{'level1': 23278016}\n",
      "['date', 'level1', 'level3']\n",
      "13386\n",
      "{'level1': 7492919005}\n",
      "['date', 'level1', 'level4']\n",
      "6179366\n",
      "{'level2': 2604566125}\n",
      "['date', 'level2', 'level4']\n"
     ]
    }
   ],
   "source": [
    "for k,v in tasks.items():\n",
    "    print(k)\n",
    "    for request in v:\n",
    "        a,b = request\n",
    "        print(a)\n",
    "        print(b)"
   ]
  },
  {
   "cell_type": "code",
   "execution_count": 12,
   "metadata": {},
   "outputs": [
    {
     "ename": "NameError",
     "evalue": "name 'rand' is not defined",
     "output_type": "error",
     "traceback": [
      "\u001b[0;31m---------------------------------------------------------------------------\u001b[0m",
      "\u001b[0;31mNameError\u001b[0m                                 Traceback (most recent call last)",
      "\u001b[0;32m<ipython-input-12-82d39f516111>\u001b[0m in \u001b[0;36m<module>\u001b[0;34m\u001b[0m\n\u001b[0;32m----> 1\u001b[0;31m \u001b[0mrand\u001b[0m\u001b[0;34m\u001b[0m\u001b[0m\n\u001b[0m",
      "\u001b[0;31mNameError\u001b[0m: name 'rand' is not defined"
     ]
    }
   ],
   "source": [
    "rand"
   ]
  },
  {
   "cell_type": "code",
   "execution_count": 13,
   "metadata": {},
   "outputs": [],
   "source": [
    "import random"
   ]
  },
  {
   "cell_type": "code",
   "execution_count": 19,
   "metadata": {},
   "outputs": [
    {
     "data": {
      "text/plain": [
       "1"
      ]
     },
     "execution_count": 19,
     "metadata": {},
     "output_type": "execute_result"
    }
   ],
   "source": [
    "random.randint(1,5)"
   ]
  },
  {
   "cell_type": "code",
   "execution_count": null,
   "metadata": {},
   "outputs": [],
   "source": [
    "dd"
   ]
  },
  {
   "cell_type": "code",
   "execution_count": 22,
   "metadata": {},
   "outputs": [],
   "source": [
    "import time\n",
    "time.sleep(.5)"
   ]
  },
  {
   "cell_type": "code",
   "execution_count": 23,
   "metadata": {},
   "outputs": [],
   "source": [
    "import json"
   ]
  },
  {
   "cell_type": "code",
   "execution_count": 31,
   "metadata": {},
   "outputs": [],
   "source": [
    "tasks1 = {\n",
    "        2506:[\n",
    "                ({'level1':22783112},['date','level1','level3']), ## disp stadia,\n",
    "                ({'level1':23221764},['date','level1','level3']), ## disp nest 1,\n",
    "                ({'level1':23197607},['date','level1','level3']), ## disp nest 2\n",
    "                ({'level1':23278016},['date','level1','level3']) ## disp assistant\n",
    "            ]}"
   ]
  },
  {
   "cell_type": "code",
   "execution_count": 32,
   "metadata": {},
   "outputs": [],
   "source": [
    "with open(\"tasks2.json\",'w') as f:\n",
    "    json.dump(tasks1,f)"
   ]
  },
  {
   "cell_type": "code",
   "execution_count": 33,
   "metadata": {},
   "outputs": [],
   "source": [
    "schema = [\n",
    "{'name':'date','type':'DATE','mode':'REQUIRED'},\n",
    "{'name':'level1_id','type':'INTEGER','mode':'REQUIRED'},\n",
    "{'name':'level1_label','type':'STRING', 'mode':'REQUIRED'},\n",
    "{'name':'level3_id','type':'INTEGER', 'mode':'REQUIRED'},\n",
    "{'name':'level3_label','type':'STRING', 'mode':'REQUIRED'},\n",
    "{'name':'loads_unfiltered', 'type':'INTEGER', 'mode':'NULLABLE'},\n",
    "{'name':'impressions_analyzed', 'type':'INTEGER', 'mode':'NULLABLE'}, \n",
    "{'name':'moat_score', 'type':'INTEGER', 'mode':'NULLABLE'}]"
   ]
  },
  {
   "cell_type": "code",
   "execution_count": 34,
   "metadata": {},
   "outputs": [
    {
     "data": {
      "text/plain": [
       "[{'mode': 'REQUIRED', 'name': 'date', 'type': 'DATE'},\n",
       " {'mode': 'REQUIRED', 'name': 'level1_id', 'type': 'INTEGER'},\n",
       " {'mode': 'REQUIRED', 'name': 'level1_label', 'type': 'STRING'},\n",
       " {'mode': 'REQUIRED', 'name': 'level3_id', 'type': 'INTEGER'},\n",
       " {'mode': 'REQUIRED', 'name': 'level3_label', 'type': 'STRING'},\n",
       " {'mode': 'NULLABLE', 'name': 'loads_unfiltered', 'type': 'INTEGER'},\n",
       " {'mode': 'NULLABLE', 'name': 'impressions_analyzed', 'type': 'INTEGER'},\n",
       " {'mode': 'NULLABLE', 'name': 'moat_score', 'type': 'INTEGER'}]"
      ]
     },
     "execution_count": 34,
     "metadata": {},
     "output_type": "execute_result"
    }
   ],
   "source": [
    "schema"
   ]
  },
  {
   "cell_type": "code",
   "execution_count": 1,
   "metadata": {},
   "outputs": [
    {
     "ename": "SyntaxError",
     "evalue": "invalid syntax (<ipython-input-1-41f01388f33e>, line 2)",
     "output_type": "error",
     "traceback": [
      "\u001b[0;36m  File \u001b[0;32m\"<ipython-input-1-41f01388f33e>\"\u001b[0;36m, line \u001b[0;32m2\u001b[0m\n\u001b[0;31m    {\"name\":\"loads_unfiltered\",\"type\": \"INTEGER\",\"mode\": \"NULLABLE\"),\u001b[0m\n\u001b[0m                                                                   ^\u001b[0m\n\u001b[0;31mSyntaxError\u001b[0m\u001b[0;31m:\u001b[0m invalid syntax\n"
     ]
    }
   ],
   "source": [
    "base_schema = [\n",
    "{\"name\":\"loads_unfiltered\",\"type\": \"INTEGER\",\"mode\": \"NULLABLE\"),\n",
    "{\"name\":\"impressions_analyzed\",\"type\": \"INTEGER\",\"mode\": \"NULLABLE\"),\n",
    "{\"name\":\"susp_human\",\"type\": \"FLOAT\",\"mode\": \"NULLABLE\"),\n",
    "{\"name\":\"susp_valid\",\"type\": \"FLOAT\",\"mode\": \"NULLABLE\"),\n",
    "{\"name\":\"human_and_viewable\",\"type\": \"INTEGER\",\"mode\": \"NULLABLE\"),\n",
    "{\"name\":\"valid_and_viewable\",\"type\": \"INTEGER\",\"mode\": \"NULLABLE\")\n",
    "]\n",
    "\n",
    "video_schema = [   \n",
    "{\"name\":\"reached_first_quart_sum\",\"type\": \"INTEGER\",\"mode\": \"NULLABLE\"),\n",
    "{\"name\":\"reached_second_quart_sum\",\"type\": \"INTEGER\",\"mode\": \"NULLABLE\"),\n",
    "{\"name\":\"reached_third_quart_sum\",\"type\": \"INTEGER\",\"mode\": \"NULLABLE\"),\n",
    "{\"name\":\"reached_complete_sum\",\"type\": \"INTEGER\",\"mode\": \"NULLABLE\"),\n",
    "{\"name\":\"player_audible_on_complete_sum\",\"type\": \"INTEGER\",\"mode\": \"NULLABLE\"),\n",
    "{\"name\":\"player_visible_on_complete_sum\",\"type\": \"INTEGER\",\"mode\": \"NULLABLE\"),\n",
    "{\"name\":\"player_audible_full_vis_half_time_sum\",\"type\": \"INTEGER\",\"mode\": \"NULLABLE\"),\n",
    "{\"name\":\"player_vis_and_aud_on_complete_sum\",\"type\": \"INTEGER\",\"mode\": \"NULLABLE\"),\n",
    "]\n",
    "\n",
    "\n",
    "moat_schemas = {\n",
    "\n",
    "2506 :[\n",
    "{\"name\":\"date\",\"type\":\"DATE\",\"mode\":\"REQUIRED\"},\n",
    "{\"name\":\"level1_id\",\"type\":\"INTEGER\",\"mode\":\"REQUIRED\"},\n",
    "{\"name\":\"level1_label\",\"type\":\"STRING\", \"mode\":\"REQUIRED\"},\n",
    "{\"name\":\"level3_id\",\"type\":\"INTEGER\", \"mode\":\"REQUIRED\"},\n",
    "{\"name\":\"level3_label\",\"type\":\"STRING\", \"mode\":\"REQUIRED\"}] + base_schema + [\n",
    "{\"name\":\"human_and_viewable\", \"type\":\"INTEGER\", \"mode\":\"NULLABLE\"},\n",
    "{\"name\":\"valid_and_viewable\", \"type\":\"INTEGER\", \"mode\":\"NULLABLE\"},\n",
    "{\"name\":\"moat_score\", \"type\":\"INTEGER\", \"mode\":\"NULLABLE\"},\n",
    "{\"name\":\"iva\", \"type\":\"INTEGER\", \"mode\":\"NULLABLE\"}\n",
    "],   \n",
    "\n",
    "6179366 : [\n",
    "{\"name\":\"date\",\"type\": \"DATE\",\"mode\": \"REQUIRED\"),\n",
    "{\"name\":\"level2_id\",\"type\": \"INTEGER\",\"mode\": \"REQUIRED\"),\n",
    "{\"name\":\"level2_label\",\"type\": \"STRING\",\"mode\": \"REQUIRED\"),\n",
    "{\"name\":\"level4_id\",\"type\": \"INTEGER\",\"mode\": \"REQUIRED\"),\n",
    "{\"name\":\"level4_label\",\"type\": \"STRING\",\"mode\": \"REQUIRED\")] + base_schema + [\n",
    "{\"name\":\"_5_sec_in_view_impressions\",\"type\": \"INTEGER\",\"mode\": \"NULLABLE\"),\n",
    "{\"name\":\"susp_human_and_inview_gm_meas_sum\",\"type\": \"FLOAT\",\"mode\": \"NULLABLE\"),\n",
    "{\"name\":\"susp_valid_and_inview_gm_meas_sum\",\"type\": \"FLOAT\",\"mode\": \"NULLABLE\")] + video_schema,\n",
    "\n",
    "\n",
    "6178833 : [\n",
    "{\"name\":\"date\",\"type\": \"DATE\",\"mode\": \"REQUIRED\"),\n",
    "{\"name\":\"level2_id\",\"type\": \"INTEGER\",\"mode\": \"REQUIRED\"),\n",
    "{\"name\":\"level2_label\",\"type\": \"STRING\",\"mode\": \"REQUIRED\"),\n",
    "{\"name\":\"level4_id\",\"type\": \"INTEGER\",\"mode\": \"REQUIRED\"),\n",
    "{\"name\":\"level4_label\",\"type\": \"STRING\",\"mode\": \"REQUIRED\")} + base_schema + [\n",
    "{\"name\":\"_5_sec_in_view_impressions\",\"type\": \"INTEGER\",\"mode\": \"NULLABLE\"),\n",
    "{\"name\":\"susp_human_and_inview_gm_meas_sum\",\"type\": \"FLOAT\",\"mode\": \"NULLABLE\"),\n",
    "{\"name\":\"susp_valid_and_inview_gm_meas_sum\",\"type\": \"FLOAT\",\"mode\": \"NULLABLE\")\n",
    "] + video_schema,\n",
    "\n",
    "13386: [\n",
    "{\"name\":\"date\",\"type\": \"DATE\",\"mode\": \"REQUIRED\"),\n",
    "{\"name\":\"level2_id\",\"type\": \"INTEGER\",\"mode\": \"REQUIRED\"),\n",
    "{\"name\":\"level2_label\",\"type\": \"STRING\",\"mode\": \"REQUIRED\"),\n",
    "{\"name\":\"level4_id\",\"type\": \"INTEGER\",\"mode\": \"REQUIRED\"),\n",
    "{\"name\":\"level4_label\",\"type\": \"STRING\",\"mode\": \"REQUIRED\")] + base_schema + [\n",
    "{\"name\":\"_5_sec_in_view_impressions\",\"type\": \"INTEGER\",\"mode\": \"NULLABLE\"),\n",
    "{\"name\":\"susp_human_and_inview_gm_meas_sum\",\"type\": \"FLOAT\",\"mode\": \"NULLABLE\"),\n",
    "{\"name\":\"susp_valid_and_inview_gm_meas_sum\",\"type\": \"FLOAT\",\"mode\": \"NULLABLE\")\n",
    "] + video_schema,\n",
    "\n",
    "2698 :[\n",
    "{\"name\":\"date\",\"type\": \"DATE\",\"mode\": \"REQUIRED\"), # make required\n",
    "{\"name\":\"level1_id\",\"type\": \"INTEGER\",\"mode\": \"REQUIRED\"),\n",
    "{\"name\":\"level1_label\",\"type\": \"STRING\",\"mode\": \"REQUIRED\"),\n",
    "{\"name\":\"level3_id\",\"type\": \"INTEGER\",\"mode\": \"REQUIRED\"),\n",
    "{\"name\":\"level3_label\",\"type\": \"STRING\",\"mode\": \"REQUIRED\")] + base_schema + \n",
    "[\n",
    "{\"name\":\"_5_sec_in_view_impressions\",\"type\": \"INTEGER\",\"mode\": \"NULLABLE\"),\n",
    "{\"name\":\"avg_real_estate_perc\",\"type\": \"FLOAT\",\"mode\": \"NULLABLE\"),\n",
    "{\"name\":\"susp_human_and_inview_gm_meas_sum\",\"type\": \"FLOAT\",\"mode\": \"NULLABLE\"),\n",
    "{\"name\":\"susp_valid_and_inview_gm_meas_sum\",\"type\": \"FLOAT\",\"mode\": \"NULLABLE\")] + video_schema\n",
    "\n",
    "}\n"
   ]
  },
  {
   "cell_type": "code",
   "execution_count": 5,
   "metadata": {},
   "outputs": [],
   "source": [
    "base_schema = [\n",
    "{\"name\":\"loads_unfiltered\",\"type\": \"INTEGER\",\"mode\": \"NULLABLE\"},\n",
    "{\"name\":\"impressions_analyzed\",\"type\": \"INTEGER\",\"mode\": \"NULLABLE\"},\n",
    "{\"name\":\"susp_human\",\"type\": \"FLOAT\",\"mode\": \"NULLABLE\"},\n",
    "{\"name\":\"susp_valid\",\"type\": \"FLOAT\",\"mode\": \"NULLABLE\"},\n",
    "{\"name\":\"human_and_viewable\",\"type\": \"INTEGER\",\"mode\": \"NULLABLE\"},\n",
    "{\"name\":\"valid_and_viewable\",\"type\": \"INTEGER\",\"mode\": \"NULLABLE\"}\n",
    "]\n",
    "\n",
    "video_schema = [   \n",
    "{\"name\":\"reached_first_quart_sum\",\"type\": \"INTEGER\",\"mode\": \"NULLABLE\"},\n",
    "{\"name\":\"reached_second_quart_sum\",\"type\": \"INTEGER\",\"mode\": \"NULLABLE\"},\n",
    "{\"name\":\"reached_third_quart_sum\",\"type\": \"INTEGER\",\"mode\": \"NULLABLE\"},\n",
    "{\"name\":\"reached_complete_sum\",\"type\": \"INTEGER\",\"mode\": \"NULLABLE\"},\n",
    "{\"name\":\"player_audible_on_complete_sum\",\"type\": \"INTEGER\",\"mode\": \"NULLABLE\"},\n",
    "{\"name\":\"player_visible_on_complete_sum\",\"type\": \"INTEGER\",\"mode\": \"NULLABLE\"},\n",
    "{\"name\":\"player_audible_full_vis_half_time_sum\",\"type\": \"INTEGER\",\"mode\": \"NULLABLE\"},\n",
    "{\"name\":\"player_vis_and_aud_on_complete_sum\",\"type\": \"INTEGER\",\"mode\": \"NULLABLE\"},\n",
    "]\n",
    "\n",
    "\n",
    "moat_schemas = {\n",
    "\n",
    "2506 :[\n",
    "{\"name\":\"date\",\"type\":\"DATE\",\"mode\":\"REQUIRED\"},\n",
    "{\"name\":\"level1_id\",\"type\":\"INTEGER\",\"mode\":\"REQUIRED\"},\n",
    "{\"name\":\"level1_label\",\"type\":\"STRING\", \"mode\":\"REQUIRED\"},\n",
    "{\"name\":\"level3_id\",\"type\":\"INTEGER\", \"mode\":\"REQUIRED\"},\n",
    "{\"name\":\"level3_label\",\"type\":\"STRING\", \"mode\":\"REQUIRED\"}] + base_schema + [\n",
    "{\"name\":\"human_and_viewable\", \"type\":\"INTEGER\", \"mode\":\"NULLABLE\"},\n",
    "{\"name\":\"valid_and_viewable\", \"type\":\"INTEGER\", \"mode\":\"NULLABLE\"},\n",
    "{\"name\":\"moat_score\", \"type\":\"INTEGER\", \"mode\":\"NULLABLE\"},\n",
    "{\"name\":\"iva\", \"type\":\"INTEGER\", \"mode\":\"NULLABLE\"}\n",
    "],   \n",
    "\n",
    "6179366 : [\n",
    "{\"name\":\"date\",\"type\": \"DATE\",\"mode\": \"REQUIRED\"},\n",
    "{\"name\":\"level2_id\",\"type\": \"INTEGER\",\"mode\": \"REQUIRED\"},\n",
    "{\"name\":\"level2_label\",\"type\": \"STRING\",\"mode\": \"REQUIRED\"},\n",
    "{\"name\":\"level4_id\",\"type\": \"INTEGER\",\"mode\": \"REQUIRED\"},\n",
    "{\"name\":\"level4_label\",\"type\": \"STRING\",\"mode\": \"REQUIRED\"}] + base_schema + [\n",
    "{\"name\":\"_5_sec_in_view_impressions\",\"type\": \"INTEGER\",\"mode\": \"NULLABLE\"},\n",
    "{\"name\":\"susp_human_and_inview_gm_meas_sum\",\"type\": \"FLOAT\",\"mode\": \"NULLABLE\"},\n",
    "{\"name\":\"susp_valid_and_inview_gm_meas_sum\",\"type\": \"FLOAT\",\"mode\": \"NULLABLE\"}] + video_schema,\n",
    "\n",
    "\n",
    "6178833 : [\n",
    "{\"name\":\"date\",\"type\": \"DATE\",\"mode\": \"REQUIRED\"},\n",
    "{\"name\":\"level2_id\",\"type\": \"INTEGER\",\"mode\": \"REQUIRED\"},\n",
    "{\"name\":\"level2_label\",\"type\": \"STRING\",\"mode\": \"REQUIRED\"},\n",
    "{\"name\":\"level4_id\",\"type\": \"INTEGER\",\"mode\": \"REQUIRED\"},\n",
    "{\"name\":\"level4_label\",\"type\": \"STRING\",\"mode\": \"REQUIRED\"}] + base_schema + [\n",
    "{\"name\":\"_5_sec_in_view_impressions\",\"type\": \"INTEGER\",\"mode\": \"NULLABLE\"},\n",
    "{\"name\":\"susp_human_and_inview_gm_meas_sum\",\"type\": \"FLOAT\",\"mode\": \"NULLABLE\"},\n",
    "{\"name\":\"susp_valid_and_inview_gm_meas_sum\",\"type\": \"FLOAT\",\"mode\": \"NULLABLE\"}\n",
    "] + video_schema,\n",
    "\n",
    "13386: [\n",
    "{\"name\":\"date\",\"type\": \"DATE\",\"mode\": \"REQUIRED\"},\n",
    "{\"name\":\"level2_id\",\"type\": \"INTEGER\",\"mode\": \"REQUIRED\"},\n",
    "{\"name\":\"level2_label\",\"type\": \"STRING\",\"mode\": \"REQUIRED\"},\n",
    "{\"name\":\"level4_id\",\"type\": \"INTEGER\",\"mode\": \"REQUIRED\"},\n",
    "{\"name\":\"level4_label\",\"type\": \"STRING\",\"mode\": \"REQUIRED\"}] + base_schema + [\n",
    "{\"name\":\"_5_sec_in_view_impressions\",\"type\": \"INTEGER\",\"mode\": \"NULLABLE\"},\n",
    "{\"name\":\"susp_human_and_inview_gm_meas_sum\",\"type\": \"FLOAT\",\"mode\": \"NULLABLE\"},\n",
    "{\"name\":\"susp_valid_and_inview_gm_meas_sum\",\"type\": \"FLOAT\",\"mode\": \"NULLABLE\"}\n",
    "] + video_schema,\n",
    "\n",
    "2698 :[\n",
    "{\"name\":\"date\",\"type\": \"DATE\",\"mode\": \"REQUIRED\"}, # make required\n",
    "{\"name\":\"level1_id\",\"type\": \"INTEGER\",\"mode\": \"REQUIRED\"},\n",
    "{\"name\":\"level1_label\",\"type\": \"STRING\",\"mode\": \"REQUIRED\"},\n",
    "{\"name\":\"level3_id\",\"type\": \"INTEGER\",\"mode\": \"REQUIRED\"},\n",
    "{\"name\":\"level3_label\",\"type\": \"STRING\",\"mode\": \"REQUIRED\"}] + base_schema + \n",
    "[\n",
    "{\"name\":\"_5_sec_in_view_impressions\",\"type\": \"INTEGER\",\"mode\": \"NULLABLE\"},\n",
    "{\"name\":\"avg_real_estate_perc\",\"type\": \"FLOAT\",\"mode\": \"NULLABLE\"},\n",
    "{\"name\":\"susp_human_and_inview_gm_meas_sum\",\"type\": \"FLOAT\",\"mode\": \"NULLABLE\"},\n",
    "{\"name\":\"susp_valid_and_inview_gm_meas_sum\",\"type\": \"FLOAT\",\"mode\": \"NULLABLE\"}] + video_schema\n",
    "    }"
   ]
  },
  {
   "cell_type": "code",
   "execution_count": 6,
   "metadata": {},
   "outputs": [],
   "source": [
    "from rtf_utils.moat_utils import moat_schemas"
   ]
  },
  {
   "cell_type": "code",
   "execution_count": 7,
   "metadata": {},
   "outputs": [
    {
     "data": {
      "text/plain": [
       "{2506: [{'mode': 'REQUIRED', 'name': 'date', 'type': 'DATE'},\n",
       "  {'mode': 'REQUIRED', 'name': 'level1_id', 'type': 'INTEGER'},\n",
       "  {'mode': 'REQUIRED', 'name': 'level1_label', 'type': 'STRING'},\n",
       "  {'mode': 'REQUIRED', 'name': 'level3_id', 'type': 'INTEGER'},\n",
       "  {'mode': 'REQUIRED', 'name': 'level3_label', 'type': 'STRING'},\n",
       "  {'mode': 'NULLABLE', 'name': 'loads_unfiltered', 'type': 'INTEGER'},\n",
       "  {'mode': 'NULLABLE', 'name': 'impressions_analyzed', 'type': 'INTEGER'},\n",
       "  {'mode': 'NULLABLE', 'name': 'susp_human', 'type': 'FLOAT'},\n",
       "  {'mode': 'NULLABLE', 'name': 'susp_valid', 'type': 'FLOAT'},\n",
       "  {'mode': 'NULLABLE', 'name': 'human_and_viewable', 'type': 'INTEGER'},\n",
       "  {'mode': 'NULLABLE', 'name': 'valid_and_viewable', 'type': 'INTEGER'},\n",
       "  {'mode': 'NULLABLE', 'name': 'human_and_viewable', 'type': 'INTEGER'},\n",
       "  {'mode': 'NULLABLE', 'name': 'valid_and_viewable', 'type': 'INTEGER'},\n",
       "  {'mode': 'NULLABLE', 'name': 'moat_score', 'type': 'INTEGER'},\n",
       "  {'mode': 'NULLABLE', 'name': 'iva', 'type': 'INTEGER'}],\n",
       " 2698: [{'mode': 'REQUIRED', 'name': 'date', 'type': 'DATE'},\n",
       "  {'mode': 'REQUIRED', 'name': 'level1_id', 'type': 'INTEGER'},\n",
       "  {'mode': 'REQUIRED', 'name': 'level1_label', 'type': 'STRING'},\n",
       "  {'mode': 'REQUIRED', 'name': 'level3_id', 'type': 'INTEGER'},\n",
       "  {'mode': 'REQUIRED', 'name': 'level3_label', 'type': 'STRING'},\n",
       "  {'mode': 'NULLABLE', 'name': 'loads_unfiltered', 'type': 'INTEGER'},\n",
       "  {'mode': 'NULLABLE', 'name': 'impressions_analyzed', 'type': 'INTEGER'},\n",
       "  {'mode': 'NULLABLE', 'name': 'susp_human', 'type': 'FLOAT'},\n",
       "  {'mode': 'NULLABLE', 'name': 'susp_valid', 'type': 'FLOAT'},\n",
       "  {'mode': 'NULLABLE', 'name': 'human_and_viewable', 'type': 'INTEGER'},\n",
       "  {'mode': 'NULLABLE', 'name': 'valid_and_viewable', 'type': 'INTEGER'},\n",
       "  {'mode': 'NULLABLE',\n",
       "   'name': '_5_sec_in_view_impressions',\n",
       "   'type': 'INTEGER'},\n",
       "  {'mode': 'NULLABLE', 'name': 'avg_real_estate_perc', 'type': 'FLOAT'},\n",
       "  {'mode': 'NULLABLE',\n",
       "   'name': 'susp_human_and_inview_gm_meas_sum',\n",
       "   'type': 'FLOAT'},\n",
       "  {'mode': 'NULLABLE',\n",
       "   'name': 'susp_valid_and_inview_gm_meas_sum',\n",
       "   'type': 'FLOAT'},\n",
       "  {'mode': 'NULLABLE', 'name': 'reached_first_quart_sum', 'type': 'INTEGER'},\n",
       "  {'mode': 'NULLABLE', 'name': 'reached_second_quart_sum', 'type': 'INTEGER'},\n",
       "  {'mode': 'NULLABLE', 'name': 'reached_third_quart_sum', 'type': 'INTEGER'},\n",
       "  {'mode': 'NULLABLE', 'name': 'reached_complete_sum', 'type': 'INTEGER'},\n",
       "  {'mode': 'NULLABLE',\n",
       "   'name': 'player_audible_on_complete_sum',\n",
       "   'type': 'INTEGER'},\n",
       "  {'mode': 'NULLABLE',\n",
       "   'name': 'player_visible_on_complete_sum',\n",
       "   'type': 'INTEGER'},\n",
       "  {'mode': 'NULLABLE',\n",
       "   'name': 'player_audible_full_vis_half_time_sum',\n",
       "   'type': 'INTEGER'},\n",
       "  {'mode': 'NULLABLE',\n",
       "   'name': 'player_vis_and_aud_on_complete_sum',\n",
       "   'type': 'INTEGER'}],\n",
       " 13386: [{'mode': 'REQUIRED', 'name': 'date', 'type': 'DATE'},\n",
       "  {'mode': 'REQUIRED', 'name': 'level2_id', 'type': 'INTEGER'},\n",
       "  {'mode': 'REQUIRED', 'name': 'level2_label', 'type': 'STRING'},\n",
       "  {'mode': 'REQUIRED', 'name': 'level4_id', 'type': 'INTEGER'},\n",
       "  {'mode': 'REQUIRED', 'name': 'level4_label', 'type': 'STRING'},\n",
       "  {'mode': 'NULLABLE', 'name': 'loads_unfiltered', 'type': 'INTEGER'},\n",
       "  {'mode': 'NULLABLE', 'name': 'impressions_analyzed', 'type': 'INTEGER'},\n",
       "  {'mode': 'NULLABLE', 'name': 'susp_human', 'type': 'FLOAT'},\n",
       "  {'mode': 'NULLABLE', 'name': 'susp_valid', 'type': 'FLOAT'},\n",
       "  {'mode': 'NULLABLE', 'name': 'human_and_viewable', 'type': 'INTEGER'},\n",
       "  {'mode': 'NULLABLE', 'name': 'valid_and_viewable', 'type': 'INTEGER'},\n",
       "  {'mode': 'NULLABLE',\n",
       "   'name': '_5_sec_in_view_impressions',\n",
       "   'type': 'INTEGER'},\n",
       "  {'mode': 'NULLABLE',\n",
       "   'name': 'susp_human_and_inview_gm_meas_sum',\n",
       "   'type': 'FLOAT'},\n",
       "  {'mode': 'NULLABLE',\n",
       "   'name': 'susp_valid_and_inview_gm_meas_sum',\n",
       "   'type': 'FLOAT'},\n",
       "  {'mode': 'NULLABLE', 'name': 'reached_first_quart_sum', 'type': 'INTEGER'},\n",
       "  {'mode': 'NULLABLE', 'name': 'reached_second_quart_sum', 'type': 'INTEGER'},\n",
       "  {'mode': 'NULLABLE', 'name': 'reached_third_quart_sum', 'type': 'INTEGER'},\n",
       "  {'mode': 'NULLABLE', 'name': 'reached_complete_sum', 'type': 'INTEGER'},\n",
       "  {'mode': 'NULLABLE',\n",
       "   'name': 'player_audible_on_complete_sum',\n",
       "   'type': 'INTEGER'},\n",
       "  {'mode': 'NULLABLE',\n",
       "   'name': 'player_visible_on_complete_sum',\n",
       "   'type': 'INTEGER'},\n",
       "  {'mode': 'NULLABLE',\n",
       "   'name': 'player_audible_full_vis_half_time_sum',\n",
       "   'type': 'INTEGER'},\n",
       "  {'mode': 'NULLABLE',\n",
       "   'name': 'player_vis_and_aud_on_complete_sum',\n",
       "   'type': 'INTEGER'}],\n",
       " 6178833: [{'mode': 'REQUIRED', 'name': 'date', 'type': 'DATE'},\n",
       "  {'mode': 'REQUIRED', 'name': 'level2_id', 'type': 'INTEGER'},\n",
       "  {'mode': 'REQUIRED', 'name': 'level2_label', 'type': 'STRING'},\n",
       "  {'mode': 'REQUIRED', 'name': 'level4_id', 'type': 'INTEGER'},\n",
       "  {'mode': 'REQUIRED', 'name': 'level4_label', 'type': 'STRING'},\n",
       "  {'mode': 'NULLABLE', 'name': 'loads_unfiltered', 'type': 'INTEGER'},\n",
       "  {'mode': 'NULLABLE', 'name': 'impressions_analyzed', 'type': 'INTEGER'},\n",
       "  {'mode': 'NULLABLE', 'name': 'susp_human', 'type': 'FLOAT'},\n",
       "  {'mode': 'NULLABLE', 'name': 'susp_valid', 'type': 'FLOAT'},\n",
       "  {'mode': 'NULLABLE', 'name': 'human_and_viewable', 'type': 'INTEGER'},\n",
       "  {'mode': 'NULLABLE', 'name': 'valid_and_viewable', 'type': 'INTEGER'},\n",
       "  {'mode': 'NULLABLE',\n",
       "   'name': '_5_sec_in_view_impressions',\n",
       "   'type': 'INTEGER'},\n",
       "  {'mode': 'NULLABLE',\n",
       "   'name': 'susp_human_and_inview_gm_meas_sum',\n",
       "   'type': 'FLOAT'},\n",
       "  {'mode': 'NULLABLE',\n",
       "   'name': 'susp_valid_and_inview_gm_meas_sum',\n",
       "   'type': 'FLOAT'},\n",
       "  {'mode': 'NULLABLE', 'name': 'reached_first_quart_sum', 'type': 'INTEGER'},\n",
       "  {'mode': 'NULLABLE', 'name': 'reached_second_quart_sum', 'type': 'INTEGER'},\n",
       "  {'mode': 'NULLABLE', 'name': 'reached_third_quart_sum', 'type': 'INTEGER'},\n",
       "  {'mode': 'NULLABLE', 'name': 'reached_complete_sum', 'type': 'INTEGER'},\n",
       "  {'mode': 'NULLABLE',\n",
       "   'name': 'player_audible_on_complete_sum',\n",
       "   'type': 'INTEGER'},\n",
       "  {'mode': 'NULLABLE',\n",
       "   'name': 'player_visible_on_complete_sum',\n",
       "   'type': 'INTEGER'},\n",
       "  {'mode': 'NULLABLE',\n",
       "   'name': 'player_audible_full_vis_half_time_sum',\n",
       "   'type': 'INTEGER'},\n",
       "  {'mode': 'NULLABLE',\n",
       "   'name': 'player_vis_and_aud_on_complete_sum',\n",
       "   'type': 'INTEGER'}],\n",
       " 6179366: [{'mode': 'REQUIRED', 'name': 'date', 'type': 'DATE'},\n",
       "  {'mode': 'REQUIRED', 'name': 'level2_id', 'type': 'INTEGER'},\n",
       "  {'mode': 'REQUIRED', 'name': 'level2_label', 'type': 'STRING'},\n",
       "  {'mode': 'REQUIRED', 'name': 'level4_id', 'type': 'INTEGER'},\n",
       "  {'mode': 'REQUIRED', 'name': 'level4_label', 'type': 'STRING'},\n",
       "  {'mode': 'NULLABLE', 'name': 'loads_unfiltered', 'type': 'INTEGER'},\n",
       "  {'mode': 'NULLABLE', 'name': 'impressions_analyzed', 'type': 'INTEGER'},\n",
       "  {'mode': 'NULLABLE', 'name': 'susp_human', 'type': 'FLOAT'},\n",
       "  {'mode': 'NULLABLE', 'name': 'susp_valid', 'type': 'FLOAT'},\n",
       "  {'mode': 'NULLABLE', 'name': 'human_and_viewable', 'type': 'INTEGER'},\n",
       "  {'mode': 'NULLABLE', 'name': 'valid_and_viewable', 'type': 'INTEGER'},\n",
       "  {'mode': 'NULLABLE',\n",
       "   'name': '_5_sec_in_view_impressions',\n",
       "   'type': 'INTEGER'},\n",
       "  {'mode': 'NULLABLE',\n",
       "   'name': 'susp_human_and_inview_gm_meas_sum',\n",
       "   'type': 'FLOAT'},\n",
       "  {'mode': 'NULLABLE',\n",
       "   'name': 'susp_valid_and_inview_gm_meas_sum',\n",
       "   'type': 'FLOAT'},\n",
       "  {'mode': 'NULLABLE', 'name': 'reached_first_quart_sum', 'type': 'INTEGER'},\n",
       "  {'mode': 'NULLABLE', 'name': 'reached_second_quart_sum', 'type': 'INTEGER'},\n",
       "  {'mode': 'NULLABLE', 'name': 'reached_third_quart_sum', 'type': 'INTEGER'},\n",
       "  {'mode': 'NULLABLE', 'name': 'reached_complete_sum', 'type': 'INTEGER'},\n",
       "  {'mode': 'NULLABLE',\n",
       "   'name': 'player_audible_on_complete_sum',\n",
       "   'type': 'INTEGER'},\n",
       "  {'mode': 'NULLABLE',\n",
       "   'name': 'player_visible_on_complete_sum',\n",
       "   'type': 'INTEGER'},\n",
       "  {'mode': 'NULLABLE',\n",
       "   'name': 'player_audible_full_vis_half_time_sum',\n",
       "   'type': 'INTEGER'},\n",
       "  {'mode': 'NULLABLE',\n",
       "   'name': 'player_vis_and_aud_on_complete_sum',\n",
       "   'type': 'INTEGER'}]}"
      ]
     },
     "execution_count": 7,
     "metadata": {},
     "output_type": "execute_result"
    }
   ],
   "source": [
    "moat_schemas"
   ]
  },
  {
   "cell_type": "code",
   "execution_count": null,
   "metadata": {},
   "outputs": [],
   "source": []
  }
 ],
 "metadata": {
  "kernelspec": {
   "display_name": "Python 3",
   "language": "python",
   "name": "python3"
  },
  "language_info": {
   "codemirror_mode": {
    "name": "ipython",
    "version": 3
   },
   "file_extension": ".py",
   "mimetype": "text/x-python",
   "name": "python",
   "nbconvert_exporter": "python",
   "pygments_lexer": "ipython3",
   "version": "3.5.2"
  }
 },
 "nbformat": 4,
 "nbformat_minor": 4
}
