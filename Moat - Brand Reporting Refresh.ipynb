{
 "cells": [
  {
   "cell_type": "markdown",
   "metadata": {},
   "source": [
    "## Moat Brand Reporting Refresh"
   ]
  },
  {
   "cell_type": "code",
   "execution_count": 26,
   "metadata": {},
   "outputs": [
    {
     "name": "stdout",
     "output_type": "stream",
     "text": [
      "The autoreload extension is already loaded. To reload it, use:\n",
      "  %reload_ext autoreload\n"
     ]
    }
   ],
   "source": [
    "%load_ext autoreload"
   ]
  },
  {
   "cell_type": "code",
   "execution_count": 27,
   "metadata": {},
   "outputs": [],
   "source": [
    "%autoreload 2"
   ]
  },
  {
   "cell_type": "code",
   "execution_count": 37,
   "metadata": {},
   "outputs": [],
   "source": [
    "from rtf_utils.moat_utils import MoatTile\n",
    "from essence.analytics.platform import securedcredentials as secure_creds\n",
    "from rtf_utils.gcp_utils import BigQuery,CloudStorage\n",
    "import warnings\n",
    "from rtf_utils.bq_schema import moat_schema_dict\n",
    "import json\n",
    "import logging"
   ]
  },
  {
   "cell_type": "code",
   "execution_count": 44,
   "metadata": {},
   "outputs": [],
   "source": [
    "logger = logging.getLogger()\n",
    "logger.setLevel(logging.INFO)\n",
    "warnings.filterwarnings(\"ignore\", \"Your application has authenticated using end user credentials\")"
   ]
  },
  {
   "cell_type": "code",
   "execution_count": 8,
   "metadata": {},
   "outputs": [
    {
     "name": "stdout",
     "output_type": "stream",
     "text": [
      "Creds Loaded\n",
      "Token Loaded\n"
     ]
    }
   ],
   "source": [
    "service_account_email='131786951123-compute@developer.gserviceaccount.com' ## gcp analytics service account\n",
    "PROJECT_ID='essence-analytics-dwh'\n",
    "\n",
    "credentialsFromVault=secure_creds.getCredentialsFromEssenceVault(service_account_email)\n",
    "print(\"Creds Loaded\")\n",
    "moat_token = secure_creds.getDataFromEssenceVault('Moat_Token_Google')\n",
    "print(\"Token Loaded\")"
   ]
  },
  {
   "cell_type": "code",
   "execution_count": 9,
   "metadata": {},
   "outputs": [],
   "source": [
    "start_date = '20191001'\n",
    "end_date = '20191006'"
   ]
  },
  {
   "cell_type": "code",
   "execution_count": 1,
   "metadata": {},
   "outputs": [
    {
     "ename": "NameError",
     "evalue": "name 'json' is not defined",
     "output_type": "error",
     "traceback": [
      "\u001b[0;31m---------------------------------------------------------------------------\u001b[0m",
      "\u001b[0;31mNameError\u001b[0m                                 Traceback (most recent call last)",
      "\u001b[0;32m<ipython-input-1-46d3fbc2225a>\u001b[0m in \u001b[0;36m<module>\u001b[0;34m()\u001b[0m\n\u001b[1;32m      1\u001b[0m \u001b[0;32mwith\u001b[0m \u001b[0mopen\u001b[0m\u001b[0;34m(\u001b[0m\u001b[0;34m'dags/brand_report_task_queue.json'\u001b[0m\u001b[0;34m)\u001b[0m \u001b[0;32mas\u001b[0m \u001b[0mjson_file\u001b[0m\u001b[0;34m:\u001b[0m\u001b[0;34m\u001b[0m\u001b[0m\n\u001b[0;32m----> 2\u001b[0;31m     \u001b[0mconfig_json\u001b[0m \u001b[0;34m=\u001b[0m \u001b[0mjson\u001b[0m\u001b[0;34m.\u001b[0m\u001b[0mload\u001b[0m\u001b[0;34m(\u001b[0m\u001b[0mjson_file\u001b[0m\u001b[0;34m)\u001b[0m\u001b[0;34m\u001b[0m\u001b[0m\n\u001b[0m\u001b[1;32m      3\u001b[0m     \u001b[0mcampaigns\u001b[0m \u001b[0;34m=\u001b[0m \u001b[0mconfig_json\u001b[0m\u001b[0;34m[\u001b[0m\u001b[0;34m'campaigns'\u001b[0m\u001b[0;34m]\u001b[0m\u001b[0;34m\u001b[0m\u001b[0m\n",
      "\u001b[0;31mNameError\u001b[0m: name 'json' is not defined"
     ]
    }
   ],
   "source": [
    "with open('dags/brand_report_task_queue.json') as json_file:\n",
    "    config_json = json.load(json_file)\n",
    "    campaigns = config_json['campaigns']"
   ]
  },
  {
   "cell_type": "code",
   "execution_count": 51,
   "metadata": {},
   "outputs": [],
   "source": [
    "## Define Moat Tasks\n",
    "Q4 = [(2506,{'level1':22783112},['date','level1','level3']), ## disp stadia,\n",
    "      (2506,{'level1':23221764},['date','level1','level3']), ## disp nest 1,\n",
    "      (2506,{'level1':23197607},['date','level1','level3']), ## disp nest 2\n",
    "      (2506,{'level1':23278016},['date','level1','level3']), ## disp assistant\n",
    "      (2698,{'level1':22783112},['date','level1','level3']), ## vid stadia,\n",
    "      (2698,{'level1':23221764},['date','level1','level3']), ## vid nest 1,\n",
    "      (2698,{'level1':23197607},['date','level1','level3']), ## vid nest 2,\n",
    "      (2698,{'level1':23278016},['date','level1','level3']),\n",
    "      (6179366,{'level2':2604566125},['date','level4']),## yt reserve - stadia\n",
    "      (6178833,{'level1':1533586},['date','level4']) ## yt res dbm  - assistant\n",
    " ]\n",
    " # need access to 6196284"
   ]
  },
  {
   "cell_type": "code",
   "execution_count": 42,
   "metadata": {},
   "outputs": [],
   "source": [
    "def get_moat_data(tile_id,start_date, end_date,level_filters=None,dimensions=None,**kwargs):\n",
    "    tile = MoatTile(tile_id,level_filters,dimensions)\n",
    "    local_filename = tile.get_data(start_date,end_date,moat_token)\n",
    "    return local_filename\n",
    "\n",
    "def upload_local_file(local_filename,dest_bucket,folder=None):\n",
    "    gcs = CloudStorage(credentialsFromVault)\n",
    "    if folder:\n",
    "        blob_name = folder + \"/\" + local_filename\n",
    "    else:\n",
    "        blob_name = local_filename\n",
    "    blob = gcs.upload_blob(dest_bucket, blob_name,local_filename,mode='filename')\n",
    "    return blob"
   ]
  },
  {
   "cell_type": "markdown",
   "metadata": {},
   "source": [
    "# Prototype WorkFlow"
   ]
  },
  {
   "cell_type": "code",
   "execution_count": 52,
   "metadata": {},
   "outputs": [
    {
     "name": "stderr",
     "output_type": "stream",
     "text": [
      "INFO:root:API Request Time\n"
     ]
    },
    {
     "name": "stdout",
     "output_type": "stream",
     "text": [
      "2506 {'level1': 22783112} ['date', 'level1', 'level3']\n"
     ]
    },
    {
     "name": "stderr",
     "output_type": "stream",
     "text": [
      "INFO:root:Moat_2506_22783112.json Saved\n"
     ]
    },
    {
     "name": "stdout",
     "output_type": "stream",
     "text": [
      "Stored at Moat_2506_22783112.json\n"
     ]
    },
    {
     "name": "stderr",
     "output_type": "stream",
     "text": [
      "INFO:root:File uploaded as brand_reporting/Moat_2506_22783112.json.\n"
     ]
    },
    {
     "name": "stdout",
     "output_type": "stream",
     "text": [
      "Load Schema\n",
      "Try BQ Upload: 003_Moat_2506_0\n"
     ]
    },
    {
     "name": "stderr",
     "output_type": "stream",
     "text": [
      "INFO:root:API Request Time\n"
     ]
    },
    {
     "name": "stdout",
     "output_type": "stream",
     "text": [
      "2506 {'level1': 23221764} ['date', 'level1', 'level3']\n"
     ]
    },
    {
     "name": "stderr",
     "output_type": "stream",
     "text": [
      "INFO:root:Moat_2506_23221764.json Saved\n"
     ]
    },
    {
     "name": "stdout",
     "output_type": "stream",
     "text": [
      "Stored at Moat_2506_23221764.json\n"
     ]
    },
    {
     "name": "stderr",
     "output_type": "stream",
     "text": [
      "INFO:root:File uploaded as brand_reporting/Moat_2506_23221764.json.\n"
     ]
    },
    {
     "name": "stdout",
     "output_type": "stream",
     "text": [
      "Load Schema\n",
      "Try BQ Upload: 003_Moat_2506_1\n"
     ]
    },
    {
     "name": "stderr",
     "output_type": "stream",
     "text": [
      "INFO:root:API Request Time\n"
     ]
    },
    {
     "name": "stdout",
     "output_type": "stream",
     "text": [
      "2506 {'level1': 23197607} ['date', 'level1', 'level3']\n"
     ]
    },
    {
     "name": "stderr",
     "output_type": "stream",
     "text": [
      "INFO:root:Moat_2506_23197607.json Saved\n"
     ]
    },
    {
     "name": "stdout",
     "output_type": "stream",
     "text": [
      "Stored at Moat_2506_23197607.json\n"
     ]
    },
    {
     "name": "stderr",
     "output_type": "stream",
     "text": [
      "INFO:root:File uploaded as brand_reporting/Moat_2506_23197607.json.\n"
     ]
    },
    {
     "name": "stdout",
     "output_type": "stream",
     "text": [
      "Load Schema\n",
      "Try BQ Upload: 003_Moat_2506_2\n"
     ]
    },
    {
     "name": "stderr",
     "output_type": "stream",
     "text": [
      "INFO:root:API Request Time\n"
     ]
    },
    {
     "name": "stdout",
     "output_type": "stream",
     "text": [
      "2506 {'level1': 23278016} ['date', 'level1', 'level3']\n"
     ]
    },
    {
     "name": "stderr",
     "output_type": "stream",
     "text": [
      "INFO:root:Moat_2506_23278016.json Saved\n"
     ]
    },
    {
     "name": "stdout",
     "output_type": "stream",
     "text": [
      "Stored at Moat_2506_23278016.json\n"
     ]
    },
    {
     "name": "stderr",
     "output_type": "stream",
     "text": [
      "INFO:root:File uploaded as brand_reporting/Moat_2506_23278016.json.\n"
     ]
    },
    {
     "name": "stdout",
     "output_type": "stream",
     "text": [
      "Load Schema\n",
      "Try BQ Upload: 003_Moat_2506_3\n"
     ]
    },
    {
     "name": "stderr",
     "output_type": "stream",
     "text": [
      "INFO:root:API Request Time\n"
     ]
    },
    {
     "name": "stdout",
     "output_type": "stream",
     "text": [
      "2698 {'level1': 22783112} ['date', 'level1', 'level3']\n"
     ]
    },
    {
     "name": "stderr",
     "output_type": "stream",
     "text": [
      "INFO:root:Empty Data\n"
     ]
    },
    {
     "name": "stdout",
     "output_type": "stream",
     "text": [
      "No Data\n"
     ]
    },
    {
     "name": "stderr",
     "output_type": "stream",
     "text": [
      "INFO:root:API Request Time\n"
     ]
    },
    {
     "name": "stdout",
     "output_type": "stream",
     "text": [
      "2698 {'level1': 23221764} ['date', 'level1', 'level3']\n"
     ]
    },
    {
     "name": "stderr",
     "output_type": "stream",
     "text": [
      "INFO:root:Empty Data\n"
     ]
    },
    {
     "name": "stdout",
     "output_type": "stream",
     "text": [
      "No Data\n"
     ]
    },
    {
     "name": "stderr",
     "output_type": "stream",
     "text": [
      "INFO:root:API Request Time\n"
     ]
    },
    {
     "name": "stdout",
     "output_type": "stream",
     "text": [
      "2698 {'level1': 23197607} ['date', 'level1', 'level3']\n"
     ]
    },
    {
     "name": "stderr",
     "output_type": "stream",
     "text": [
      "INFO:root:Empty Data\n"
     ]
    },
    {
     "name": "stdout",
     "output_type": "stream",
     "text": [
      "No Data\n"
     ]
    },
    {
     "name": "stderr",
     "output_type": "stream",
     "text": [
      "INFO:root:API Request Time\n"
     ]
    },
    {
     "name": "stdout",
     "output_type": "stream",
     "text": [
      "2698 {'level1': 23278016} ['date', 'level1', 'level3']\n"
     ]
    },
    {
     "name": "stderr",
     "output_type": "stream",
     "text": [
      "INFO:root:Empty Data\n"
     ]
    },
    {
     "name": "stdout",
     "output_type": "stream",
     "text": [
      "No Data\n"
     ]
    },
    {
     "name": "stderr",
     "output_type": "stream",
     "text": [
      "INFO:root:API Request Time\n"
     ]
    },
    {
     "name": "stdout",
     "output_type": "stream",
     "text": [
      "6179366 {'level2': 2604566125} ['date', 'level4']\n"
     ]
    },
    {
     "name": "stderr",
     "output_type": "stream",
     "text": [
      "INFO:root:Moat_6179366_2604566125.json Saved\n"
     ]
    },
    {
     "name": "stdout",
     "output_type": "stream",
     "text": [
      "Stored at Moat_6179366_2604566125.json\n"
     ]
    },
    {
     "name": "stderr",
     "output_type": "stream",
     "text": [
      "INFO:root:File uploaded as brand_reporting/Moat_6179366_2604566125.json.\n"
     ]
    },
    {
     "name": "stdout",
     "output_type": "stream",
     "text": [
      "Load Schema\n",
      "Try BQ Upload: 003_Moat_6179366_8\n"
     ]
    },
    {
     "name": "stderr",
     "output_type": "stream",
     "text": [
      "INFO:root:API Request Time\n"
     ]
    },
    {
     "name": "stdout",
     "output_type": "stream",
     "text": [
      "6178833 {'level1': 1533586} ['date', 'level4']\n"
     ]
    },
    {
     "name": "stderr",
     "output_type": "stream",
     "text": [
      "INFO:root:Moat_6178833_1533586.json Saved\n"
     ]
    },
    {
     "name": "stdout",
     "output_type": "stream",
     "text": [
      "Stored at Moat_6178833_1533586.json\n"
     ]
    },
    {
     "name": "stderr",
     "output_type": "stream",
     "text": [
      "INFO:root:File uploaded as brand_reporting/Moat_6178833_1533586.json.\n"
     ]
    },
    {
     "name": "stdout",
     "output_type": "stream",
     "text": [
      "Load Schema\n",
      "Try BQ Upload: 003_Moat_6178833_9\n"
     ]
    }
   ],
   "source": [
    "import os\n",
    "import time\n",
    "os.environ['GOOGLE_CLOUD_PROJECT'] = 'essence-analytics-dwh'\n",
    "#for x in bonito:\n",
    "for i,x in enumerate(Q4):\n",
    "    time.sleep(10)\n",
    "    tile_id, level_filter, dimensions = x\n",
    "    print(tile_id, level_filter, dimensions)\n",
    "    filename = get_moat_data(tile_id,start_date,end_date,level_filter,dimensions)\n",
    "    \n",
    "    if filename:\n",
    "        print(\"Stored at {}\".format(filename))\n",
    "    else:\n",
    "        print(\"No Data\")\n",
    "        \n",
    "        continue    \n",
    "    \n",
    "    try:\n",
    "        file_uri = upload_local_file(filename,\"rtf_staging\",folder=\"brand_reporting\")\n",
    "        file_uri = \"gs://rtf_staging/\" + file_uri.name\n",
    "    \n",
    "        print(\"Load Schema\")\n",
    "        #schema_dict = moat_schema_dict[tile_id]\n",
    "\n",
    "        dest_table = \"003_Moat_{}_{}\".format(tile_id,i)\n",
    "\n",
    "        print(\"Try BQ Upload: {}\".format(dest_table))\n",
    "\n",
    "        bq = BigQuery(credentialsFromVault)\n",
    "        resp = bq.load_from_gcs(\"rtf_br_reporting\",\n",
    "                         file_uri,\n",
    "                        dest_table,\n",
    "                        #schema=schema_dict['schema'],\n",
    "                        \n",
    "                        extension='json')\n",
    "    except Exception as e:\n",
    "        print(e)\n",
    "        continue"
   ]
  },
  {
   "cell_type": "code",
   "execution_count": 50,
   "metadata": {},
   "outputs": [],
   "source": [
    "file_uri = \"gs://rtf_staging/brand_reporting/Brand Report - Upload File 2019-10-07T2046.csv\"\n",
    "\n",
    "dest_table = \"003_DataLab_DailyPerformance\"\n",
    "\n",
    "bq.load_from_gcs(\"rtf_br_reporting\",\n",
    "                         file_uri,\n",
    "                        dest_table)\n",
    "                        #schema=schema_dict['schema']"
   ]
  }
 ],
 "metadata": {
  "kernelspec": {
   "display_name": "Python 3",
   "language": "python",
   "name": "python3"
  },
  "language_info": {
   "codemirror_mode": {
    "name": "ipython",
    "version": 3
   },
   "file_extension": ".py",
   "mimetype": "text/x-python",
   "name": "python",
   "nbconvert_exporter": "python",
   "pygments_lexer": "ipython3",
   "version": "3.5.2"
  }
 },
 "nbformat": 4,
 "nbformat_minor": 4
}
