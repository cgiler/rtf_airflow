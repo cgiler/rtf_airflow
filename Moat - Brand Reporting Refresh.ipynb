{
 "cells": [
  {
   "cell_type": "markdown",
   "metadata": {},
   "source": [
    "## Moat Brand Reporting Refresh"
   ]
  },
  {
   "cell_type": "code",
   "execution_count": 1,
   "metadata": {},
   "outputs": [],
   "source": [
    "%load_ext autoreload"
   ]
  },
  {
   "cell_type": "code",
   "execution_count": 2,
   "metadata": {},
   "outputs": [],
   "source": [
    "%autoreload\n",
    "\n",
    "from rtf_utils.moat_utils import MoatTile\n",
    "from essence.analytics.platform import securedcredentials as secure_creds\n",
    "from rtf_utils.gcp_utils import BigQuery,CloudStorage\n",
    "import warnings\n",
    "from rtf_utils.bq_schema import moat_schema_dict\n",
    "\n",
    "warnings.filterwarnings(\"ignore\", \"Your application has authenticated using end user credentials\")\n",
    "import json"
   ]
  },
  {
   "cell_type": "code",
   "execution_count": 3,
   "metadata": {},
   "outputs": [
    {
     "name": "stdout",
     "output_type": "stream",
     "text": [
      "Creds Loaded\n",
      "Token Loaded\n"
     ]
    }
   ],
   "source": [
    "service_account_email='131786951123-compute@developer.gserviceaccount.com' ## gcp analytics service account\n",
    "PROJECT_ID='essence-analytics-dwh'\n",
    "\n",
    "credentialsFromVault=secure_creds.getCredentialsFromEssenceVault(service_account_email)\n",
    "print(\"Creds Loaded\")\n",
    "moat_token = secure_creds.getDataFromEssenceVault('Moat_Token_Google')\n",
    "print(\"Token Loaded\")"
   ]
  },
  {
   "cell_type": "code",
   "execution_count": 5,
   "metadata": {},
   "outputs": [],
   "source": [
    "start_date = '20191001'\n",
    "end_date = '20191006'"
   ]
  },
  {
   "cell_type": "code",
   "execution_count": 1,
   "metadata": {},
   "outputs": [
    {
     "ename": "NameError",
     "evalue": "name 'json' is not defined",
     "output_type": "error",
     "traceback": [
      "\u001b[0;31m---------------------------------------------------------------------------\u001b[0m",
      "\u001b[0;31mNameError\u001b[0m                                 Traceback (most recent call last)",
      "\u001b[0;32m<ipython-input-1-46d3fbc2225a>\u001b[0m in \u001b[0;36m<module>\u001b[0;34m()\u001b[0m\n\u001b[1;32m      1\u001b[0m \u001b[0;32mwith\u001b[0m \u001b[0mopen\u001b[0m\u001b[0;34m(\u001b[0m\u001b[0;34m'dags/brand_report_task_queue.json'\u001b[0m\u001b[0;34m)\u001b[0m \u001b[0;32mas\u001b[0m \u001b[0mjson_file\u001b[0m\u001b[0;34m:\u001b[0m\u001b[0;34m\u001b[0m\u001b[0m\n\u001b[0;32m----> 2\u001b[0;31m     \u001b[0mconfig_json\u001b[0m \u001b[0;34m=\u001b[0m \u001b[0mjson\u001b[0m\u001b[0;34m.\u001b[0m\u001b[0mload\u001b[0m\u001b[0;34m(\u001b[0m\u001b[0mjson_file\u001b[0m\u001b[0;34m)\u001b[0m\u001b[0;34m\u001b[0m\u001b[0m\n\u001b[0m\u001b[1;32m      3\u001b[0m     \u001b[0mcampaigns\u001b[0m \u001b[0;34m=\u001b[0m \u001b[0mconfig_json\u001b[0m\u001b[0;34m[\u001b[0m\u001b[0;34m'campaigns'\u001b[0m\u001b[0;34m]\u001b[0m\u001b[0;34m\u001b[0m\u001b[0m\n",
      "\u001b[0;31mNameError\u001b[0m: name 'json' is not defined"
     ]
    }
   ],
   "source": [
    "with open('dags/brand_report_task_queue.json') as json_file:\n",
    "    config_json = json.load(json_file)\n",
    "    campaigns = config_json['campaigns']"
   ]
  },
  {
   "cell_type": "code",
   "execution_count": 9,
   "metadata": {},
   "outputs": [],
   "source": [
    "Q4 = [(2506,{'level1':22783112},['date','level1','level3']), ## disp stadia,\n",
    "      (2506,{'level1':23221764},['date','level1','level3']), ## disp nest 1,\n",
    "      (2506,{'level1':23197607},['date','level1','level3']), ## disp nest 2\n",
    "      (2506,{'level1':23278016},['date','level1','level3']), ## disp assistant\n",
    "      (2698,{'level1':22783112},['date','level1','level3']), ## vid stadia,\n",
    "      (2698,{'level1':23221764},['date','level1','level3']), ## vid nest 1,\n",
    "      (2698,{'level1':23197607},['date','level1','level3']), ## vid nest 2,\n",
    "      (2698,{'level1':23278016},['date','level1','level3']),\n",
    "      (6179366,{'level1':2604566125},['date','level1','level4']),## yt res stadia\n",
    "      (6196284,{'level1':1533586},['date','level1','level4']) ## yt res dbm assistant\n",
    "\n",
    "     \n",
    "     ]\n"
   ]
  },
  {
   "cell_type": "code",
   "execution_count": 7,
   "metadata": {},
   "outputs": [],
   "source": [
    "def get_moat_data(tile_id,start_date, end_date,level_filters=None,dimensions=None,**kwargs):\n",
    "    tile = MoatTile(tile_id,level_filters,dimensions)\n",
    "    local_filename = tile.get_data(start_date,end_date,moat_token)\n",
    "    return local_filename\n",
    "\n",
    "def upload_local_file(local_filename,dest_bucket,folder=None):\n",
    "    gcs = CloudStorage(credentialsFromVault)\n",
    "    if folder:\n",
    "        blob_name = folder + \"/\" + local_filename\n",
    "    else:\n",
    "        blob_name = local_filename\n",
    "    blob = gcs.upload_blob(dest_bucket, blob_name,local_filename,mode='filename')\n",
    "    return blob"
   ]
  },
  {
   "cell_type": "markdown",
   "metadata": {},
   "source": [
    "# Prototype WorkFlow"
   ]
  },
  {
   "cell_type": "code",
   "execution_count": 22,
   "metadata": {
    "collapsed": true
   },
   "outputs": [],
   "source": [
    "tile_id, level_filter, dimensions = (13120,{'level1':10154328017481183},['date','level1','level4'])"
   ]
  },
  {
   "cell_type": "code",
   "execution_count": 23,
   "metadata": {},
   "outputs": [
    {
     "name": "stdout",
     "output_type": "stream",
     "text": [
      "Data Available, Storing\n"
     ]
    }
   ],
   "source": [
    "filename = get_moat_data(tile_id,'20190801','20190901',level_filter,dimensions)"
   ]
  },
  {
   "cell_type": "code",
   "execution_count": null,
   "metadata": {},
   "outputs": [],
   "source": [
    "filename"
   ]
  },
  {
   "cell_type": "code",
   "execution_count": 9,
   "metadata": {},
   "outputs": [],
   "source": [
    "b = upload_local_file(filename,\"rtf_staging\",folder=\"brand_reporting\")"
   ]
  },
  {
   "cell_type": "code",
   "execution_count": 10,
   "metadata": {},
   "outputs": [
    {
     "name": "stdout",
     "output_type": "stream",
     "text": [
      "2506 {'level1': 22783112} ['date', 'level1', 'level3']\n",
      "Data Available, Storing\n",
      "Stored at Moat_2506_22783112.json\n",
      "Load Schema\n",
      "Try BQ Upload: Moat_2506_0\n",
      "2506 {'level1': 23221764} ['date', 'level1', 'level3']\n",
      "Data Available, Storing\n",
      "Stored at Moat_2506_23221764.json\n",
      "Load Schema\n",
      "Try BQ Upload: Moat_2506_1\n",
      "2506 {'level1': 23197607} ['date', 'level1', 'level3']\n",
      "Data Available, Storing\n",
      "Stored at Moat_2506_23197607.json\n",
      "Load Schema\n",
      "Try BQ Upload: Moat_2506_2\n",
      "2506 {'level1': 23278016} ['date', 'level1', 'level3']\n",
      "Data Available, Storing\n",
      "Stored at Moat_2506_23278016.json\n",
      "Load Schema\n",
      "Try BQ Upload: Moat_2506_3\n",
      "2698 {'level1': 22783112} ['date', 'level1', 'level3']\n",
      "Data Available, Storing\n",
      "Stored at Moat_2698_22783112.json\n",
      "[Errno 2] No such file or directory: 'Moat_2698_22783112.json'\n",
      "2698 {'level1': 23221764} ['date', 'level1', 'level3']\n",
      "Data Available, Storing\n",
      "Stored at Moat_2698_23221764.json\n",
      "[Errno 2] No such file or directory: 'Moat_2698_23221764.json'\n",
      "2698 {'level1': 23197607} ['date', 'level1', 'level3']\n",
      "Data Available, Storing\n",
      "Stored at Moat_2698_23197607.json\n",
      "[Errno 2] No such file or directory: 'Moat_2698_23197607.json'\n",
      "2698 {'level1': 23278016} ['date', 'level1', 'level3']\n",
      "Data Available, Storing\n",
      "Stored at Moat_2698_23278016.json\n",
      "[Errno 2] No such file or directory: 'Moat_2698_23278016.json'\n",
      "6179366 {'level1': 2604566125} ['date', 'level1', 'level4']\n",
      "Data Available, Storing\n",
      "Stored at Moat_6179366_2604566125.json\n",
      "[Errno 2] No such file or directory: 'Moat_6179366_2604566125.json'\n",
      "6196284 {'level1': 1533586} ['date', 'level1', 'level4']\n"
     ]
    },
    {
     "ename": "AttributeError",
     "evalue": "'NoneType' object has no attribute 'get'",
     "output_type": "error",
     "traceback": [
      "\u001b[0;31m---------------------------------------------------------------------------\u001b[0m",
      "\u001b[0;31mAttributeError\u001b[0m                            Traceback (most recent call last)",
      "\u001b[0;32m<ipython-input-10-fda6fd193991>\u001b[0m in \u001b[0;36m<module>\u001b[0;34m\u001b[0m\n\u001b[1;32m      7\u001b[0m     \u001b[0mtile_id\u001b[0m\u001b[0;34m,\u001b[0m \u001b[0mlevel_filter\u001b[0m\u001b[0;34m,\u001b[0m \u001b[0mdimensions\u001b[0m \u001b[0;34m=\u001b[0m \u001b[0mx\u001b[0m\u001b[0;34m\u001b[0m\u001b[0m\n\u001b[1;32m      8\u001b[0m     \u001b[0mprint\u001b[0m\u001b[0;34m(\u001b[0m\u001b[0mtile_id\u001b[0m\u001b[0;34m,\u001b[0m \u001b[0mlevel_filter\u001b[0m\u001b[0;34m,\u001b[0m \u001b[0mdimensions\u001b[0m\u001b[0;34m)\u001b[0m\u001b[0;34m\u001b[0m\u001b[0m\n\u001b[0;32m----> 9\u001b[0;31m     \u001b[0mfilename\u001b[0m \u001b[0;34m=\u001b[0m \u001b[0mget_moat_data\u001b[0m\u001b[0;34m(\u001b[0m\u001b[0mtile_id\u001b[0m\u001b[0;34m,\u001b[0m\u001b[0mstart_date\u001b[0m\u001b[0;34m,\u001b[0m\u001b[0mend_date\u001b[0m\u001b[0;34m,\u001b[0m\u001b[0mlevel_filter\u001b[0m\u001b[0;34m,\u001b[0m\u001b[0mdimensions\u001b[0m\u001b[0;34m)\u001b[0m\u001b[0;34m\u001b[0m\u001b[0m\n\u001b[0m\u001b[1;32m     10\u001b[0m     \u001b[0mprint\u001b[0m\u001b[0;34m(\u001b[0m\u001b[0;34m\"Stored at {}\"\u001b[0m\u001b[0;34m.\u001b[0m\u001b[0mformat\u001b[0m\u001b[0;34m(\u001b[0m\u001b[0mfilename\u001b[0m\u001b[0;34m)\u001b[0m\u001b[0;34m)\u001b[0m\u001b[0;34m\u001b[0m\u001b[0m\n\u001b[1;32m     11\u001b[0m     \u001b[0;32mtry\u001b[0m\u001b[0;34m:\u001b[0m\u001b[0;34m\u001b[0m\u001b[0m\n",
      "\u001b[0;32m<ipython-input-7-305efed6ca14>\u001b[0m in \u001b[0;36mget_moat_data\u001b[0;34m(tile_id, start_date, end_date, level_filters, dimensions, **kwargs)\u001b[0m\n\u001b[1;32m      1\u001b[0m \u001b[0;32mdef\u001b[0m \u001b[0mget_moat_data\u001b[0m\u001b[0;34m(\u001b[0m\u001b[0mtile_id\u001b[0m\u001b[0;34m,\u001b[0m\u001b[0mstart_date\u001b[0m\u001b[0;34m,\u001b[0m \u001b[0mend_date\u001b[0m\u001b[0;34m,\u001b[0m\u001b[0mlevel_filters\u001b[0m\u001b[0;34m=\u001b[0m\u001b[0;32mNone\u001b[0m\u001b[0;34m,\u001b[0m\u001b[0mdimensions\u001b[0m\u001b[0;34m=\u001b[0m\u001b[0;32mNone\u001b[0m\u001b[0;34m,\u001b[0m\u001b[0;34m**\u001b[0m\u001b[0mkwargs\u001b[0m\u001b[0;34m)\u001b[0m\u001b[0;34m:\u001b[0m\u001b[0;34m\u001b[0m\u001b[0m\n\u001b[1;32m      2\u001b[0m     \u001b[0mtile\u001b[0m \u001b[0;34m=\u001b[0m \u001b[0mMoatTile\u001b[0m\u001b[0;34m(\u001b[0m\u001b[0mtile_id\u001b[0m\u001b[0;34m,\u001b[0m\u001b[0mlevel_filters\u001b[0m\u001b[0;34m,\u001b[0m\u001b[0mdimensions\u001b[0m\u001b[0;34m)\u001b[0m\u001b[0;34m\u001b[0m\u001b[0m\n\u001b[0;32m----> 3\u001b[0;31m     \u001b[0mlocal_filename\u001b[0m \u001b[0;34m=\u001b[0m \u001b[0mtile\u001b[0m\u001b[0;34m.\u001b[0m\u001b[0mget_data\u001b[0m\u001b[0;34m(\u001b[0m\u001b[0mstart_date\u001b[0m\u001b[0;34m,\u001b[0m\u001b[0mend_date\u001b[0m\u001b[0;34m,\u001b[0m\u001b[0mmoat_token\u001b[0m\u001b[0;34m)\u001b[0m\u001b[0;34m\u001b[0m\u001b[0m\n\u001b[0m\u001b[1;32m      4\u001b[0m     \u001b[0;32mreturn\u001b[0m \u001b[0mlocal_filename\u001b[0m\u001b[0;34m\u001b[0m\u001b[0m\n\u001b[1;32m      5\u001b[0m \u001b[0;34m\u001b[0m\u001b[0m\n",
      "\u001b[0;32m~/code/rtf_airflow/rtf_utils/moat_utils.py\u001b[0m in \u001b[0;36mget_data\u001b[0;34m(self, start_date, end_date, token, response)\u001b[0m\n\u001b[1;32m    180\u001b[0m             \u001b[0;32mreturn\u001b[0m \u001b[0mresp\u001b[0m\u001b[0;34m\u001b[0m\u001b[0m\n\u001b[1;32m    181\u001b[0m \u001b[0;34m\u001b[0m\u001b[0m\n\u001b[0;32m--> 182\u001b[0;31m         \u001b[0;32mif\u001b[0m \u001b[0mresp\u001b[0m\u001b[0;34m.\u001b[0m\u001b[0mget\u001b[0m\u001b[0;34m(\u001b[0m\u001b[0;34m'data_available'\u001b[0m\u001b[0;34m)\u001b[0m \u001b[0;34m==\u001b[0m \u001b[0;32mTrue\u001b[0m\u001b[0;34m:\u001b[0m\u001b[0;34m\u001b[0m\u001b[0m\n\u001b[0m\u001b[1;32m    183\u001b[0m             \u001b[0mprint\u001b[0m\u001b[0;34m(\u001b[0m\u001b[0;34m\"Data Available, Storing\"\u001b[0m\u001b[0;34m)\u001b[0m\u001b[0;34m\u001b[0m\u001b[0m\n\u001b[1;32m    184\u001b[0m             \u001b[0mself\u001b[0m\u001b[0;34m.\u001b[0m\u001b[0msave_json_newline\u001b[0m\u001b[0;34m(\u001b[0m\u001b[0mresp\u001b[0m\u001b[0;34m.\u001b[0m\u001b[0mget\u001b[0m\u001b[0;34m(\u001b[0m\u001b[0;34m'results'\u001b[0m\u001b[0;34m)\u001b[0m\u001b[0;34m.\u001b[0m\u001b[0mget\u001b[0m\u001b[0;34m(\u001b[0m\u001b[0;34m'details'\u001b[0m\u001b[0;34m)\u001b[0m\u001b[0;34m)\u001b[0m\u001b[0;34m\u001b[0m\u001b[0m\n",
      "\u001b[0;31mAttributeError\u001b[0m: 'NoneType' object has no attribute 'get'"
     ]
    }
   ],
   "source": [
    "import os\n",
    "import time\n",
    "os.environ['GOOGLE_CLOUD_PROJECT'] = 'essence-analytics-dwh'\n",
    "#for x in bonito:\n",
    "for i,x in enumerate(Q4):\n",
    "    time.sleep(10)\n",
    "    tile_id, level_filter, dimensions = x\n",
    "    print(tile_id, level_filter, dimensions)\n",
    "    filename = get_moat_data(tile_id,start_date,end_date,level_filter,dimensions)\n",
    "    print(\"Stored at {}\".format(filename))    \n",
    "    try:\n",
    "        file_uri = upload_local_file(filename,\"rtf_staging\",folder=\"brand_reporting\")\n",
    "        file_uri = \"gs://rtf_staging/\" + file_uri.name\n",
    "    \n",
    "        print(\"Load Schema\")\n",
    "        #schema_dict = moat_schema_dict[tile_id]\n",
    "\n",
    "        dest_table = \"Moat_{}_{}\".format(tile_id,i)\n",
    "\n",
    "        print(\"Try BQ Upload: {}\".format(dest_table))\n",
    "\n",
    "        bq = BigQuery(credentialsFromVault)\n",
    "        resp = bq.load_from_gcs(\"rtf_br_reporting\",\n",
    "                         file_uri,\n",
    "                        dest_table,\n",
    "                        #schema=schema_dict['schema'],\n",
    "                        \n",
    "                        extension='json')\n",
    "    except Exception as e:\n",
    "        print(e)\n",
    "        continue"
   ]
  },
  {
   "cell_type": "code",
   "execution_count": 13,
   "metadata": {},
   "outputs": [],
   "source": [
    "import requests\n",
    "auth_header = 'Bearer {}'.format(moat_token)\n",
    "\n",
    "fields = [\"impressions_analyzed\",\n",
    "                    \"loads_unfiltered\",\n",
    "                    \"susp_human\",\n",
    "                    \"human_and_viewable\",\n",
    "                    ] \n",
    "\n",
    "query = {\n",
    "                'metrics': ','.join(['level1']),\n",
    "                'start': start_date,\n",
    "                'end': end_date,\n",
    "                'brandId':13120, ## this is the tile ID \n",
    "                } \n",
    "\n",
    "\n",
    "resp = requests.get('https://api.moat.com/1/stats.json',\n",
    "                        params=query,\n",
    "                        headers={'Authorization': auth_header,\n",
    "                                    'User-agent': 'Essence Global 1.0'}\n",
    "                       )\n",
    "r = resp.json()"
   ]
  },
  {
   "cell_type": "code",
   "execution_count": null,
   "metadata": {},
   "outputs": [],
   "source": [
    "f"
   ]
  }
 ],
 "metadata": {
  "kernelspec": {
   "display_name": "Python 3",
   "language": "python",
   "name": "python3"
  },
  "language_info": {
   "codemirror_mode": {
    "name": "ipython",
    "version": 3
   },
   "file_extension": ".py",
   "mimetype": "text/x-python",
   "name": "python",
   "nbconvert_exporter": "python",
   "pygments_lexer": "ipython3",
   "version": "3.5.2"
  }
 },
 "nbformat": 4,
 "nbformat_minor": 2
}
