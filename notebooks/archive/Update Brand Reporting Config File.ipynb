{
 "cells": [
  {
   "cell_type": "markdown",
   "metadata": {},
   "source": [
    "# Update Config File Helper\n",
    "### Should be used to update config helper"
   ]
  },
  {
   "cell_type": "code",
   "execution_count": null,
   "metadata": {
    "collapsed": true
   },
   "outputs": [],
   "source": [
    "CONFIG_FILE_PATH = 'dags/brand_report_task_queue.json'"
   ]
  },
  {
   "cell_type": "code",
   "execution_count": 3,
   "metadata": {},
   "outputs": [
    {
     "name": "stdout",
     "output_type": "stream",
     "text": [
      "1. Add Campaign\n",
      "2. Add Report to Campaign\n",
      "Choice:1\n"
     ]
    }
   ],
   "source": [
    "print(\"1. Add Campaign\\n2. Add Report to Campaign\")\n",
    "choice = input(\"Choice:\")\n",
    "if choice == 1:\n",
    "    pass\n",
    "    #dd_report()"
   ]
  },
  {
   "cell_type": "code",
   "execution_count": 2,
   "metadata": {
    "collapsed": true
   },
   "outputs": [],
   "source": [
    "def add_campaign():\n",
    "\n",
    "\n",
    "    choice = input(\"Choice:\")\n",
    "    if choice == 1:\n",
    "        c_name = input(\"Campaign Name: \")\n",
    "        start_date = input(\"Start Date: \")\n",
    "        end_date = input(\"End Date: \")\n",
    "\n",
    "def add_report():\n",
    "    print(\"1. Add Campaign\\n2. Add Report to Campaign\")\n",
    "    choice = input(\"Choice:\")\n",
    "    if choice == 1:\n",
    "        c_name = input(\"Campaign Name: \")\n",
    "        start_date = input(\"Start Date: \")\n",
    "        end_date = input(\"End Date: \")"
   ]
  },
  {
   "cell_type": "code",
   "execution_count": 1,
   "metadata": {
    "collapsed": true
   },
   "outputs": [],
   "source": [
    "import json\n",
    "with open(CONFIG_FILE_PATH) as json_file:\n",
    "    config_json = json.load(json_file)\n",
    "    campaigns = config_json['campaigns']"
   ]
  },
  {
   "cell_type": "code",
   "execution_count": null,
   "metadata": {
    "collapsed": true
   },
   "outputs": [],
   "source": []
  },
  {
   "cell_type": "code",
   "execution_count": null,
   "metadata": {
    "collapsed": true
   },
   "outputs": [],
   "source": [
    "new_report = {'name': 'geo_report', 'profileId': 5096586, 'reportId': 633170439}\n",
    "\n",
    "config_json['campaigns'][0]['dcmTasks'].append(new_report)"
   ]
  },
  {
   "cell_type": "code",
   "execution_count": null,
   "metadata": {
    "collapsed": true
   },
   "outputs": [],
   "source": [
    "with open(CONFIG_FILE_PATH,'w') as json_file:\n",
    "    json.dump(config_json,json_file)"
   ]
  }
 ],
 "metadata": {
  "kernelspec": {
   "display_name": "Python 3",
   "language": "python",
   "name": "python3"
  },
  "language_info": {
   "codemirror_mode": {
    "name": "ipython",
    "version": 3
   },
   "file_extension": ".py",
   "mimetype": "text/x-python",
   "name": "python",
   "nbconvert_exporter": "python",
   "pygments_lexer": "ipython3",
   "version": "3.6.3"
  }
 },
 "nbformat": 4,
 "nbformat_minor": 2
}
