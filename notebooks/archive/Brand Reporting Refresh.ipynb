{
 "cells": [
  {
   "cell_type": "markdown",
   "metadata": {},
   "source": [
    "# DCM - Manual Report Refresh"
   ]
  },
  {
   "cell_type": "code",
   "execution_count": 1,
   "metadata": {},
   "outputs": [],
   "source": [
    "%load_ext autoreload\n",
    "%autoreload 2"
   ]
  },
  {
   "cell_type": "code",
   "execution_count": 3,
   "metadata": {},
   "outputs": [],
   "source": [
    "from brand_reporting_dags.dfa_reporting_dag_tasks import dfa_report_extract,dfa_report_load,clean_up\n",
    "\n",
    "import json\n",
    "import os\n",
    "from datetime import datetime\n",
    "import time\n",
    "import warnings\n",
    "warnings.filterwarnings(\"ignore\", \"Your application has authenticated using end user credentials\")"
   ]
  },
  {
   "cell_type": "code",
   "execution_count": 4,
   "metadata": {},
   "outputs": [],
   "source": [
    "from rtf_utils.dfa_utils import CampaignManagerReport,get_dfa_report,clean_dcm_file\n",
    "from rtf_utils.gcp_utils import BigQuery,CloudStorage\n",
    "from essence.analytics.platform import securedcredentials as secure_creds"
   ]
  },
  {
   "cell_type": "markdown",
   "metadata": {},
   "source": [
    "## DCM Reports"
   ]
  },
  {
   "cell_type": "code",
   "execution_count": 3,
   "metadata": {
    "collapsed": true,
    "jupyter": {
     "outputs_hidden": true
    }
   },
   "outputs": [],
   "source": [
    "with open('dags/brand_report_task_queue.json') as json_file:\n",
    "    config_json = json.load(json_file)\n",
    "    campaigns = config_json['campaigns']"
   ]
  },
  {
   "cell_type": "markdown",
   "metadata": {},
   "source": [
    "Task = (report_id, bq_dest (proj:dataset.table), schema)"
   ]
  },
  {
   "cell_type": "code",
   "execution_count": 4,
   "metadata": {
    "collapsed": true,
    "jupyter": {
     "outputs_hidden": true
    }
   },
   "outputs": [],
   "source": [
    "tasks = campaigns[0]['dcmTasks']"
   ]
  },
  {
   "cell_type": "code",
   "execution_count": 34,
   "metadata": {},
   "outputs": [],
   "source": [
    "tasks = [\n",
    "{'name':'classification','profileId':5096586,'reportId':641053372},\n",
    "{'name':'classification','profileId':5096586,'reportId':641055447},\n",
    "{'name':'classification','profileId':5096586,'reportId':641053269},\n",
    "{'name':'geo_report','profileId':5096586,'reportId':641050621},\n",
    "{'name':'geo_report','profileId':5096586,'reportId':641055789},\n",
    "{'name':'geo_report','profileId':5096586,'reportId':641046828},\n",
    "{'name':'video_player_size','profileId':5096586,'reportId':641052858},\n",
    "{'name':'video_player_size','profileId':5096586,'reportId':641055441},\n",
    "{'name':'video_player_size','profileId':5096586,'reportId':641053414}]"
   ]
  },
  {
   "cell_type": "code",
   "execution_count": 5,
   "metadata": {},
   "outputs": [],
   "source": [
    "service_account_email='131786951123-compute@developer.gserviceaccount.com'\n",
    "os.environ['GOOGLE_CLOUD_PROJECT'] = 'essence-analytics-dwh'\n",
    "credentialsFromVault=secure_creds.getCredentialsFromEssenceVault(service_account_email)"
   ]
  },
  {
   "cell_type": "code",
   "execution_count": 36,
   "metadata": {
    "scrolled": true
   },
   "outputs": [
    {
     "name": "stdout",
     "output_type": "stream",
     "text": [
      "Fetch report meta\n",
      "set date\n",
      "run_report\n",
      "Fetch report meta\n",
      "set date\n",
      "run_report\n",
      "Fetch report meta\n",
      "set date\n",
      "run_report\n",
      "Fetch report meta\n",
      "set date\n",
      "run_report\n",
      "Fetch report meta\n",
      "set date\n",
      "run_report\n",
      "Fetch report meta\n",
      "set date\n",
      "run_report\n",
      "Fetch report meta\n",
      "set date\n",
      "run_report\n",
      "Fetch report meta\n",
      "set date\n",
      "run_report\n",
      "Fetch report meta\n",
      "set date\n",
      "run_report\n"
     ]
    }
   ],
   "source": [
    "## Update and run report\n",
    "start_date = '2019-10-01'\n",
    "end_date = '2019-10-20'\n",
    "\n",
    "check_q = []\n",
    "\n",
    "for task in tasks:\n",
    "    \n",
    "    report = CampaignManagerReport(credentialsFromVault,profile_id = 5096586,report_id = task['reportId'])\n",
    "    print(\"Fetch report meta\")\n",
    "    report.get_report()\n",
    "    \n",
    "    print(\"set date\")\n",
    "    report.set_date_range(start_date,end_date)\n",
    "    print(\"run_report\")\n",
    "    \n",
    "    report.run_report()\n",
    "    \n",
    "    check_q.append(report)"
   ]
  },
  {
   "cell_type": "code",
   "execution_count": 42,
   "metadata": {},
   "outputs": [
    {
     "name": "stdout",
     "output_type": "stream",
     "text": [
      "REPORT_AVAILABLE\n",
      "REPORT_AVAILABLE\n",
      "REPORT_AVAILABLE\n",
      "REPORT_AVAILABLE\n",
      "REPORT_AVAILABLE\n",
      "REPORT_AVAILABLE\n",
      "REPORT_AVAILABLE\n",
      "REPORT_AVAILABLE\n",
      "REPORT_AVAILABLE\n"
     ]
    }
   ],
   "source": [
    "import time\n",
    "for report in check_q:\n",
    "    #time.sleep(10)\n",
    "    print(report.get_report_status())"
   ]
  },
  {
   "cell_type": "code",
   "execution_count": 51,
   "metadata": {},
   "outputs": [
    {
     "name": "stdout",
     "output_type": "stream",
     "text": [
      "Saved @ Q4_BR_Reporting_Classification_Group_2.csv\n",
      "Saved @ Q4_BR_Reporting_Geo_Report_Group_3.csv\n",
      "Saved @ Q4_BR_Reporting_Classification_Group_1.csv\n",
      "Saved @ Q4_BR_Reporting_Geo_Report_Group_2.csv\n",
      "Saved @ Q4_BR_Reporting_Classification_Group_3.csv\n",
      "Saved @ Q4_BR_Reporting_Geo_Report_group1.csv\n",
      "Saved @ Q4_BR_Reporting_Video_Player_Size_Group_2.csv\n",
      "Saved @ Q4_BR_Reporting_Video_Player_Size_Group_3.csv\n",
      "Saved @ Q4_BR_Reporting_Video_Player_Size_Group_1.csv\n"
     ]
    }
   ],
   "source": [
    "import time,csv\n",
    "files = []\n",
    "for report in check_q:\n",
    "    #time.sleep(10)\n",
    "    try:\n",
    "        filename = report.download_file()\n",
    "        files.append(filename)\n",
    "        print(\"Saved @ {}\".format(filename))\n",
    "    except:\n",
    "        print(\"bad news hombre\")\n",
    "\n",
    "    clean_dcm_file(filename)\n",
    "\n",
    "gcs = CloudStorage(credentialsFromVault)       \n",
    "for file in files:    \n",
    "    blob_name = \"brand_reporting/\" + file\n",
    "    gcs.upload_blob('rtf_staging', blob_name, file, mode=\"filename\")"
   ]
  },
  {
   "cell_type": "code",
   "execution_count": 11,
   "metadata": {},
   "outputs": [
    {
     "name": "stdout",
     "output_type": "stream",
     "text": [
      "Loading gs://rtf_staging/5295_BR_Reporting_Classification_20190913_142345_2656806431.csv into DCM_contentReport\n",
      "Loading gs://rtf_staging/5295_BR_Reporting_Geo_Report_20190913_144251_2656783687.csv into DCM_geoReport\n",
      "Loading gs://rtf_staging/5295_BR_Reporting_Video_Player_Size_20190913_140102_2656781516.csv into DCM_playerSizeReport\n"
     ]
    }
   ],
   "source": [
    "service_account_email='131786951123-compute@developer.gserviceaccount.com'\n",
    "credentialsFromVault=secure_creds.getCredentialsFromEssenceVault(service_account_email)\n",
    "bq = BigQuery(credentialsFromVault)\n",
    "\n",
    "for file in files:\n",
    "\n",
    "    bucket = 'rtf_staging/brand_reporting'\n",
    "    file_uri = \"gs://\" + bucket + \"/\" + filename\n",
    "        \n",
    "    dataset_id = 'RTF_DWH_CampaignManager'\n",
    "    \n",
    "    if 'Classification' in file_uri:\n",
    "        dest_table = 'DCM_contentReport'\n",
    "    elif 'Geo' in file_uri:\n",
    "        dest_table = 'DCM_geoReport' \n",
    "    else:\n",
    "        dest_table = 'DCM_playerSizeReport'\n",
    "    print(\"Loading {} into {}\".format(file_uri,dest_table))\n",
    "    bq.load_from_gcs(dataset_id,file_uri,dest_table,mode='Append')"
   ]
  },
  {
   "cell_type": "code",
   "execution_count": 47,
   "metadata": {},
   "outputs": [],
   "source": [
    "def clean_dcm_file(filename):\n",
    "    data = []\n",
    "    write = False\n",
    "    with open(filename,'r') as f:\n",
    "        reader = csv.reader(f, delimiter=',')\n",
    "\n",
    "        for row in reader:\n",
    "            if write == True:\n",
    "                data.append(row)        \n",
    "            elif row == ['Report Fields']:\n",
    "                write = True\n",
    "\n",
    "        if data[-1][0] == 'Grand Total:':\n",
    "            data.pop()\n",
    "\n",
    "    with open(filename, \"w\", newline=\"\") as f:\n",
    "        writer = csv.writer(f)\n",
    "        writer.writerows(data)"
   ]
  },
  {
   "cell_type": "code",
   "execution_count": 48,
   "metadata": {},
   "outputs": [
    {
     "ename": "FileNotFoundError",
     "evalue": "[Errno 2] No such file or directory: 'Q4_BR_Reporting_Classification_Group_2.csv'",
     "output_type": "error",
     "traceback": [
      "\u001b[0;31m---------------------------------------------------------------------------\u001b[0m",
      "\u001b[0;31mFileNotFoundError\u001b[0m                         Traceback (most recent call last)",
      "\u001b[0;32m<ipython-input-48-b491af11e9ae>\u001b[0m in \u001b[0;36m<module>\u001b[0;34m\u001b[0m\n\u001b[1;32m      1\u001b[0m \u001b[0;32mfor\u001b[0m \u001b[0mfile\u001b[0m \u001b[0;32min\u001b[0m \u001b[0mfiles\u001b[0m\u001b[0;34m:\u001b[0m\u001b[0;34m\u001b[0m\u001b[0m\n\u001b[0;32m----> 2\u001b[0;31m     \u001b[0mclean_dcm_file\u001b[0m\u001b[0;34m(\u001b[0m\u001b[0mfile\u001b[0m\u001b[0;34m)\u001b[0m\u001b[0;34m\u001b[0m\u001b[0m\n\u001b[0m",
      "\u001b[0;32m<ipython-input-47-df5d6f5722fa>\u001b[0m in \u001b[0;36mclean_dcm_file\u001b[0;34m(filename)\u001b[0m\n\u001b[1;32m      2\u001b[0m     \u001b[0mdata\u001b[0m \u001b[0;34m=\u001b[0m \u001b[0;34m[\u001b[0m\u001b[0;34m]\u001b[0m\u001b[0;34m\u001b[0m\u001b[0m\n\u001b[1;32m      3\u001b[0m     \u001b[0mwrite\u001b[0m \u001b[0;34m=\u001b[0m \u001b[0;32mFalse\u001b[0m\u001b[0;34m\u001b[0m\u001b[0m\n\u001b[0;32m----> 4\u001b[0;31m     \u001b[0;32mwith\u001b[0m \u001b[0mopen\u001b[0m\u001b[0;34m(\u001b[0m\u001b[0mfilename\u001b[0m\u001b[0;34m,\u001b[0m\u001b[0;34m'r'\u001b[0m\u001b[0;34m)\u001b[0m \u001b[0;32mas\u001b[0m \u001b[0mf\u001b[0m\u001b[0;34m:\u001b[0m\u001b[0;34m\u001b[0m\u001b[0m\n\u001b[0m\u001b[1;32m      5\u001b[0m         \u001b[0mreader\u001b[0m \u001b[0;34m=\u001b[0m \u001b[0mcsv\u001b[0m\u001b[0;34m.\u001b[0m\u001b[0mreader\u001b[0m\u001b[0;34m(\u001b[0m\u001b[0mf\u001b[0m\u001b[0;34m,\u001b[0m \u001b[0mdelimiter\u001b[0m\u001b[0;34m=\u001b[0m\u001b[0;34m','\u001b[0m\u001b[0;34m)\u001b[0m\u001b[0;34m\u001b[0m\u001b[0m\n\u001b[1;32m      6\u001b[0m \u001b[0;34m\u001b[0m\u001b[0m\n",
      "\u001b[0;31mFileNotFoundError\u001b[0m: [Errno 2] No such file or directory: 'Q4_BR_Reporting_Classification_Group_2.csv'"
     ]
    }
   ],
   "source": [
    "for file in files:\n",
    "    clean_dcm_file(file)"
   ]
  },
  {
   "cell_type": "code",
   "execution_count": 56,
   "metadata": {},
   "outputs": [
    {
     "data": {
      "text/plain": [
       "<google.cloud.bigquery.job.LoadJob at 0x7f50051afe48>"
      ]
     },
     "execution_count": 56,
     "metadata": {},
     "output_type": "execute_result"
    }
   ],
   "source": [
    "bq = BigQuery(credentialsFromVault)\n",
    "bq.load_from_gcs('RTF_DWH_CampaignManager',\"gs://rtf_staging/brand_reporting/Q4_BR_Reporting_Classification*\",\"DCM_Classification\",extension='csv',mode='Append')"
   ]
  },
  {
   "cell_type": "code",
   "execution_count": 57,
   "metadata": {},
   "outputs": [
    {
     "name": "stdout",
     "output_type": "stream",
     "text": [
      "Help on method load_from_gcs in module rtf_utils.gcp_utils:\n",
      "\n",
      "load_from_gcs(dataset_id, file_uri, dest_table, schema=None, mode=None, extension='csv', **kwargs) method of rtf_utils.gcp_utils.BigQuery instance\n",
      "    Gets data for tile dimenions/filters within data range. \n",
      "    \n",
      "    Cleans and saves file locally\n",
      "    \n",
      "    Args:\n",
      "        dataset_id (int): request start date in YYYYMMDD\n",
      "        file_uri (str): request end date in YYYYMMDD        \n",
      "        \n",
      "        dest_table (str): API token\n",
      "    \n",
      "        schema (list): list of BigQuery.SchemaObject. defaults to none which inferes schemea\n",
      "        \n",
      "        mode (str)(opt): defaults to WRITE_TRUNCATE disposition\n",
      "        \n",
      "        extension: (str): csv or json\n",
      "    \n",
      "    Returns:\n",
      "        filename (str): filename of local file in working dir\n",
      "\n"
     ]
    }
   ],
   "source": [
    "help(bq.load_from_gcs)"
   ]
  },
  {
   "cell_type": "code",
   "execution_count": 11,
   "metadata": {},
   "outputs": [
    {
     "data": {
      "text/plain": [
       "<google.cloud.bigquery.job.LoadJob at 0x7f5e89b76fd0>"
      ]
     },
     "execution_count": 11,
     "metadata": {},
     "output_type": "execute_result"
    }
   ],
   "source": [
    "bq = BigQuery(credentialsFromVault)\n",
    "bq.load_from_gcs('RTF_DWH_CampaignManager',\"gs://rtf_staging/brand_reporting/Q4_BR_Reporting_Video_Player_Size_Group_1.csv\",\"003_DCM_PlayerSize\",extension='csv')\n",
    "bq.load_from_gcs('RTF_DWH_CampaignManager',\"gs://rtf_staging/brand_reporting/Q4_BR_Reporting_Geo_Report_group1.csv\",\"003_DCM_Geo\",extension='csv')\n",
    "bq.load_from_gcs('RTF_DWH_CampaignManager',\"gs://rtf_staging/brand_reporting/Q4_BR_Reporting_Classification_Group_1.csv\",\"003_DCM_Classification\",extension='csv')"
   ]
  },
  {
   "cell_type": "code",
   "execution_count": 7,
   "metadata": {},
   "outputs": [],
   "source": [
    "geo = CampaignManagerReport(credentialsFromVault,profile_id = 5096586,report_id =645949948)"
   ]
  },
  {
   "cell_type": "code",
   "execution_count": 8,
   "metadata": {},
   "outputs": [
    {
     "data": {
      "text/plain": [
       "{'profile_id': 5096586,\n",
       " 'report_id': 645949948,\n",
       " 'service': <googleapiclient.discovery.Resource at 0x7f15f4301e48>}"
      ]
     },
     "execution_count": 8,
     "metadata": {},
     "output_type": "execute_result"
    }
   ],
   "source": [
    "geo.__dict__"
   ]
  },
  {
   "cell_type": "code",
   "execution_count": null,
   "metadata": {},
   "outputs": [],
   "source": []
  }
 ],
 "metadata": {
  "kernelspec": {
   "display_name": "Python 3",
   "language": "python",
   "name": "python3"
  },
  "language_info": {
   "codemirror_mode": {
    "name": "ipython",
    "version": 3
   },
   "file_extension": ".py",
   "mimetype": "text/x-python",
   "name": "python",
   "nbconvert_exporter": "python",
   "pygments_lexer": "ipython3",
   "version": "3.5.2"
  }
 },
 "nbformat": 4,
 "nbformat_minor": 4
}
