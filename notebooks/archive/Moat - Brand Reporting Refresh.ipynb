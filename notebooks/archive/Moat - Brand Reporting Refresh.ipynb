{
 "cells": [
  {
   "cell_type": "markdown",
   "metadata": {},
   "source": [
    "## Moat Brand Reporting Refresh"
   ]
  },
  {
   "cell_type": "code",
   "execution_count": 2,
   "metadata": {},
   "outputs": [],
   "source": [
    "%load_ext autoreload"
   ]
  },
  {
   "cell_type": "code",
   "execution_count": 3,
   "metadata": {},
   "outputs": [],
   "source": [
    "%autoreload 2"
   ]
  },
  {
   "cell_type": "code",
   "execution_count": 14,
   "metadata": {},
   "outputs": [],
   "source": [
    "from rtf_utils.moat_utils import MoatTile,moat_schemas\n",
    "from essence.analytics.platform import securedcredentials as secure_creds\n",
    "from rtf_utils.gcp_utils import BigQuery,CloudStorage\n",
    "import warnings\n",
    "from rtf_utils.bq_schema import moat_schema_dict\n",
    "import json\n",
    "import logging"
   ]
  },
  {
   "cell_type": "code",
   "execution_count": 5,
   "metadata": {},
   "outputs": [],
   "source": [
    "logger = logging.getLogger()\n",
    "logger.setLevel(logging.INFO)\n",
    "warnings.filterwarnings(\"ignore\", \"Your application has authenticated using end user credentials\")"
   ]
  },
  {
   "cell_type": "code",
   "execution_count": 6,
   "metadata": {},
   "outputs": [
    {
     "name": "stdout",
     "output_type": "stream",
     "text": [
      "Creds Loaded\n",
      "Token Loaded\n"
     ]
    }
   ],
   "source": [
    "service_account_email='131786951123-compute@developer.gserviceaccount.com' ## gcp analytics service account\n",
    "PROJECT_ID='essence-analytics-dwh'\n",
    "\n",
    "credentialsFromVault=secure_creds.getCredentialsFromEssenceVault(service_account_email)\n",
    "print(\"Creds Loaded\")\n",
    "moat_token = secure_creds.getDataFromEssenceVault('Moat_Token_Google')\n",
    "print(\"Token Loaded\")"
   ]
  },
  {
   "cell_type": "code",
   "execution_count": 7,
   "metadata": {},
   "outputs": [],
   "source": []
  },
  {
   "cell_type": "code",
   "execution_count": 8,
   "metadata": {},
   "outputs": [],
   "source": [
    "## Define Moat Tasks for Stadia/Nest/Assistant\n",
    "Q4 = [\n",
    "    ## Google Disp\n",
    "    (2506,{'level1':22783112},['date','level1','level3']), ##  stadia,\n",
    "    (2506,{'level1':23221764},['date','level1','level3']), ##  nest 1,\n",
    "    (2506,{'level1':23197607},['date','level1','level3']), ##  nest 2\n",
    "    (2506,{'level1':23278016},['date','level1','level3']), ##  assistant\n",
    "    (2506,{'level1':23219466},['date','level1','level3']), # Pixel\n",
    "    \n",
    "    ## Google Vid\n",
    "   \n",
    "    #(2698,{'level1':22783112},['date','level1','level3']), ## vid stadia,\n",
    "    #(2698,{'level1':23221764},['date','level1','level3']), ## vid nest 1,\n",
    "    #(2698,{'level1':23197607},['date','level1','level3']), ## vid nest 2,\n",
    "    #(2698,{'level1':23278016},['date','level1','level3']), ## vid assistant\n",
    "    \n",
    "    ## YT TrueView ##\n",
    "    (13386,{'level1':7492919005},['date','level1','level4']), # Stadia\n",
    "    (13386,{'level1':7020493427},['date','level1','level4']),# Pixel\n",
    "    ## YT Reserve \n",
    "    (6179366,{'level2':2604566125},['date','level2','level4']),## yt reserve - stadia\n",
    "    \n",
    "    ## YT Reserve DBM\n",
    "    (6178833,{'level1':1533586},['date','level1','level4']),## yt res dbm  - assistant\n",
    "\n",
    "    ## FB Display\n",
    "    (6195503,{'level1':10154328017481183},['date','level1','level4']),#pixel\n",
    "    ## FB Video NA\n",
    "    #(6195505,{'level1':10154328017481183},['date','level1','level4']),#pixel need acccess\n",
    "    ## FB Video Master\n",
    "     (8268,{'level1':10154328017481183},,'date','level1','level4']),\n",
    "    \n",
    "    ## Twitter Display\n",
    "    (6195541,{'level1':4503599660729481},['date','level1','level2']),#pixel\n",
    " ]\n",
    "\n",
    "# need access to 6196284"
   ]
  },
  {
   "cell_type": "code",
   "execution_count": 8,
   "metadata": {},
   "outputs": [],
   "source": [
    "def get_moat_data(tile_id,start_date, end_date,level_filters=None,dimensions=None,**kwargs):\n",
    "    tile = MoatTile(tile_id,level_filters,dimensions)\n",
    "    local_filename = tile.get_data(start_date,end_date,moat_token)\n",
    "    return local_filename\n",
    "\n",
    "def upload_local_file(local_filename,dest_bucket,folder=None):\n",
    "    gcs = CloudStorage(credentialsFromVault)\n",
    "    if folder:\n",
    "        blob_name = folder + \"/\" + local_filename\n",
    "    else:\n",
    "        blob_name = local_filename\n",
    "    blob = gcs.upload_blob(dest_bucket, blob_name,local_filename,mode='filename')\n",
    "    return blob"
   ]
  },
  {
   "cell_type": "markdown",
   "metadata": {},
   "source": [
    "# Prototype WorkFlow"
   ]
  },
  {
   "cell_type": "code",
   "execution_count": 9,
   "metadata": {},
   "outputs": [
    {
     "name": "stderr",
     "output_type": "stream",
     "text": [
      "INFO:root:API Request Time\n"
     ]
    },
    {
     "name": "stdout",
     "output_type": "stream",
     "text": [
      "6195541 {'level1': 4503599660729481} ['date', 'level1', 'level2']\n"
     ]
    },
    {
     "name": "stderr",
     "output_type": "stream",
     "text": [
      "INFO:root:6195541_4503599660729481.json Saved\n"
     ]
    },
    {
     "name": "stdout",
     "output_type": "stream",
     "text": [
      "Stored at 6195541_4503599660729481.json\n"
     ]
    },
    {
     "name": "stderr",
     "output_type": "stream",
     "text": [
      "INFO:root:File uploaded as brand_reporting/6195541_4503599660729481.json.\n"
     ]
    },
    {
     "name": "stdout",
     "output_type": "stream",
     "text": [
      "Clean Up File\n"
     ]
    }
   ],
   "source": [
    "import os\n",
    "import time\n",
    "os.environ['GOOGLE_CLOUD_PROJECT'] = 'essence-analytics-dwh'\n",
    "#for x in bonito:\n",
    "uploaded_blobs = []\n",
    "for i,x in enumerate([(6195541,{'level1':4503599660729481},['date','level1','level2'])]):\n",
    "    time.sleep(10)\n",
    "    tile_id, level_filter, dimensions = x\n",
    "    print(\"Get data for {]}\".format(tile_id))\n",
    "    filename = get_moat_data(tile_id,start_date,end_date,level_filter,dimensions)\n",
    "    \n",
    "    if filename:\n",
    "        print(\"Stored at {}\".format(filename))\n",
    "    else:\n",
    "        print(\"No Data\")\n",
    "        continue    \n",
    "    \n",
    "    try:\n",
    "        print(\"Try GCS Upload\")\n",
    "        blob = upload_local_file(filename, bucket = \"rtf_staging\", folder = \"brand_reporting\")\n",
    "        print(\"Clean Up File\")\n",
    "        uploaded_blobs.append(blob)\n",
    "        os.remove(filename)\n",
    "    except Exception as e:\n",
    "        print(e)\n",
    "        continue"
   ]
  },
  {
   "cell_type": "code",
   "execution_count": 50,
   "metadata": {},
   "outputs": [],
   "source": [
    "file_uri = \"gs://rtf_staging/brand_reporting/Brand Report - Upload File 2019-10-07T2046.csv\"\n",
    "\n",
    "dest_table = \"003_DataLab_DailyPerformance\"\n",
    "\n",
    "bq.load_from_gcs(\"rtf_br_reporting\",\n",
    "                         file_uri,\n",
    "                        dest_table)\n",
    "                        #schema=schema_dict['schema']"
   ]
  },
  {
   "cell_type": "code",
   "execution_count": 12,
   "metadata": {},
   "outputs": [],
   "source": [
    "bq = BigQuery(credentialsFromVault)\n",
    "from google.cloud import bigquery"
   ]
  },
  {
   "cell_type": "code",
   "execution_count": 15,
   "metadata": {},
   "outputs": [
    {
     "name": "stdout",
     "output_type": "stream",
     "text": [
      "6179366\n",
      "8448583f-c84a-4b60-a5f9-9d8c52554b9d\n",
      "6195541\n",
      "1e5ce770-5d85-427b-b96a-1f41a04ccf6a\n",
      "6195503\n",
      "529aa448-8a38-46e3-a19e-1fbeea77ca1c\n"
     ]
    }
   ],
   "source": [
    "dataset = 'RTF_DWH_Moat'\n",
    "for tile_id in [6179366,6195541,6195503]:\n",
    "    print(tile_id)\n",
    "    bq_schema = [bigquery.SchemaField.from_api_repr(x) for x in moat_schemas.get(tile_id)]\n",
    "\n",
    "    load = bq.load_from_gcs(dataset, \"gs://rtf_staging/brand_reporting/{}*\".format(tile_id), \"{}_20191001_20191020\".format(tile_id),bq_schema,extension='json')\n",
    "    print(load.job_id)"
   ]
  },
  {
   "cell_type": "code",
   "execution_count": 70,
   "metadata": {},
   "outputs": [],
   "source": [
    "from google.cloud import bigquery\n",
    "bq_schema = []\n",
    "for x in schema:\n",
    "    bq_schema.append(bigquery.SchemaField(name=x.get('name'),field_type=x.get('type'), mode=x.get('mode')))"
   ]
  },
  {
   "cell_type": "code",
   "execution_count": 89,
   "metadata": {},
   "outputs": [
    {
     "data": {
      "text/plain": [
       "[{'mode': 'REQUIRED', 'name': 'date', 'type': 'DATE'},\n",
       " {'mode': 'REQUIRED', 'name': 'level1_id', 'type': 'INTEGER'},\n",
       " {'mode': 'REQUIRED', 'name': 'level1_label', 'type': 'STRING'},\n",
       " {'mode': 'REQUIRED', 'name': 'level3_id', 'type': 'INTEGER'},\n",
       " {'mode': 'REQUIRED', 'name': 'level3_label', 'type': 'STRING'},\n",
       " {'mode': 'NULLABLE', 'name': 'loads_unfiltered', 'type': 'INTEGER'},\n",
       " {'mode': 'NULLABLE', 'name': 'impressions_analyzed', 'type': 'INTEGER'},\n",
       " {'mode': 'NULLABLE', 'name': 'human_and_viewable', 'type': 'INTEGER'},\n",
       " {'mode': 'NULLABLE', 'name': 'valid_and_viewable', 'type': 'INTEGER'},\n",
       " {'mode': 'NULLABLE', 'name': 'susp_human', 'type': 'FLOAT'},\n",
       " {'mode': 'NULLABLE', 'name': 'susp_valid', 'type': 'FLOAT'},\n",
       " {'mode': 'NULLABLE', 'name': 'moat_score', 'type': 'INTEGER'},\n",
       " {'mode': 'NULLABLE', 'name': 'iva', 'type': 'INTEGER'}]"
      ]
     },
     "execution_count": 89,
     "metadata": {},
     "output_type": "execute_result"
    }
   ],
   "source": [
    "moat_schemas.get(2506)"
   ]
  },
  {
   "cell_type": "code",
   "execution_count": 122,
   "metadata": {},
   "outputs": [],
   "source": [
    "bq_schema = [bigquery.SchemaField.from_api_repr(x) for x in moat_schemas.get(2506)]\n",
    "load = bq.load_from_gcs(dataset, \"gs://rtf_staging/brand_reporting/2506*\", \"2506_20191001_20191020\",bq_schema,extension='json')"
   ]
  },
  {
   "cell_type": "code",
   "execution_count": null,
   "metadata": {},
   "outputs": [],
   "source": []
  }
 ],
 "metadata": {
  "kernelspec": {
   "display_name": "Python 3",
   "language": "python",
   "name": "python3"
  },
  "language_info": {
   "codemirror_mode": {
    "name": "ipython",
    "version": 3
   },
   "file_extension": ".py",
   "mimetype": "text/x-python",
   "name": "python",
   "nbconvert_exporter": "python",
   "pygments_lexer": "ipython3",
   "version": "3.5.2"
  }
 },
 "nbformat": 4,
 "nbformat_minor": 4
}
