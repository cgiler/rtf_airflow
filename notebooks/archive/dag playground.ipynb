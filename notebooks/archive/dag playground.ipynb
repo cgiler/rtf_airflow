{
 "cells": [
  {
   "cell_type": "code",
   "execution_count": 1,
   "metadata": {},
   "outputs": [],
   "source": [
    "import json\n",
    "import os\n",
    "from datetime import datetime\n",
    "#from rtf_utils.moat_utils import MoatTile\n",
    "from rtf_utils.dfa_utils import CampaignManagerReport,get_dfa_report,clean_dcm_file\n",
    "from rtf_utils.gcp_utils import BigQuery,CloudStorage\n",
    "\n",
    "from essence.analytics.platform import securedcredentials as secure_creds\n",
    "import time\n",
    "\n",
    "import warnings\n",
    "warnings.filterwarnings(\"ignore\", \"Your application has authenticated using end user credentials\")"
   ]
  },
  {
   "cell_type": "code",
   "execution_count": null,
   "metadata": {
    "collapsed": true
   },
   "outputs": [],
   "source": [
    "with open('dags/brand_report_task_queue.json') as json_file:\n",
    "    config_json = json.load(json_file)\n",
    "    campaigns = config_json['campaigns']"
   ]
  },
  {
   "cell_type": "markdown",
   "metadata": {},
   "source": [
    "Task = (report_id, bq_dest (proj:dataset.table), schema)"
   ]
  },
  {
   "cell_type": "code",
   "execution_count": 2,
   "metadata": {},
   "outputs": [],
   "source": [
    "start_date='2019-09-01'\n",
    "end_date='2019-09-10'\n",
    "report_id = 631165400"
   ]
  },
  {
   "cell_type": "code",
   "execution_count": 3,
   "metadata": {},
   "outputs": [],
   "source": [
    "def dfa_report_extract(report_id,start_date,end_date,**context):\n",
    "    ## staging bucket = context['staging_bucket'] in airflow\n",
    "    \n",
    "    bucket_name = 'rtf_staging'\n",
    "    \n",
    "    PROJECT_ID='essence-analytics-dwh'\n",
    "    service_account_email='131786951123-compute@developer.gserviceaccount.com'\n",
    "    credentialsFromVault=secure_creds.getCredentialsFromEssenceVault(service_account_email)\n",
    "    \n",
    "    local_filename = get_dfa_report(credentialsFromVault,\n",
    "                                report_id,#631165400\n",
    "                                start_date,\n",
    "                                end_date)\n",
    "    print(\"Cleaning File\")\n",
    "    clean_dcm_file(local_filename)\n",
    "    \n",
    "    print(\"Auth GCS\")\n",
    "    gcs = CloudStorage(credentialsFromVault)\n",
    "    folder = \"brand_reporting/\"\n",
    "    destination_blob_name = folder + local_filename\n",
    "          \n",
    "    \n",
    "    print(\"Upload File\")\n",
    "    \n",
    "    gcs.upload_blob(bucket_name, destination_blob_name, local_filename, mode='filename')\n",
    "    \n",
    "    stored_blob = gcs.get_blob(bucket_name,destination_blob_name)\n",
    "          \n",
    "    print(\"Clean Up Local\")\n",
    "    os.remove(local_filename)\n",
    "    \n",
    "    return \"gs://\" + stored_blob.bucket.name + \"/\" + stored_blob.name"
   ]
  },
  {
   "cell_type": "code",
   "execution_count": 7,
   "metadata": {},
   "outputs": [],
   "source": [
    "#def dfa_report_load(pull_task_id,dataset_table,schema=None,**context)\n",
    "\n",
    "def dfa_report_load(file_uri,dataset_table,schema=None,**context):\n",
    "    ##context['ti'].xcom_pull('pull_task_id')\n",
    "    \n",
    "    print(\"Get Creds from Vault\")\n",
    "    service_account_email='131786951123-compute@developer.gserviceaccount.com'\n",
    "    credentialsFromVault=secure_creds.getCredentialsFromEssenceVault(service_account_email)\n",
    "    \n",
    "    \n",
    "    \n",
    "    dataset_id = dataset_table.split(\".\")[0]\n",
    "    dest_table = dataset_table.split(\".\")[1]\n",
    "    \n",
    "    print(\"Auth BQ\")\n",
    "    bq = BigQuery(credentialsFromVault)\n",
    "    \n",
    "    print(\"Load to BQ\")\n",
    "    job = bq.load_from_gcs(dataset_id,file_uri,dest_table,mode='Append')"
   ]
  },
  {
   "cell_type": "code",
   "execution_count": 7,
   "metadata": {},
   "outputs": [
    {
     "name": "stdout",
     "output_type": "stream",
     "text": [
      "Get Report Meta\n",
      "File is already available. Start download\n",
      "File downloaded to Bonito_Classification.csv\n",
      "Cleaning File\n",
      "Auth GCS\n",
      "Upload File\n",
      "Clean Up Local\n"
     ]
    }
   ],
   "source": [
    "resp = dfa_report_extract(report_id,start_date,end_date)"
   ]
  },
  {
   "cell_type": "code",
   "execution_count": 6,
   "metadata": {},
   "outputs": [
    {
     "name": "stdout",
     "output_type": "stream",
     "text": [
      "Get Creds from Vault\n",
      "Auth BQ\n",
      "Load to BQ\n"
     ]
    }
   ],
   "source": [
    "dfa_report_load(\"gs://rtf_staging/brand_reporting/Bonito_Classification.csv\",\"RTF_DWH_CampaignManager.STAGING_classification_report\")"
   ]
  },
  {
   "cell_type": "code",
   "execution_count": null,
   "metadata": {
    "collapsed": true
   },
   "outputs": [],
   "source": []
  }
 ],
 "metadata": {
  "kernelspec": {
   "display_name": "Python 3",
   "language": "python",
   "name": "python3"
  },
  "language_info": {
   "codemirror_mode": {
    "name": "ipython",
    "version": 3
   },
   "file_extension": ".py",
   "mimetype": "text/x-python",
   "name": "python",
   "nbconvert_exporter": "python",
   "pygments_lexer": "ipython3",
   "version": "3.6.3"
  }
 },
 "nbformat": 4,
 "nbformat_minor": 2
}
