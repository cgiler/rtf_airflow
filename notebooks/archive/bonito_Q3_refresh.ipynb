{
 "cells": [
  {
   "cell_type": "code",
   "execution_count": 47,
   "metadata": {
    "collapsed": true
   },
   "outputs": [],
   "source": [
    "from rtf_utils.moat_utils import MoatTile\n",
    "import json\n",
    "import logging\n",
    "import sys\n",
    "import os\n",
    "from rtf_utils.gcp_utils import CloudStorage,BigQuery\n",
    "from essence.analytics.platform import securedcredentials as secure_creds"
   ]
  },
  {
   "cell_type": "code",
   "execution_count": 48,
   "metadata": {},
   "outputs": [
    {
     "name": "stderr",
     "output_type": "stream",
     "text": [
      "/Users/kylerandolph/anaconda3/lib/python3.6/site-packages/google/auth/_default.py:66: UserWarning: Your application has authenticated using end user credentials from Google Cloud SDK. We recommend that most server applications use service accounts instead. If your application continues to use end user credentials from Cloud SDK, you might receive a \"quota exceeded\" or \"API not enabled\" error. For more information about service accounts, see https://cloud.google.com/docs/authentication/.\n",
      "  warnings.warn(_CLOUD_SDK_CREDENTIALS_WARNING)\n",
      "/Users/kylerandolph/anaconda3/lib/python3.6/site-packages/google/auth/_default.py:66: UserWarning: Your application has authenticated using end user credentials from Google Cloud SDK. We recommend that most server applications use service accounts instead. If your application continues to use end user credentials from Cloud SDK, you might receive a \"quota exceeded\" or \"API not enabled\" error. For more information about service accounts, see https://cloud.google.com/docs/authentication/.\n",
      "  warnings.warn(_CLOUD_SDK_CREDENTIALS_WARNING)\n",
      "/Users/kylerandolph/anaconda3/lib/python3.6/site-packages/google/auth/_default.py:66: UserWarning: Your application has authenticated using end user credentials from Google Cloud SDK. We recommend that most server applications use service accounts instead. If your application continues to use end user credentials from Cloud SDK, you might receive a \"quota exceeded\" or \"API not enabled\" error. For more information about service accounts, see https://cloud.google.com/docs/authentication/.\n",
      "  warnings.warn(_CLOUD_SDK_CREDENTIALS_WARNING)\n"
     ]
    }
   ],
   "source": [
    "service_account_email='131786951123-compute@developer.gserviceaccount.com' ## gcp analytics service account\n",
    "PROJECT_ID='essence-analytics-dwh'\n",
    "credentialsFromVault=secure_creds.getCredentialsFromEssenceVault(service_account_email)\n",
    "\n",
    "\n",
    "moat_token = \"IhSsMXBfH1eQBYaeYEYDJxot3Gs0uq9iaIUm3Qzf\"\n",
    "start_date = '20190901'\n",
    "end_date = '20190910'"
   ]
  },
  {
   "cell_type": "markdown",
   "metadata": {},
   "source": [
    "### Moat Stuff"
   ]
  },
  {
   "cell_type": "code",
   "execution_count": 3,
   "metadata": {},
   "outputs": [
    {
     "name": "stderr",
     "output_type": "stream",
     "text": [
      "/Users/kylerandolph/anaconda3/lib/python3.6/site-packages/google/auth/_default.py:66: UserWarning: Your application has authenticated using end user credentials from Google Cloud SDK. We recommend that most server applications use service accounts instead. If your application continues to use end user credentials from Cloud SDK, you might receive a \"quota exceeded\" or \"API not enabled\" error. For more information about service accounts, see https://cloud.google.com/docs/authentication/.\n",
      "  warnings.warn(_CLOUD_SDK_CREDENTIALS_WARNING)\n",
      "/Users/kylerandolph/anaconda3/lib/python3.6/site-packages/google/auth/_default.py:66: UserWarning: Your application has authenticated using end user credentials from Google Cloud SDK. We recommend that most server applications use service accounts instead. If your application continues to use end user credentials from Cloud SDK, you might receive a \"quota exceeded\" or \"API not enabled\" error. For more information about service accounts, see https://cloud.google.com/docs/authentication/.\n",
      "  warnings.warn(_CLOUD_SDK_CREDENTIALS_WARNING)\n"
     ]
    }
   ],
   "source": [
    "ig_vid = MoatTile(tile_id=13120,\n",
    "         tile_type=\"vid\",name = \"ig_vid\",\n",
    "         level_filters={'level1':10154328017481183},\n",
    "         dimensions=['date','level4'])\n",
    "\n",
    "yt_trv = MoatTile(tile_id=13386,\n",
    "         tile_type=\"vid\",name = \"YT_TRV\",\n",
    "         level_filters={'level1':7020493427},\n",
    "         dimensions=['date','level4'])\n",
    "\"\"\"\n",
    "\n",
    "cm_disp = MoatTile(tile_id=2506,\n",
    "         tile_type=\"disp\",name = \"cm_disp\",\n",
    "         level_filters={'level1':22830945},\n",
    "         dimensions=['date','level3'])\n",
    "                   \n",
    "cm_vid = MoatTile(tile_id=2698,\n",
    "         tile_type=\"vid\",name = \"cm_vid\",\n",
    "         level_filters={'level1':22830945},\n",
    "         dimensions=['date','level3'])\n",
    "\"\"\"\n",
    "\n",
    "gcs = CloudStorage(credentialsFromVault)\n",
    "bq = BigQuery(credentialsFromVault)\n",
    "\n",
    "def request_and_upload(moat_tile,dest_bucket,folder=None):\n",
    "    filename = moat_tile.get_data(start_date, end_date,moat_token)\n",
    "    if folder:\n",
    "        blob_name = folder + \"/\" + filename\n",
    "    \n",
    "    gcs.upload_blob(dest_bucket,blob_name,filename,mode='filename')\n",
    "    \n",
    "    gcs_uri = \"gs://\" + dest_bucket + \"/\" + blob_name\n",
    "    \n",
    "    print(\"File Upload to {}\".format(gcs_uri))\n",
    "    \n",
    "    os.remove(filename)\n",
    "    print(\"{} Removed Locally\".format(filename))\n",
    "    \n",
    "    return gcs_uri"
   ]
  },
  {
   "cell_type": "code",
   "execution_count": 4,
   "metadata": {},
   "outputs": [
    {
     "name": "stdout",
     "output_type": "stream",
     "text": [
      "Data Available, Storing\n",
      "File Upload to gs://rtf_staging/bonitoQ3/13120_ig_vid.json\n",
      "13120_ig_vid.json Removed Locally\n",
      "Data Available, Storing\n",
      "File Upload to gs://rtf_staging/bonitoQ3/13386_YT_TRV.json\n",
      "13386_YT_TRV.json Removed Locally\n"
     ]
    }
   ],
   "source": [
    "queue = [(ig_vid,\"rtf_staging\",\"bonitoQ3\"),(yt_trv,\"rtf_staging\",\"bonitoQ3\")]\n",
    "uris = [request_and_upload(*x) for x in queue] ##unpack tuple of arg"
   ]
  },
  {
   "cell_type": "code",
   "execution_count": 49,
   "metadata": {},
   "outputs": [
    {
     "name": "stderr",
     "output_type": "stream",
     "text": [
      "/Users/kylerandolph/anaconda3/lib/python3.6/site-packages/google/auth/_default.py:66: UserWarning: Your application has authenticated using end user credentials from Google Cloud SDK. We recommend that most server applications use service accounts instead. If your application continues to use end user credentials from Cloud SDK, you might receive a \"quota exceeded\" or \"API not enabled\" error. For more information about service accounts, see https://cloud.google.com/docs/authentication/.\n",
      "  warnings.warn(_CLOUD_SDK_CREDENTIALS_WARNING)\n",
      "/Users/kylerandolph/anaconda3/lib/python3.6/site-packages/google/auth/_default.py:66: UserWarning: Your application has authenticated using end user credentials from Google Cloud SDK. We recommend that most server applications use service accounts instead. If your application continues to use end user credentials from Cloud SDK, you might receive a \"quota exceeded\" or \"API not enabled\" error. For more information about service accounts, see https://cloud.google.com/docs/authentication/.\n",
      "  warnings.warn(_CLOUD_SDK_CREDENTIALS_WARNING)\n"
     ]
    },
    {
     "data": {
      "text/plain": [
       "<google.cloud.bigquery.job.LoadJob at 0x10f4f12b0>"
      ]
     },
     "execution_count": 49,
     "metadata": {},
     "output_type": "execute_result"
    }
   ],
   "source": [
    "gcs = CloudStorage(credentialsFromVault)\n",
    "bq = BigQuery(credentialsFromVault)\n",
    "\n",
    "bq.load_from_gcs('rtf_brand_reporting',\n",
    "                 'gs://rtf_staging/Pixel Brand Report - Upload File 2019-09-12T1425.csv',\n",
    "                 'DATALAB_performanceReport_RAW',mode='Append',ext='csv')"
   ]
  },
  {
   "cell_type": "code",
   "execution_count": 6,
   "metadata": {},
   "outputs": [
    {
     "ename": "BadRequest",
     "evalue": "400 Provided Schema does not match Table essence-analytics-dwh:rtf_brand_reporting.01_MOAT_IG_VID. Field level4_label has changed type from STRING to INTEGER",
     "output_type": "error",
     "traceback": [
      "\u001b[0;31m---------------------------------------------------------------------------\u001b[0m",
      "\u001b[0;31mBadRequest\u001b[0m                                Traceback (most recent call last)",
      "\u001b[0;32m<ipython-input-6-972519da5e9b>\u001b[0m in \u001b[0;36m<module>\u001b[0;34m()\u001b[0m\n\u001b[1;32m      1\u001b[0m bq.load_from_gcs('rtf_brand_reporting',\n\u001b[1;32m      2\u001b[0m                  \u001b[0;34m'gs://rtf_staging/bonitoQ3/13120_ig_vid.json'\u001b[0m\u001b[0;34m,\u001b[0m\u001b[0;34m\u001b[0m\u001b[0m\n\u001b[0;32m----> 3\u001b[0;31m                  '01_MOAT_IG_VID',mode='Append',ext='json')\n\u001b[0m",
      "\u001b[0;32m~/Code/rtf_airflow/rtf_utils/gcp_utils.py\u001b[0m in \u001b[0;36mload_from_gcs\u001b[0;34m(self, dataset_id, file_uri, dest_table, schema, mode, ext, **kwargs)\u001b[0m\n\u001b[1;32m     76\u001b[0m                                                     job_config=job_config)\n\u001b[1;32m     77\u001b[0m \u001b[0;34m\u001b[0m\u001b[0m\n\u001b[0;32m---> 78\u001b[0;31m         \u001b[0;32mreturn\u001b[0m \u001b[0mload_job\u001b[0m\u001b[0;34m.\u001b[0m\u001b[0mresult\u001b[0m\u001b[0;34m(\u001b[0m\u001b[0;34m)\u001b[0m\u001b[0;34m\u001b[0m\u001b[0m\n\u001b[0m\u001b[1;32m     79\u001b[0m \u001b[0;34m\u001b[0m\u001b[0m\n\u001b[1;32m     80\u001b[0m \u001b[0;32mclass\u001b[0m \u001b[0mCloudStorage\u001b[0m\u001b[0;34m:\u001b[0m\u001b[0;34m\u001b[0m\u001b[0m\n",
      "\u001b[0;32m~/anaconda3/lib/python3.6/site-packages/google/cloud/bigquery/job.py\u001b[0m in \u001b[0;36mresult\u001b[0;34m(self, timeout, retry)\u001b[0m\n\u001b[1;32m    732\u001b[0m             \u001b[0mself\u001b[0m\u001b[0;34m.\u001b[0m\u001b[0m_begin\u001b[0m\u001b[0;34m(\u001b[0m\u001b[0mretry\u001b[0m\u001b[0;34m=\u001b[0m\u001b[0mretry\u001b[0m\u001b[0;34m)\u001b[0m\u001b[0;34m\u001b[0m\u001b[0m\n\u001b[1;32m    733\u001b[0m         \u001b[0;31m# TODO: modify PollingFuture so it can pass a retry argument to done().\u001b[0m\u001b[0;34m\u001b[0m\u001b[0;34m\u001b[0m\u001b[0m\n\u001b[0;32m--> 734\u001b[0;31m         \u001b[0;32mreturn\u001b[0m \u001b[0msuper\u001b[0m\u001b[0;34m(\u001b[0m\u001b[0m_AsyncJob\u001b[0m\u001b[0;34m,\u001b[0m \u001b[0mself\u001b[0m\u001b[0;34m)\u001b[0m\u001b[0;34m.\u001b[0m\u001b[0mresult\u001b[0m\u001b[0;34m(\u001b[0m\u001b[0mtimeout\u001b[0m\u001b[0;34m=\u001b[0m\u001b[0mtimeout\u001b[0m\u001b[0;34m)\u001b[0m\u001b[0;34m\u001b[0m\u001b[0m\n\u001b[0m\u001b[1;32m    735\u001b[0m \u001b[0;34m\u001b[0m\u001b[0m\n\u001b[1;32m    736\u001b[0m     \u001b[0;32mdef\u001b[0m \u001b[0mcancelled\u001b[0m\u001b[0;34m(\u001b[0m\u001b[0mself\u001b[0m\u001b[0;34m)\u001b[0m\u001b[0;34m:\u001b[0m\u001b[0;34m\u001b[0m\u001b[0m\n",
      "\u001b[0;32m~/anaconda3/lib/python3.6/site-packages/google/api_core/future/polling.py\u001b[0m in \u001b[0;36mresult\u001b[0;34m(self, timeout)\u001b[0m\n\u001b[1;32m    125\u001b[0m             \u001b[0;31m# pylint: disable=raising-bad-type\u001b[0m\u001b[0;34m\u001b[0m\u001b[0;34m\u001b[0m\u001b[0m\n\u001b[1;32m    126\u001b[0m             \u001b[0;31m# Pylint doesn't recognize that this is valid in this case.\u001b[0m\u001b[0;34m\u001b[0m\u001b[0;34m\u001b[0m\u001b[0m\n\u001b[0;32m--> 127\u001b[0;31m             \u001b[0;32mraise\u001b[0m \u001b[0mself\u001b[0m\u001b[0;34m.\u001b[0m\u001b[0m_exception\u001b[0m\u001b[0;34m\u001b[0m\u001b[0m\n\u001b[0m\u001b[1;32m    128\u001b[0m \u001b[0;34m\u001b[0m\u001b[0m\n\u001b[1;32m    129\u001b[0m         \u001b[0;32mreturn\u001b[0m \u001b[0mself\u001b[0m\u001b[0;34m.\u001b[0m\u001b[0m_result\u001b[0m\u001b[0;34m\u001b[0m\u001b[0m\n",
      "\u001b[0;31mBadRequest\u001b[0m: 400 Provided Schema does not match Table essence-analytics-dwh:rtf_brand_reporting.01_MOAT_IG_VID. Field level4_label has changed type from STRING to INTEGER"
     ]
    }
   ],
   "source": [
    "bq.load_from_gcs(dataset_id='rtf_brand_reporting',\n",
    "                 file_uri='gs://rtf_staging/bonitoQ3/13120_ig_vid.json',\n",
    "                 dest_table='01_MOAT_IG_VID',mode='Append',ext='json')"
   ]
  },
  {
   "cell_type": "code",
   "execution_count": null,
   "metadata": {
    "collapsed": true
   },
   "outputs": [],
   "source": [
    "bq.load_from_gcs(dataset_id='rtf_brand_reporting',\n",
    "                 file_uri='gs://rtf_staging/bonitoQ3/13120_ig_vid.json',\n",
    "                 dest_table='01_MOAT_IG_VID',mode='Append',ext='json')"
   ]
  },
  {
   "cell_type": "markdown",
   "metadata": {},
   "source": [
    "## ------ DCM Section ------"
   ]
  },
  {
   "cell_type": "markdown",
   "metadata": {},
   "source": [
    "#### DCM ToDo:\n",
    "- refactor report class take same data range format. Declare one format globally and format on class instantiation\n",
    "- Put dcm report cleaner in class\n",
    "- put report wait-until-available in class\n",
    "- figure out a better way to materalize views -- storing sql etc (use parameters for tables names"
   ]
  },
  {
   "cell_type": "code",
   "execution_count": 7,
   "metadata": {
    "collapsed": true
   },
   "outputs": [],
   "source": [
    "from rtf_utils.dfa_utils import CampaignManagerReport\n",
    "import time"
   ]
  },
  {
   "cell_type": "code",
   "execution_count": 15,
   "metadata": {
    "collapsed": true
   },
   "outputs": [],
   "source": [
    "def report_workflow(dcm_report):\n",
    "    print(dcm_report.report['name'])\n",
    "    dcm_report.set_date_range(\"2019-09-01\",\"2019-09-10\")\n",
    "    dcm_report.run_report()\n",
    "    \n",
    "    dcm_report.get_report_status()\n",
    "    \n",
    "    while dcm_report.status != \"REPORT_AVAILABLE\":\n",
    "        time.sleep(10)\n",
    "        dcm_report.get_report_status()\n",
    "        print(dcm_report.status)\n",
    "        \n",
    "    file_name = dcm_report.download_file()\n",
    "    \n",
    "    dcm_report.clean_dcm_file()"
   ]
  },
  {
   "cell_type": "code",
   "execution_count": 9,
   "metadata": {},
   "outputs": [
    {
     "name": "stderr",
     "output_type": "stream",
     "text": [
      "/Users/kylerandolph/anaconda3/lib/python3.6/site-packages/google/auth/_default.py:66: UserWarning: Your application has authenticated using end user credentials from Google Cloud SDK. We recommend that most server applications use service accounts instead. If your application continues to use end user credentials from Cloud SDK, you might receive a \"quota exceeded\" or \"API not enabled\" error. For more information about service accounts, see https://cloud.google.com/docs/authentication/.\n",
      "  warnings.warn(_CLOUD_SDK_CREDENTIALS_WARNING)\n"
     ]
    }
   ],
   "source": [
    "gcs = CloudStorage(credentialsFromVault)\n",
    "verification_report = CampaignManagerReport(credentialsFromVault,5096586,631165400)\n",
    "video_player_size = CampaignManagerReport(credentialsFromVault,5096586,632709822)"
   ]
  },
  {
   "cell_type": "code",
   "execution_count": 16,
   "metadata": {
    "collapsed": true
   },
   "outputs": [],
   "source": [
    "result = map(report_workflow,[verification_report,video_player_size])"
   ]
  },
  {
   "cell_type": "code",
   "execution_count": 17,
   "metadata": {},
   "outputs": [
    {
     "name": "stdout",
     "output_type": "stream",
     "text": [
      "Bonito Classification\n",
      "PROCESSING\n",
      "REPORT_AVAILABLE\n"
     ]
    },
    {
     "ename": "AttributeError",
     "evalue": "'CampaignManagerReport' object has no attribute 'clean_dcm_file'",
     "output_type": "error",
     "traceback": [
      "\u001b[0;31m---------------------------------------------------------------------------\u001b[0m",
      "\u001b[0;31mAttributeError\u001b[0m                            Traceback (most recent call last)",
      "\u001b[0;32m<ipython-input-17-bd4dba6a03ee>\u001b[0m in \u001b[0;36m<module>\u001b[0;34m()\u001b[0m\n\u001b[0;32m----> 1\u001b[0;31m \u001b[0mlist\u001b[0m\u001b[0;34m(\u001b[0m\u001b[0mresult\u001b[0m\u001b[0;34m)\u001b[0m\u001b[0;34m\u001b[0m\u001b[0m\n\u001b[0m",
      "\u001b[0;32m<ipython-input-15-3ae379a6c562>\u001b[0m in \u001b[0;36mreport_workflow\u001b[0;34m(dcm_report)\u001b[0m\n\u001b[1;32m     13\u001b[0m     \u001b[0mfile_name\u001b[0m \u001b[0;34m=\u001b[0m \u001b[0mdcm_report\u001b[0m\u001b[0;34m.\u001b[0m\u001b[0mdownload_file\u001b[0m\u001b[0;34m(\u001b[0m\u001b[0;34m)\u001b[0m\u001b[0;34m\u001b[0m\u001b[0m\n\u001b[1;32m     14\u001b[0m \u001b[0;34m\u001b[0m\u001b[0m\n\u001b[0;32m---> 15\u001b[0;31m     \u001b[0mdcm_report\u001b[0m\u001b[0;34m.\u001b[0m\u001b[0mclean_dcm_file\u001b[0m\u001b[0;34m(\u001b[0m\u001b[0;34m)\u001b[0m\u001b[0;34m\u001b[0m\u001b[0m\n\u001b[0m",
      "\u001b[0;31mAttributeError\u001b[0m: 'CampaignManagerReport' object has no attribute 'clean_dcm_file'"
     ]
    }
   ],
   "source": [
    "list(result)\n"
   ]
  },
  {
   "cell_type": "code",
   "execution_count": 9,
   "metadata": {
    "collapsed": true
   },
   "outputs": [],
   "source": [
    "materialize_verification = \"\"\"\n",
    "                            SELECT\n",
    "                              date,\n",
    "                              CAST(REGEXP_EXTRACT(placement,r\"OPID-(\\d+)\") AS int64) AS opid,\n",
    "                              SUM(verifiable_impressions) verifiable_impressions_no_issues\n",
    "                            FROM\n",
    "                              `essence-analytics-dwh.rtf_brand_reporting.DCM_contentVerification`\n",
    "                            WHERE\n",
    "                              classifier = \"None Detected\"\n",
    "                            GROUP BY\n",
    "                              1,\n",
    "                              2\n",
    "\n",
    "                            \"\"\"\n",
    "\n",
    "materialize_player_report = \"\"\"\n",
    "                            WITH\n",
    "                              player_pivot AS (\n",
    "                              SELECT\n",
    "                                date,\n",
    "                                CAST(REGEXP_EXTRACT(placement,r\"OPID-(\\d+)\") AS int64) AS opid,\n",
    "                                CASE\n",
    "                                  WHEN video_player_size = \"HD\" THEN verifiable_impressions\n",
    "                              END\n",
    "                                AS hd_player_impressions,\n",
    "                                CASE\n",
    "                                  WHEN video_player_size = \"LARGE\" THEN verifiable_impressions\n",
    "                              END\n",
    "                                AS large_player_impressions,\n",
    "                                CASE\n",
    "                                  WHEN video_player_size = \"SMALL\" THEN verifiable_impressions\n",
    "                              END\n",
    "                                AS small_player_impressions,\n",
    "                                CASE\n",
    "                                  WHEN video_player_size = \"(not set)\" THEN verifiable_impressions\n",
    "                              END\n",
    "                                AS player_not_set_impressions\n",
    "                              FROM\n",
    "                                `essence-analytics-dwh.rtf_brand_reporting.DCM_playerSize`)\n",
    "                            SELECT\n",
    "                              date,\n",
    "                              opid,\n",
    "                              SUM(hd_player_impressions) hd_player_impressions,\n",
    "                              SUM(large_player_impressions) large_player_impressions,\n",
    "                              SUM(small_player_impressions) small_player_impressions,\n",
    "                              SUM(player_not_set_impressions) player_not_set_impressions\n",
    "                            FROM\n",
    "                              player_pivot\n",
    "                            GROUP BY\n",
    "                              1,\n",
    "                              2\n",
    "                            \"\"\"\n",
    "\n",
    "\n",
    "moat_vid = \"\"\"\n",
    "            SELECT\n",
    "              date,\n",
    "              CAST(REGEXP_EXTRACT(level4_label,r\"OPID-(\\d+)\") AS int64) AS opid,\n",
    "              SUM(impressions_analyzed) AS moat_vid_impressions_analyzed,\n",
    "              SUM(susp_valid) AS moat_vid_susp_valid,\n",
    "              SUM(valid_and_viewable) AS valid_and_viewable,\n",
    "              SUM(reached_first_quart_sum) reached_first_quart_sum,\n",
    "              SUM(reached_second_quart_sum) reached_second_quart_sum,\n",
    "              SUM(reached_third_quart_sum) reached_third_quart_sum,\n",
    "              SUM(reached_complete_sum) reached_complete_sum,\n",
    "              SUM(player_visible_on_complete_sum) player_visible_on_complete_sum,\n",
    "              SUM(player_audible_on_complete_sum) player_audible_on_complete_sum,\n",
    "              SUM(player_vis_and_aud_on_complete_sum) player_vis_and_aud_on_complete_sum,\n",
    "              SUM(susp_valid_and_inview_gm_meas_sum) susp_valid_and_inview_gm_meas_sum,\n",
    "              sum(_5_sec_in_view_impressions) _5_sec_in_view_impressions,\n",
    "              sum(susp_bot_geo_perc) susp_bot_geo_perc\n",
    "            FROM\n",
    "              `essence-analytics-dwh.rtf_brand_reporting.MOAT_videoTiles_RAW`\n",
    "\n",
    "            Group by 1,2\n",
    "            \"\"\"\n",
    "\n",
    "moat_disp = \"\"\"\n",
    "            SELECT\n",
    "              date,\n",
    "              CAST(REGEXP_EXTRACT(level3_label,r\"OPID-(\\d+)\") AS int64) AS opid,\n",
    "              SUM(impressions_analyzed) AS impressions_analyzed,\n",
    "              SUM(valid_and_viewable) AS valid_and_viewable,\n",
    "              SUM(iva) AS iva,\n",
    "              SUM(susp_bot_geo_perc) AS susp_bot_geo_perc\n",
    "            FROM\n",
    "              `essence-analytics-dwh.rtf_brand_reporting.MOAT_displayTiles_RAW`\n",
    "            GROUP BY\n",
    "              1,\n",
    "              2\n",
    "            \"\"\"\n",
    "\n",
    "\n",
    "\n",
    "\n",
    "final_table = \"\"\"\n",
    "SELECT\n",
    "Time_1__Date_of_Activity as date,Olive_Plan_Line_ID as OLIVE_plan_id,\n",
    "Olive_Plan_Line_Name as OLIVE_plan_line_name,\n",
    "Olive__Plan_Line_Property_ as OLIVE_plan_line_property,\n",
    "Olive_Media_Type as OLIVE_media_type,\n",
    "Performance_And_Delivery_1__Impressions as OLIVE_impressions,\n",
    "Performance_And_Delivery_2__Clicks as OLIVE_clicks,\n",
    "Performance_And_Delivery_6__Spend_in_USD as OLIVE_spend_usd,\n",
    "null as MOAT_disp_impressions_analyzed,\n",
    "null as MOAT_dis_susp_valid,\n",
    "null as MOAT_dis_valid_and_viewable,\n",
    "vid_impressions_analyzed as MOAT_vid_impressions_analyzed,\n",
    "vid_susp_valid as MOAT_vid_valid_impressions,\n",
    "vid_valid_and_viewable as MOAT_vid_valid_and_viewable, \n",
    "reached_first_quart_sum as MOAT_reached_first_quart_sum,\n",
    "reached_second_quart_sum as MOAT_reached_second_quart_sum,\n",
    "reached_third_quart_sum as MOAT_reached_third_quart_sum,\n",
    "reached_complete_sum as MOAT_reached_complete_sum,\n",
    "player_visible_on_complete_sum as MOAT_player_visible_on_complete_sum,\n",
    "player_audible_on_complete_sum as MOAT_player_audible_on_complete_sum ,\n",
    "player_vis_and_aud_on_complete_sum as MOAT_player_vis_and_aud_on_complete_sum,\n",
    "susp_valid_and_inview_gm_meas_sum as MOAT_susp_valid_and_inview_gm_meas_sum,\n",
    "0 + vid_valid_and_viewable as MOAT_valid_and_viewable,\n",
    "0 + vid_impressions_analyzed as MOAT_total_impressions_analyzed,\n",
    "0 + vid_susp_valid as MOAT_total_moat_valid_impressions,\n",
    "null as iva,\n",
    "Non_US_Impressions as DCM_non_us_impressions,\n",
    "verifiable_impressions_no_issues as DCM_verification_no_issues,\n",
    "small_player_impressions as DCM_small_player_impressions, \n",
    "large_player_impressions as DCM_large_player_impressions, \n",
    "hd_player_impressions as DCM_hd_player_impressions,\n",
    "Olive_Plan_Name as OLIVE_plan_name\n",
    "FROM `essence-analytics-dwh.rtf_brand_reporting.V_brandReport_FINAL`\n",
    "\n",
    "\"\"\"\n",
    "\n"
   ]
  },
  {
   "cell_type": "code",
   "execution_count": 18,
   "metadata": {
    "collapsed": true
   },
   "outputs": [],
   "source": [
    "import datetime"
   ]
  },
  {
   "cell_type": "code",
   "execution_count": 36,
   "metadata": {
    "collapsed": true
   },
   "outputs": [],
   "source": [
    "execution_date = datetime.datetime.now()"
   ]
  },
  {
   "cell_type": "code",
   "execution_count": 42,
   "metadata": {},
   "outputs": [],
   "source": [
    "reporting_datetime = (execution_date - datetime.timedelta(days=1,hours=5)).strftime('%Y-%m-%d')"
   ]
  },
  {
   "cell_type": "code",
   "execution_count": 43,
   "metadata": {},
   "outputs": [
    {
     "data": {
      "text/plain": [
       "'2019-09-11'"
      ]
     },
     "execution_count": 43,
     "metadata": {},
     "output_type": "execute_result"
    }
   ],
   "source": [
    "reporting_datetime"
   ]
  },
  {
   "cell_type": "code",
   "execution_count": 44,
   "metadata": {
    "collapsed": true
   },
   "outputs": [],
   "source": [
    "start_date = end_date = reporting_datetime"
   ]
  },
  {
   "cell_type": "code",
   "execution_count": 45,
   "metadata": {},
   "outputs": [
    {
     "data": {
      "text/plain": [
       "'2019-09-11'"
      ]
     },
     "execution_count": 45,
     "metadata": {},
     "output_type": "execute_result"
    }
   ],
   "source": [
    "start_date"
   ]
  },
  {
   "cell_type": "code",
   "execution_count": 46,
   "metadata": {},
   "outputs": [
    {
     "data": {
      "text/plain": [
       "'2019-09-11'"
      ]
     },
     "execution_count": 46,
     "metadata": {},
     "output_type": "execute_result"
    }
   ],
   "source": [
    "end_date"
   ]
  },
  {
   "cell_type": "code",
   "execution_count": null,
   "metadata": {
    "collapsed": true
   },
   "outputs": [],
   "source": []
  }
 ],
 "metadata": {
  "kernelspec": {
   "display_name": "Python 3",
   "language": "python",
   "name": "python3"
  },
  "language_info": {
   "codemirror_mode": {
    "name": "ipython",
    "version": 3
   },
   "file_extension": ".py",
   "mimetype": "text/x-python",
   "name": "python",
   "nbconvert_exporter": "python",
   "pygments_lexer": "ipython3",
   "version": "3.6.3"
  }
 },
 "nbformat": 4,
 "nbformat_minor": 2
}
