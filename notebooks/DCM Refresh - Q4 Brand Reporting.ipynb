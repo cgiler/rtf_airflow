{
 "cells": [
  {
   "cell_type": "markdown",
   "metadata": {},
   "source": [
    "# Refresh DCM Datasets for Q4 Campaigns"
   ]
  },
  {
   "cell_type": "markdown",
   "metadata": {},
   "source": [
    "imports"
   ]
  },
  {
   "cell_type": "code",
   "execution_count": 9,
   "metadata": {},
   "outputs": [],
   "source": [
    "import sys\n",
    "sys.path.append('../')"
   ]
  },
  {
   "cell_type": "code",
   "execution_count": 10,
   "metadata": {},
   "outputs": [],
   "source": [
    "# rtf/essence imports\n",
    "from rtf_utils.dfa_utils import CampaignManagerReport,get_dfa_report,clean_dcm_file\n",
    "from rtf_utils.gcp_utils import BigQuery,CloudStorage\n",
    "from essence.analytics.platform import securedcredentials as secure_creds\n",
    "\n",
    "# std lib imports\n",
    "import json\n",
    "import os\n",
    "from datetime import datetime\n",
    "import time\n",
    "import warnings\n",
    "import logging"
   ]
  },
  {
   "cell_type": "markdown",
   "metadata": {},
   "source": [
    "settings/config"
   ]
  },
  {
   "cell_type": "code",
   "execution_count": 6,
   "metadata": {},
   "outputs": [],
   "source": [
    "logger = logging.getLogger()\n",
    "logger.setLevel(logging.INFO)\n",
    "warnings.filterwarnings(\"ignore\", \"Your application has authenticated using end user credentials\")\n",
    "os.environ['GOOGLE_CLOUD_PROJECT'] = 'essence-analytics-dwh' # for some reason gsutil forgets my project"
   ]
  },
  {
   "cell_type": "code",
   "execution_count": 12,
   "metadata": {},
   "outputs": [],
   "source": [
    "# Auth"
   ]
  },
  {
   "cell_type": "code",
   "execution_count": 13,
   "metadata": {},
   "outputs": [
    {
     "name": "stdout",
     "output_type": "stream",
     "text": [
      "Creds Loaded\n"
     ]
    }
   ],
   "source": [
    "service_account_email='131786951123-compute@developer.gserviceaccount.com' ## gcp analytics service account\n",
    "PROJECT_ID='essence-analytics-dwh'\n",
    "\n",
    "credentialsFromVault=secure_creds.getCredentialsFromEssenceVault(service_account_email)\n",
    "print(\"Creds Loaded\")"
   ]
  },
  {
   "cell_type": "markdown",
   "metadata": {},
   "source": [
    "function definitions"
   ]
  },
  {
   "cell_type": "code",
   "execution_count": 14,
   "metadata": {},
   "outputs": [],
   "source": [
    "def clean_dcm_file(filename):\n",
    "    data = []\n",
    "    write = False\n",
    "    with open(filename,'r') as f:\n",
    "        reader = csv.reader(f, delimiter=',')\n",
    "\n",
    "        for row in reader:\n",
    "            if write == True:\n",
    "                data.append(row)        \n",
    "            elif row == ['Report Fields']:\n",
    "                write = True\n",
    "\n",
    "        if data[-1][0] == 'Grand Total:':\n",
    "            data.pop()\n",
    "\n",
    "    with open(filename, \"w\", newline=\"\") as f:\n",
    "        writer = csv.writer(f)\n",
    "        writer.writerows(data)"
   ]
  },
  {
   "cell_type": "markdown",
   "metadata": {},
   "source": [
    "# Report Stuff!\n",
    "DCM Report Definitions:"
   ]
  },
  {
   "cell_type": "code",
   "execution_count": 15,
   "metadata": {},
   "outputs": [],
   "source": [
    "tasks = [\n",
    "{'name':'classification','profileId':5096586,'reportId':641053372},\n",
    "{'name':'classification','profileId':5096586,'reportId':641055447},\n",
    "{'name':'classification','profileId':5096586,'reportId':641053269},\n",
    "{'name':'geo_report','profileId':5096586,'reportId':641050621},\n",
    "{'name':'geo_report','profileId':5096586,'reportId':641055789},\n",
    "{'name':'geo_report','profileId':5096586,'reportId':641046828},\n",
    "{'name':'video_player_size','profileId':5096586,'reportId':641052858},\n",
    "{'name':'video_player_size','profileId':5096586,'reportId':641055441},\n",
    "{'name':'video_player_size','profileId':5096586,'reportId':641053414}]"
   ]
  },
  {
   "cell_type": "markdown",
   "metadata": {},
   "source": [
    "#### Update report date range and run"
   ]
  },
  {
   "cell_type": "code",
   "execution_count": null,
   "metadata": {},
   "outputs": [],
   "source": [
    "start_date = '2019-10-01'\n",
    "end_date = '2019-10-20'\n",
    "reports = []\n",
    "for task in tasks:    \n",
    "    report = CampaignManagerReport(credentialsFromVault,profile_id = 5096586,report_id = task['reportId'])\n",
    "    print(\"Fetch report meta\")\n",
    "    report.get_report()    \n",
    "    print(\"set date\")\n",
    "    report.set_date_range(start_date,end_date)\n",
    "    print(\"run_report\")    \n",
    "    report.run_report()\n",
    "    reports.append(report)"
   ]
  },
  {
   "cell_type": "markdown",
   "metadata": {},
   "source": [
    "#### Check if Reports are Ready"
   ]
  },
  {
   "cell_type": "code",
   "execution_count": null,
   "metadata": {},
   "outputs": [],
   "source": [
    "import time\n",
    "for report in check_q:\n",
    "    #time.sleep(10)\n",
    "    print(report.get_report_status())"
   ]
  },
  {
   "cell_type": "markdown",
   "metadata": {},
   "source": [
    "Upload Loop"
   ]
  },
  {
   "cell_type": "code",
   "execution_count": null,
   "metadata": {},
   "outputs": [],
   "source": [
    "files = []\n",
    "for report in reports:\n",
    "    #time.sleep(10)\n",
    "    try:\n",
    "        filename = report.download_file()\n",
    "        files.append(filename)\n",
    "        print(\"Saved @ {}\".format(filename))\n",
    "    except Exception as e:\n",
    "        print(\"bad news hombre\")\n",
    "        print(e)\n",
    "        continue\n",
    "    clean_dcm_file(filename) # filters headers and footers\n",
    "\n",
    "gcs = CloudStorage(credentialsFromVault)       \n",
    "\n",
    "blob_names = []\n",
    "\n",
    "for file in files:    \n",
    "    blob_name = \"brand_reporting/DCM/\" + file\n",
    "    gcs.upload_blob('rtf_staging', blob_name, file, mode=\"filename\")\n",
    "    blob_names.append(blob_name)"
   ]
  }
 ],
 "metadata": {
  "kernelspec": {
   "display_name": "Python 3",
   "language": "python",
   "name": "python3"
  },
  "language_info": {
   "codemirror_mode": {
    "name": "ipython",
    "version": 3
   },
   "file_extension": ".py",
   "mimetype": "text/x-python",
   "name": "python",
   "nbconvert_exporter": "python",
   "pygments_lexer": "ipython3",
   "version": "3.5.2"
  }
 },
 "nbformat": 4,
 "nbformat_minor": 4
}
