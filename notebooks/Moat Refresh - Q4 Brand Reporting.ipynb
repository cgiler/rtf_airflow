{
 "cells": [
  {
   "cell_type": "markdown",
   "metadata": {},
   "source": [
    "# Refresh Moat Datasets for Q4 Campaigns"
   ]
  },
  {
   "cell_type": "code",
   "execution_count": 29,
   "metadata": {},
   "outputs": [
    {
     "name": "stdout",
     "output_type": "stream",
     "text": [
      "The autoreload extension is already loaded. To reload it, use:\n",
      "  %reload_ext autoreload\n"
     ]
    }
   ],
   "source": [
    "import sys\n",
    "sys.path.append('../')\n",
    "%load_ext autoreload"
   ]
  },
  {
   "cell_type": "code",
   "execution_count": 52,
   "metadata": {},
   "outputs": [],
   "source": [
    "%autoreload 2"
   ]
  },
  {
   "cell_type": "code",
   "execution_count": 66,
   "metadata": {},
   "outputs": [],
   "source": [
    "# essence/rtf imports\n",
    "from rtf_utils.moat_utils import MoatTile,moat_schemas\n",
    "from essence.analytics.platform import securedcredentials as secure_creds\n",
    "from rtf_utils.gcp_utils import BigQuery,CloudStorage\n",
    "\n",
    "# std lib imports\n",
    "import json\n",
    "import logging\n",
    "import warnings\n",
    "import os\n",
    "import time"
   ]
  },
  {
   "cell_type": "code",
   "execution_count": 38,
   "metadata": {},
   "outputs": [],
   "source": [
    "logger = logging.getLogger()\n",
    "logger.setLevel(logging.INFO)\n",
    "warnings.filterwarnings(\"ignore\", \"Your application has authenticated using end user credentials\")\n",
    "os.environ['GOOGLE_CLOUD_PROJECT'] = 'essence-analytics-dwh' # for some reason gsutil forgets my project"
   ]
  },
  {
   "cell_type": "markdown",
   "metadata": {},
   "source": [
    "# Load Creds"
   ]
  },
  {
   "cell_type": "code",
   "execution_count": 39,
   "metadata": {},
   "outputs": [
    {
     "name": "stdout",
     "output_type": "stream",
     "text": [
      "Creds Loaded\n",
      "Token Loaded\n"
     ]
    }
   ],
   "source": [
    "service_account_email='131786951123-compute@developer.gserviceaccount.com' ## gcp analytics service account\n",
    "PROJECT_ID='essence-analytics-dwh'\n",
    "\n",
    "credentialsFromVault=secure_creds.getCredentialsFromEssenceVault(service_account_email)\n",
    "print(\"Creds Loaded\")\n",
    "moat_token = secure_creds.getDataFromEssenceVault('Moat_Token_Google')\n",
    "print(\"Token Loaded\")"
   ]
  },
  {
   "cell_type": "markdown",
   "metadata": {},
   "source": [
    "## Q4 Moat Tiles - (Add new tiles here)\n",
    "### These is the moat \"task\" list with the tiles and filters we currently care about"
   ]
  },
  {
   "cell_type": "code",
   "execution_count": 48,
   "metadata": {},
   "outputs": [],
   "source": [
    "## Define Moat Tasks for Stadia/Nest/Assistant\n",
    "q4_tiles = [\n",
    "## Google Disp\n",
    "(2506,{'level1':22783112},['date','level1','level3']), ##  stadia,\n",
    "(2506,{'level1':23221764},['date','level1','level3']), ##  nest 1,\n",
    "(2506,{'level1':23197607},['date','level1','level3']), ##  nest 2\n",
    "(2506,{'level1':23278016},['date','level1','level3']), ##  Assistant\n",
    "(2506,{'level1':23219466},['date','level1','level3']), # Pixel\n",
    "\n",
    "## Google Video\n",
    "(2698,{'level1':23197607},['date','level1','level3']), # Nest\n",
    "(2698,{'level1':23219466},['date','level1','level3']), # Pixel\n",
    "\n",
    "## YT TrueView Master##\n",
    "(13386,{'level1':7492919005},['date','level1','level4']), # Stadia\n",
    "(13386,{'level1':7020493427},['date','level1','level4']), # Pixel\n",
    "(13386,{'level1':8071529839},['date','level1','level4']), # Nest NA\n",
    "(13386,{'level1':1703715956},['date','level1','level4']), # assistant\n",
    "\n",
    "\n",
    "## YT TrueView NA\n",
    "#(6196171,{'level1':7020493427},['date','level1','level4']), # Pixel    >>> need acccess\n",
    "\n",
    "## YT Reserve \n",
    "(6179366,{'level2':2604566125},['date','level2','level4']),# Stadia\n",
    "\n",
    "## YT Reserve DBM\n",
    "(6178833,{'level1':1533586},['date','level1','level4']), # Assistant\n",
    "\n",
    "## FB Display\n",
    "(6195503,{'level1':10154328017481183},['date','level1','level4']), # Pixel\n",
    "\n",
    "## FB Video NA\n",
    "(6195505,{'level1':10154328017481183},['date','level1','level4']),# pixel need acccess\n",
    "(6195505,{'level1':242547403246039},['date','level1','level4']), #nest\n",
    "(6195505,{'level1':1381439485460084},['date','level1','level4']), #store\n",
    "\n",
    "## FB Video Master\n",
    "(8268,{'level1':10154328017481183},['date','level1','level4']),\n",
    "\n",
    "## IG Video\n",
    "(6195510,{'level1':242547403246039},['date','level1','level4']), # Nest\n",
    "(6195510,{'level1':1381439485460084},['date','level1','level4']), # Store\n",
    "(6195510,{'level1':10154328017481183},['date','level1','level4']), # Pixel\n",
    "\n",
    "\n",
    "## Twitter Display\n",
    "(6195541,{'level1':4503599660729481},['date','level1','level2']),#pixel\n",
    "\n",
    "## TW Video\n",
    "(6195543,{'level1':4503599660729481},['date','level1','level2']), #pixel\n",
    "(6195543,{'level1':168264219},['date','level1','level2']), #nest\n",
    "]\n",
    "\n"
   ]
  },
  {
   "cell_type": "code",
   "execution_count": 45,
   "metadata": {},
   "outputs": [],
   "source": [
    "def get_moat_data(tile_id,start_date, end_date,level_filters=None,dimensions=None,**kwargs):\n",
    "    tile = MoatTile(tile_id,level_filters,dimensions)\n",
    "    local_filename = tile.get_data(start_date,end_date,moat_token)\n",
    "    return local_filename\n",
    "\n",
    "def upload_local_file(local_filename,dest_bucket,folder=None):\n",
    "    gcs = CloudStorage(credentialsFromVault)\n",
    "    if folder:\n",
    "        blob_name = folder + \"/\" + local_filename\n",
    "    else:\n",
    "        blob_name = local_filename\n",
    "    blob = gcs.upload_blob(dest_bucket, blob_name,local_filename,mode='filename')\n",
    "    return blob"
   ]
  },
  {
   "cell_type": "markdown",
   "metadata": {},
   "source": [
    "#### Run this to Get Data and Upload to GCS\n",
    "- Will store each export in a tile specific directory in brand reporting\n",
    "    - **ex**: `gs://rtf_staging/brand_reporting/2506`\n",
    "- `start_date` and `end_date` variables will control what date range the moat exports are pulled for"
   ]
  },
  {
   "cell_type": "code",
   "execution_count": 49,
   "metadata": {},
   "outputs": [
    {
     "name": "stderr",
     "output_type": "stream",
     "text": [
      "INFO:root:API Request Time\n"
     ]
    },
    {
     "name": "stdout",
     "output_type": "stream",
     "text": [
      "Get data for 6179366\n"
     ]
    },
    {
     "name": "stderr",
     "output_type": "stream",
     "text": [
      "INFO:root:6179366_2604566125.json Saved\n"
     ]
    },
    {
     "name": "stdout",
     "output_type": "stream",
     "text": [
      "Stored at 6179366_2604566125.json\n",
      "Try GCS Upload\n"
     ]
    },
    {
     "name": "stderr",
     "output_type": "stream",
     "text": [
      "INFO:root:File uploaded as brand_reporting/6179366/6179366_2604566125.json.\n"
     ]
    },
    {
     "name": "stdout",
     "output_type": "stream",
     "text": [
      "Clean Up File\n"
     ]
    },
    {
     "name": "stderr",
     "output_type": "stream",
     "text": [
      "INFO:root:API Request Time\n"
     ]
    },
    {
     "name": "stdout",
     "output_type": "stream",
     "text": [
      "Get data for 6178833\n"
     ]
    },
    {
     "name": "stderr",
     "output_type": "stream",
     "text": [
      "INFO:root:6178833_1533586.json Saved\n"
     ]
    },
    {
     "name": "stdout",
     "output_type": "stream",
     "text": [
      "Stored at 6178833_1533586.json\n",
      "Try GCS Upload\n"
     ]
    },
    {
     "name": "stderr",
     "output_type": "stream",
     "text": [
      "INFO:root:File uploaded as brand_reporting/6178833/6178833_1533586.json.\n"
     ]
    },
    {
     "name": "stdout",
     "output_type": "stream",
     "text": [
      "Clean Up File\n"
     ]
    },
    {
     "name": "stderr",
     "output_type": "stream",
     "text": [
      "INFO:root:API Request Time\n"
     ]
    },
    {
     "name": "stdout",
     "output_type": "stream",
     "text": [
      "Get data for 6195503\n"
     ]
    },
    {
     "name": "stderr",
     "output_type": "stream",
     "text": [
      "INFO:root:6195503_10154328017481183.json Saved\n"
     ]
    },
    {
     "name": "stdout",
     "output_type": "stream",
     "text": [
      "Stored at 6195503_10154328017481183.json\n",
      "Try GCS Upload\n"
     ]
    },
    {
     "name": "stderr",
     "output_type": "stream",
     "text": [
      "INFO:root:File uploaded as brand_reporting/6195503/6195503_10154328017481183.json.\n"
     ]
    },
    {
     "name": "stdout",
     "output_type": "stream",
     "text": [
      "Clean Up File\n"
     ]
    },
    {
     "name": "stderr",
     "output_type": "stream",
     "text": [
      "INFO:root:API Request Time\n"
     ]
    },
    {
     "name": "stdout",
     "output_type": "stream",
     "text": [
      "Get data for 6195505\n"
     ]
    },
    {
     "name": "stderr",
     "output_type": "stream",
     "text": [
      "INFO:root:6195505_10154328017481183.json Saved\n"
     ]
    },
    {
     "name": "stdout",
     "output_type": "stream",
     "text": [
      "Stored at 6195505_10154328017481183.json\n",
      "Try GCS Upload\n"
     ]
    },
    {
     "name": "stderr",
     "output_type": "stream",
     "text": [
      "INFO:root:File uploaded as brand_reporting/6195505/6195505_10154328017481183.json.\n"
     ]
    },
    {
     "name": "stdout",
     "output_type": "stream",
     "text": [
      "Clean Up File\n"
     ]
    },
    {
     "name": "stderr",
     "output_type": "stream",
     "text": [
      "INFO:root:API Request Time\n"
     ]
    },
    {
     "name": "stdout",
     "output_type": "stream",
     "text": [
      "Get data for 6195505\n"
     ]
    },
    {
     "name": "stderr",
     "output_type": "stream",
     "text": [
      "INFO:root:6195505_242547403246039.json Saved\n"
     ]
    },
    {
     "name": "stdout",
     "output_type": "stream",
     "text": [
      "Stored at 6195505_242547403246039.json\n",
      "Try GCS Upload\n"
     ]
    },
    {
     "name": "stderr",
     "output_type": "stream",
     "text": [
      "INFO:root:File uploaded as brand_reporting/6195505/6195505_242547403246039.json.\n"
     ]
    },
    {
     "name": "stdout",
     "output_type": "stream",
     "text": [
      "Clean Up File\n"
     ]
    },
    {
     "name": "stderr",
     "output_type": "stream",
     "text": [
      "INFO:root:API Request Time\n"
     ]
    },
    {
     "name": "stdout",
     "output_type": "stream",
     "text": [
      "Get data for 6195505\n"
     ]
    },
    {
     "name": "stderr",
     "output_type": "stream",
     "text": [
      "INFO:root:6195505_1381439485460084.json Saved\n"
     ]
    },
    {
     "name": "stdout",
     "output_type": "stream",
     "text": [
      "Stored at 6195505_1381439485460084.json\n",
      "Try GCS Upload\n"
     ]
    },
    {
     "name": "stderr",
     "output_type": "stream",
     "text": [
      "INFO:root:File uploaded as brand_reporting/6195505/6195505_1381439485460084.json.\n"
     ]
    },
    {
     "name": "stdout",
     "output_type": "stream",
     "text": [
      "Clean Up File\n"
     ]
    },
    {
     "name": "stderr",
     "output_type": "stream",
     "text": [
      "INFO:root:API Request Time\n"
     ]
    },
    {
     "name": "stdout",
     "output_type": "stream",
     "text": [
      "Get data for 8268\n"
     ]
    },
    {
     "name": "stderr",
     "output_type": "stream",
     "text": [
      "INFO:root:8268_10154328017481183.json Saved\n"
     ]
    },
    {
     "name": "stdout",
     "output_type": "stream",
     "text": [
      "Stored at 8268_10154328017481183.json\n",
      "Try GCS Upload\n"
     ]
    },
    {
     "name": "stderr",
     "output_type": "stream",
     "text": [
      "INFO:root:File uploaded as brand_reporting/8268/8268_10154328017481183.json.\n"
     ]
    },
    {
     "name": "stdout",
     "output_type": "stream",
     "text": [
      "Clean Up File\n"
     ]
    },
    {
     "name": "stderr",
     "output_type": "stream",
     "text": [
      "INFO:root:API Request Time\n"
     ]
    },
    {
     "name": "stdout",
     "output_type": "stream",
     "text": [
      "Get data for 6195510\n"
     ]
    },
    {
     "name": "stderr",
     "output_type": "stream",
     "text": [
      "INFO:root:6195510_242547403246039.json Saved\n"
     ]
    },
    {
     "name": "stdout",
     "output_type": "stream",
     "text": [
      "Stored at 6195510_242547403246039.json\n",
      "Try GCS Upload\n"
     ]
    },
    {
     "name": "stderr",
     "output_type": "stream",
     "text": [
      "INFO:root:File uploaded as brand_reporting/6195510/6195510_242547403246039.json.\n"
     ]
    },
    {
     "name": "stdout",
     "output_type": "stream",
     "text": [
      "Clean Up File\n"
     ]
    },
    {
     "name": "stderr",
     "output_type": "stream",
     "text": [
      "INFO:root:API Request Time\n"
     ]
    },
    {
     "name": "stdout",
     "output_type": "stream",
     "text": [
      "Get data for 6195510\n"
     ]
    },
    {
     "name": "stderr",
     "output_type": "stream",
     "text": [
      "INFO:root:6195510_1381439485460084.json Saved\n"
     ]
    },
    {
     "name": "stdout",
     "output_type": "stream",
     "text": [
      "Stored at 6195510_1381439485460084.json\n",
      "Try GCS Upload\n"
     ]
    },
    {
     "name": "stderr",
     "output_type": "stream",
     "text": [
      "INFO:root:File uploaded as brand_reporting/6195510/6195510_1381439485460084.json.\n"
     ]
    },
    {
     "name": "stdout",
     "output_type": "stream",
     "text": [
      "Clean Up File\n"
     ]
    },
    {
     "name": "stderr",
     "output_type": "stream",
     "text": [
      "INFO:root:API Request Time\n"
     ]
    },
    {
     "name": "stdout",
     "output_type": "stream",
     "text": [
      "Get data for 6195510\n"
     ]
    },
    {
     "name": "stderr",
     "output_type": "stream",
     "text": [
      "INFO:root:6195510_10154328017481183.json Saved\n"
     ]
    },
    {
     "name": "stdout",
     "output_type": "stream",
     "text": [
      "Stored at 6195510_10154328017481183.json\n",
      "Try GCS Upload\n"
     ]
    },
    {
     "name": "stderr",
     "output_type": "stream",
     "text": [
      "INFO:root:File uploaded as brand_reporting/6195510/6195510_10154328017481183.json.\n"
     ]
    },
    {
     "name": "stdout",
     "output_type": "stream",
     "text": [
      "Clean Up File\n"
     ]
    },
    {
     "name": "stderr",
     "output_type": "stream",
     "text": [
      "INFO:root:API Request Time\n"
     ]
    },
    {
     "name": "stdout",
     "output_type": "stream",
     "text": [
      "Get data for 6195541\n"
     ]
    },
    {
     "name": "stderr",
     "output_type": "stream",
     "text": [
      "INFO:root:6195541_4503599660729481.json Saved\n"
     ]
    },
    {
     "name": "stdout",
     "output_type": "stream",
     "text": [
      "Stored at 6195541_4503599660729481.json\n",
      "Try GCS Upload\n"
     ]
    },
    {
     "name": "stderr",
     "output_type": "stream",
     "text": [
      "INFO:root:File uploaded as brand_reporting/6195541/6195541_4503599660729481.json.\n"
     ]
    },
    {
     "name": "stdout",
     "output_type": "stream",
     "text": [
      "Clean Up File\n"
     ]
    },
    {
     "name": "stderr",
     "output_type": "stream",
     "text": [
      "INFO:root:API Request Time\n"
     ]
    },
    {
     "name": "stdout",
     "output_type": "stream",
     "text": [
      "Get data for 6195543\n"
     ]
    },
    {
     "name": "stderr",
     "output_type": "stream",
     "text": [
      "INFO:root:6195543_4503599660729481.json Saved\n"
     ]
    },
    {
     "name": "stdout",
     "output_type": "stream",
     "text": [
      "Stored at 6195543_4503599660729481.json\n",
      "Try GCS Upload\n"
     ]
    },
    {
     "name": "stderr",
     "output_type": "stream",
     "text": [
      "INFO:root:File uploaded as brand_reporting/6195543/6195543_4503599660729481.json.\n"
     ]
    },
    {
     "name": "stdout",
     "output_type": "stream",
     "text": [
      "Clean Up File\n"
     ]
    },
    {
     "name": "stderr",
     "output_type": "stream",
     "text": [
      "INFO:root:API Request Time\n"
     ]
    },
    {
     "name": "stdout",
     "output_type": "stream",
     "text": [
      "Get data for 6195543\n"
     ]
    },
    {
     "name": "stderr",
     "output_type": "stream",
     "text": [
      "INFO:root:6195543_168264219.json Saved\n"
     ]
    },
    {
     "name": "stdout",
     "output_type": "stream",
     "text": [
      "Stored at 6195543_168264219.json\n",
      "Try GCS Upload\n"
     ]
    },
    {
     "name": "stderr",
     "output_type": "stream",
     "text": [
      "INFO:root:File uploaded as brand_reporting/6195543/6195543_168264219.json.\n"
     ]
    },
    {
     "name": "stdout",
     "output_type": "stream",
     "text": [
      "Clean Up File\n"
     ]
    }
   ],
   "source": [
    "import os\n",
    "start_date = '20191001'\n",
    "end_date = '20191027'\n",
    "\n",
    "files_in_gcs = [] ## list of tiles that are uploaded\n",
    "for x in q4_tiles:\n",
    "    os.system(\"clear\")\n",
    "    time.sleep(10) # for rate limiting\n",
    "    tile_id, level_filter, dimensions = x #  unpack tuple\n",
    "    print(\"Get data for {}\".format(tile_id))\n",
    "    \n",
    "    filename = get_moat_data(tile_id,start_date,end_date,level_filter,dimensions)\n",
    "    \n",
    "    if filename:\n",
    "        print(\"Stored at {}\".format(filename))\n",
    "    else:\n",
    "        print(\"No Data\")\n",
    "        continue    \n",
    "    \n",
    "    try:\n",
    "        print(\"Try GCS Upload\")\n",
    "        blob = upload_local_file(filename, dest_bucket = \"rtf_staging\", folder = \"brand_reporting/{}\".format(tile_id))\n",
    "        print(\"Clean Up File\")\n",
    "        files_in_gcs.append(tile_id)\n",
    "        os.remove(filename)\n",
    "    except Exception as e:\n",
    "        print(e)\n",
    "        continue"
   ]
  },
  {
   "cell_type": "markdown",
   "metadata": {},
   "source": [
    "## Upload to BigQuery Tools"
   ]
  },
  {
   "cell_type": "code",
   "execution_count": 11,
   "metadata": {},
   "outputs": [],
   "source": [
    "from google.cloud import bigquery\n",
    "bq = BigQuery(credentialsFromVault)"
   ]
  },
  {
   "cell_type": "code",
   "execution_count": 67,
   "metadata": {},
   "outputs": [
    {
     "name": "stdout",
     "output_type": "stream",
     "text": [
      "6179366\n",
      "d072b682-25d6-44d9-9ef5-badc5b960ae4\n",
      "8268\n",
      "eaf68b11-1bbb-466d-a6a6-d5f1dfd69c1d\n",
      "6195503\n",
      "c64f8a5e-ee14-4672-b0e4-db93a2e990b4\n",
      "6178833\n",
      "46d1284f-3991-4404-95b0-5b542bfd1d97\n",
      "6195505\n",
      "c7dd3c40-82cb-4669-90bb-b074f48fbb27\n",
      "6195541\n",
      "93ebfe1e-a6c5-457f-a046-4d399d5a1cc0\n",
      "6195510\n",
      "59df72e8-6759-4b02-99ec-049bde8d63b5\n",
      "6195543\n",
      "0aa45e66-dc9b-461c-9522-d42a0a96bdfe\n",
      "2506\n",
      "f794d43f-4c6a-4c26-b284-cf4aae6acaf8\n",
      "2698\n",
      "1ad75ddb-2e98-42d6-ac3e-5d1b3d9e7cce\n",
      "13386\n",
      "bf9aced7-b3bf-4773-a50b-620ae964bd75\n"
     ]
    }
   ],
   "source": [
    "dest_dataset = 'RTF_DWH_Moat'\n",
    "tiles_in_gcs = list(set(files_in_gcs)) ## get unique tile_ids from loaded tiles\n",
    "\n",
    "tiles_in_gcs = tiles_in_gcs + [2506,2698,13386]\n",
    "\n",
    "for tile_id in tiles_in_gcs :\n",
    "    print(tile_id)\n",
    "    try:\n",
    "        bq_schema = [bigquery.SchemaField.from_api_repr(x) for x in moat_schemas.get(tile_id)] ## loads schema from moat_utils\n",
    "    except:\n",
    "        print(\"Uhoh\")\n",
    "        continue\n",
    "    #load = bq.load_from_gcs(dest_dataset, \"gs://rtf_staging/brand_reporting/{}*\".format(tile_id), \"004_{}_{}\".format(tile_id,end_date),bq_schema,extension='json') weekly\n",
    "    load = bq.load_from_gcs(dest_dataset, \"gs://rtf_staging/brand_reporting/{}*\".format(tile_id), \"003_{}\".format(tile_id),bq_schema,extension='json')\n",
    "    print(load.job_id)"
   ]
  },
  {
   "cell_type": "code",
   "execution_count": 55,
   "metadata": {},
   "outputs": [
    {
     "data": {
      "text/plain": [
       "[6179366,\n",
       " 8268,\n",
       " 6195503,\n",
       " 6178833,\n",
       " 6195505,\n",
       " 6195541,\n",
       " 6195510,\n",
       " 6195543,\n",
       " 2506,\n",
       " 2698,\n",
       " 13386]"
      ]
     },
     "execution_count": 55,
     "metadata": {},
     "output_type": "execute_result"
    }
   ],
   "source": [
    "tiles_in_gcs"
   ]
  },
  {
   "cell_type": "code",
   "execution_count": 58,
   "metadata": {},
   "outputs": [
    {
     "data": {
      "text/plain": [
       "[(6179366, 'video'),\n",
       " (8268, 'video'),\n",
       " (6195503, 'disp'),\n",
       " (6178833, 'video'),\n",
       " (6195505, 'video'),\n",
       " (6195541, 'disp'),\n",
       " (6195510, 'video'),\n",
       " (6195543, 'video'),\n",
       " (2506, 'disp'),\n",
       " (2698, 'video'),\n",
       " (13386, 'video')]"
      ]
     },
     "execution_count": 58,
     "metadata": {},
     "output_type": "execute_result"
    }
   ],
   "source": [
    "[(x,MoatTile.tiles_meta.get(x).get('type')) for x in tiles_in_gcs]"
   ]
  },
  {
   "cell_type": "markdown",
   "metadata": {},
   "source": [
    "## To Do\n",
    "Add ,,,"
   ]
  }
 ],
 "metadata": {
  "kernelspec": {
   "display_name": "Python 3",
   "language": "python",
   "name": "python3"
  },
  "language_info": {
   "codemirror_mode": {
    "name": "ipython",
    "version": 3
   },
   "file_extension": ".py",
   "mimetype": "text/x-python",
   "name": "python",
   "nbconvert_exporter": "python",
   "pygments_lexer": "ipython3",
   "version": "3.5.2"
  }
 },
 "nbformat": 4,
 "nbformat_minor": 4
}
