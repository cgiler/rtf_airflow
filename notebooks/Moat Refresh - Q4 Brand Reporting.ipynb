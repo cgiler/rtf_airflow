{
 "cells": [
  {
   "cell_type": "markdown",
   "metadata": {},
   "source": [
    "# Refresh Moat Datasets for Q4 Campaigns"
   ]
  },
  {
   "cell_type": "code",
   "execution_count": 11,
   "metadata": {},
   "outputs": [],
   "source": [
    "import sys\n",
    "sys.path.append('../')"
   ]
  },
  {
   "cell_type": "code",
   "execution_count": 12,
   "metadata": {},
   "outputs": [],
   "source": [
    "# essence/rtf imports\n",
    "from rtf_utils.moat_utils import MoatTile,moat_schemas\n",
    "from essence.analytics.platform import securedcredentials as secure_creds\n",
    "from rtf_utils.gcp_utils import BigQuery,CloudStorage\n",
    "\n",
    "# std lib imports\n",
    "import json\n",
    "import logging\n",
    "import warnings\n",
    "import os\n",
    "import time"
   ]
  },
  {
   "cell_type": "code",
   "execution_count": 3,
   "metadata": {},
   "outputs": [],
   "source": [
    "logger = logging.getLogger()\n",
    "logger.setLevel(logging.INFO)\n",
    "warnings.filterwarnings(\"ignore\", \"Your application has authenticated using end user credentials\")\n",
    "os.environ['GOOGLE_CLOUD_PROJECT'] = 'essence-analytics-dwh' # for some reason gsutil forgets my project"
   ]
  },
  {
   "cell_type": "markdown",
   "metadata": {},
   "source": [
    "# Load Creds"
   ]
  },
  {
   "cell_type": "code",
   "execution_count": 13,
   "metadata": {},
   "outputs": [
    {
     "name": "stdout",
     "output_type": "stream",
     "text": [
      "Creds Loaded\n",
      "Token Loaded\n"
     ]
    }
   ],
   "source": [
    "service_account_email='131786951123-compute@developer.gserviceaccount.com' ## gcp analytics service account\n",
    "PROJECT_ID='essence-analytics-dwh'\n",
    "\n",
    "credentialsFromVault=secure_creds.getCredentialsFromEssenceVault(service_account_email)\n",
    "print(\"Creds Loaded\")\n",
    "moat_token = secure_creds.getDataFromEssenceVault('Moat_Token_Google')\n",
    "print(\"Token Loaded\")"
   ]
  },
  {
   "cell_type": "markdown",
   "metadata": {},
   "source": [
    "## Q4 Moat Tiles - (Add new tiles here)\n",
    "### These is the moat \"task\" list with the tiles and filters we currently care about"
   ]
  },
  {
   "cell_type": "code",
   "execution_count": 14,
   "metadata": {},
   "outputs": [],
   "source": [
    "## Define Moat Tasks for Stadia/Nest/Assistant\n",
    "q4_tiles = [\n",
    "    ## Google Disp\n",
    "    (2506,{'level1':22783112},['date','level1','level3']), ##  stadia,\n",
    "    (2506,{'level1':23221764},['date','level1','level3']), ##  nest 1,\n",
    "    (2506,{'level1':23197607},['date','level1','level3']), ##  nest 2\n",
    "    (2506,{'level1':23278016},['date','level1','level3']), ##  Assistant\n",
    "    (2506,{'level1':23219466},['date','level1','level3']), # Pixel\n",
    "       \n",
    "    ## YT TrueView ##\n",
    "    (13386,{'level1':7492919005},['date','level1','level4']), # Stadia\n",
    "    (13386,{'level1':7020493427},['date','level1','level4']), # Pixel\n",
    "   \n",
    "    ## YT Reserve \n",
    "    (6179366,{'level2':2604566125},['date','level2','level4']),# Stadia\n",
    "    \n",
    "    ## YT Reserve DBM\n",
    "    (6178833,{'level1':1533586},['date','level1','level4']), # Assistant\n",
    "\n",
    "    ## FB Display\n",
    "    (6195503,{'level1':10154328017481183},['date','level1','level4']), # Pixel\n",
    "   \n",
    "    ## FB Video NA\n",
    "    (6195505,{'level1':10154328017481183},['date','level1','level4']),# pixel need acccess\n",
    "    ## FB Video Master\n",
    "    (8268,{'level1':10154328017481183},['date','level1','level4']),\n",
    "    \n",
    "    ## Twitter Display\n",
    "    (6195541,{'level1':4503599660729481},['date','level1','level2'])#pixel\n",
    " ]"
   ]
  },
  {
   "cell_type": "code",
   "execution_count": 15,
   "metadata": {},
   "outputs": [],
   "source": [
    "def get_moat_data(tile_id,start_date, end_date,level_filters=None,dimensions=None,**kwargs):\n",
    "    tile = MoatTile(tile_id,level_filters,dimensions)\n",
    "    local_filename = tile.get_data(start_date,end_date,moat_token)\n",
    "    return local_filename\n",
    "\n",
    "def upload_local_file(local_filename,dest_bucket,folder=None):\n",
    "    gcs = CloudStorage(credentialsFromVault)\n",
    "    if folder:\n",
    "        blob_name = folder + \"/\" + local_filename\n",
    "    else:\n",
    "        blob_name = local_filename\n",
    "    blob = gcs.upload_blob(dest_bucket, blob_name,local_filename,mode='filename')\n",
    "    return blob"
   ]
  },
  {
   "cell_type": "markdown",
   "metadata": {},
   "source": [
    "#### Run this to Get Data and Upload to GCS\n",
    "- Will store each export in a tile specific directory in brand reporting\n",
    "    - **ex**: `gs://rtf_staging/brand_reporting/2506`\n",
    "- `start_date` and `end_date` variables will control what date range the moat exports are pulled for"
   ]
  },
  {
   "cell_type": "code",
   "execution_count": null,
   "metadata": {},
   "outputs": [],
   "source": [
    "start_date = '20191001'\n",
    "end_date = '20191020'\n",
    "\n",
    "files_in_gcs = [] ## list of tiles that are uploaded\n",
    "for x in q4_tiles:\n",
    "    time.sleep(10) # for rate limiting\n",
    "    tile_id, level_filter, dimensions = x #  unpack tuple\n",
    "    print(\"Get data for {]}\".format(tile_id))\n",
    "    \n",
    "    filename = get_moat_data(tile_id,start_date,end_date,level_filter,dimensions)\n",
    "    \n",
    "    if filename:\n",
    "        print(\"Stored at {}\".format(filename))\n",
    "    else:\n",
    "        print(\"No Data\")\n",
    "        continue    \n",
    "    \n",
    "    try:\n",
    "        print(\"Try GCS Upload\")\n",
    "        blob = upload_local_file(filename, bucket = \"rtf_staging\", folder = \"brand_reporting/{}\".format(tile_id))\n",
    "        print(\"Clean Up File\")\n",
    "        files_in_gcs.append(tile_id)\n",
    "        os.remove(filename)\n",
    "    except Exception as e:\n",
    "        print(e)\n",
    "        continue"
   ]
  },
  {
   "cell_type": "markdown",
   "metadata": {},
   "source": [
    "## Upload to BigQuery Tools"
   ]
  },
  {
   "cell_type": "code",
   "execution_count": 4,
   "metadata": {},
   "outputs": [
    {
     "ename": "NameError",
     "evalue": "name 'credentialsFromVault' is not defined",
     "output_type": "error",
     "traceback": [
      "\u001b[0;31m---------------------------------------------------------------------------\u001b[0m",
      "\u001b[0;31mNameError\u001b[0m                                 Traceback (most recent call last)",
      "\u001b[0;32m<ipython-input-4-a229ee0846d1>\u001b[0m in \u001b[0;36m<module>\u001b[0;34m\u001b[0m\n\u001b[1;32m      1\u001b[0m \u001b[0;32mfrom\u001b[0m \u001b[0mgoogle\u001b[0m\u001b[0;34m.\u001b[0m\u001b[0mcloud\u001b[0m \u001b[0;32mimport\u001b[0m \u001b[0mbigquery\u001b[0m\u001b[0;34m\u001b[0m\u001b[0m\n\u001b[0;32m----> 2\u001b[0;31m \u001b[0mbq\u001b[0m \u001b[0;34m=\u001b[0m \u001b[0mbigquery\u001b[0m\u001b[0;34m(\u001b[0m\u001b[0mcredentialsFromVault\u001b[0m\u001b[0;34m)\u001b[0m\u001b[0;34m\u001b[0m\u001b[0m\n\u001b[0m",
      "\u001b[0;31mNameError\u001b[0m: name 'credentialsFromVault' is not defined"
     ]
    }
   ],
   "source": [
    "from google.cloud import bigquery\n",
    "bq = bigquery(credentialsFromVault)"
   ]
  },
  {
   "cell_type": "code",
   "execution_count": null,
   "metadata": {},
   "outputs": [],
   "source": [
    "dest_dataset = 'RTF_DWH_Moat'\n",
    "tiles_in_gcs = list(set(tiles_in_gcs)) ## get unique tile_ids from loaded tiles\n",
    "\n",
    "for tile_id in tiles_in_gcs :\n",
    "    print(tile_id)\n",
    "    bq_schema = [bigquery.SchemaField.from_api_repr(x) for x in moat_schemas.get(tile_id)] ## loads schema from moat_utils\n",
    "\n",
    "    load = bq.load_from_gcs(dest_dataset, \"gs://rtf_staging/brand_reporting/{}*\".format(tile_id), \"{}_20191001_20191020\".format(tile_id),bq_schema,extension='json')\n",
    "    print(load.job_id)"
   ]
  }
 ],
 "metadata": {
  "kernelspec": {
   "display_name": "Python 3",
   "language": "python",
   "name": "python3"
  },
  "language_info": {
   "codemirror_mode": {
    "name": "ipython",
    "version": 3
   },
   "file_extension": ".py",
   "mimetype": "text/x-python",
   "name": "python",
   "nbconvert_exporter": "python",
   "pygments_lexer": "ipython3",
   "version": "3.5.2"
  }
 },
 "nbformat": 4,
 "nbformat_minor": 4
}
