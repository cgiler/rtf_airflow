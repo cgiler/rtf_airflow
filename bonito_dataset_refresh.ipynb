{
 "cells": [
  {
   "cell_type": "code",
   "execution_count": 15,
   "metadata": {},
   "outputs": [],
   "source": [
    "from rtf_utils.moat_utils import MoatTile, format_json_newline, clean_row\n",
    "from rtf_utils.gcp_utils import BigQuery, CloudStorage\n",
    "from rtf_utils.dfa_utils import CampaignManagerReport,clean_dcm_file\n",
    "from essence.analytics.platform import securedcredentials as secure_creds\n",
    "import json\n",
    "import time"
   ]
  },
  {
   "cell_type": "code",
   "execution_count": 11,
   "metadata": {},
   "outputs": [],
   "source": [
    "with open(\"rtf_utils/moat_config_pixel.json\") as json_file:\n",
    "        config = json.load(json_file)\n",
    "\n",
    "moat_token = 'IhSsMXBfH1eQBYaeYEYDJxot3Gs0uq9iaIUm3Qzf'\n",
    "service_account_email='131786951123-compute@developer.gserviceaccount.com' ## gcp analytics service account\n",
    "PROJECT_ID='essence-analytics-dwh'\n",
    "credentialsFromVault=secure_creds.getCredentialsFromEssenceVault(service_account_email)"
   ]
  },
  {
   "cell_type": "markdown",
   "metadata": {},
   "source": [
    "## Moat"
   ]
  },
  {
   "cell_type": "code",
   "execution_count": 7,
   "metadata": {},
   "outputs": [],
   "source": [
    "## cm \n",
    "cm_disp = MoatTile(2506,\"moat_google_display\",[22830945],\"disp\",False)\n",
    "cm_vid = MoatTile(2698,\"moat_google_video\",[22830945],\"vid\",False)\n",
    "\n",
    "## twitter\n",
    "tw_disp = MoatTile(6195541,\"moat_tw_display\",[21017248,20969946,20970333,20969992],\"disp\",True)\n",
    "tw_vid = MoatTile(6195543,\"moat_tw_video\",[20970543],\"vid\",True)\n",
    "\n",
    "## facebook \n",
    "fb_dis = MoatTile(6195503,\"moat_fb_display\",[23843331338570586,23843331340260586],\"disp\",True)\n",
    "fb_vid = MoatTile(8268,\"moat_fb_video\",[23843331336980586],\"vid\",True)\n",
    "\n",
    "## ig\n",
    "ig_disp = MoatTile(6188035,\"moat_ig_display\",[23843460042250586,23843460040730586,23843460042240586],\"disp\",True)\n",
    "ig_vid = MoatTile(13120,\"moat_ig_vid\",[23843460042260586,23843460042270586,23843460042240586],\"vid\",True)\n",
    "\n",
    "## YT\n",
    "yt_trv = MoatTile(13386,\"Essence Google TrueView\",[7020493427],\"vid\",False)\n",
    "yt_trp = MoatTile(6179366,\"YT Reserve\", [2520197687,2549731844,2550298543,2547410762],\"vid\",True)"
   ]
  },
  {
   "cell_type": "code",
   "execution_count": 12,
   "metadata": {},
   "outputs": [],
   "source": [
    "def get_tile_data(tiles,start_date,end_date,moat_token):   \n",
    "    \"\"\"\n",
    "    date format YYYYMMDD\n",
    "    \"\"\"    \n",
    "    for tile in tiles:\n",
    "        start_time = time.time()\n",
    "        print(\"Starting Tile: {}\".format(tile.name))\n",
    "        tile.get_data(start_date,end_date,moat_token)\n",
    "        elapsed_time = round(time.time() - start_time,2)\n",
    "        print(\"Elapsed Time {}\\n{} Rows\".format(elapsed_time,len(tile.data)))\n",
    "\n",
    "def clean_and_save_tile(tiles,prefix=None):\n",
    "    saved_files = []\n",
    "    for tile in tiles:\n",
    "        if prefix:\n",
    "             filename = prefix + \"_\" + tile.name + \".json\"\n",
    "        else:\n",
    "            filename = tile.name + \".json\"\n",
    "        \n",
    "        if tile.data != []:        \n",
    "            with open(filename, \"w\") as f:\n",
    "                rows_cleaned = [clean_row(row) for row in tile.data]       \n",
    "                rows = [json.dumps(row) for row in rows_cleaned]\n",
    "                row_str = '\\n'.join(rows)\n",
    "                f.write(row_str)\n",
    "            saved_files.append(filename)\n",
    "        else:\n",
    "            pass\n",
    "    return saved_files"
   ]
  },
  {
   "cell_type": "code",
   "execution_count": null,
   "metadata": {},
   "outputs": [],
   "source": [
    "start_date = '20190701'\n",
    "end_date = '20190825'\n",
    "tiles = [cm_disp,cm_vid,fb_dis,fb_vid,yt_trv,yt_trp]\n",
    "get_tile_data(tiles,start_date,end_date,)"
   ]
  },
  {
   "cell_type": "code",
   "execution_count": 16,
   "metadata": {},
   "outputs": [
    {
     "name": "stdout",
     "output_type": "stream",
     "text": [
      "Starting Tile: moat_ig_display\n",
      "Elapsed Time 42.18\n",
      "102 Rows\n",
      "Starting Tile: moat_ig_vid\n",
      "Elapsed Time 40.48\n",
      "102 Rows\n"
     ]
    }
   ],
   "source": [
    "start_date = '20190701'\n",
    "end_date = '20190825'\n",
    "get_tile_data([ig_disp,ig_vid],start_date,end_date,moat_token)"
   ]
  },
  {
   "cell_type": "code",
   "execution_count": 19,
   "metadata": {},
   "outputs": [],
   "source": [
    "saved_files = clean_and_save_tile([ig_disp,ig_vid],prefix=\"q3\")"
   ]
  },
  {
   "cell_type": "code",
   "execution_count": 20,
   "metadata": {},
   "outputs": [
    {
     "name": "stdout",
     "output_type": "stream",
     "text": [
      "q3_moat_ig_display.json\n",
      "q3_moat_ig_vid.json\n"
     ]
    }
   ],
   "source": [
    "cs = CloudStorage(credentialsFromVault)\n",
    "for file in saved_files:\n",
    "    print(file)\n",
    "    cs.upload_blob('rtf_staging',file,file,'filename')"
   ]
  },
  {
   "cell_type": "code",
   "execution_count": 28,
   "metadata": {},
   "outputs": [],
   "source": [
    "## can load multiple uris into one table but tiles are of diff scehemas??\n",
    "## Load All Disp \n",
    "## handle different columns having opid with coelesce(regex(opid) etc etc)\n",
    "\n",
    "## load Video\n",
    "resp = bq.load_from_gcs('rtf_pixel_brand_report',\n",
    "                 [ 'gs://rtf_staging/q3_Essence Google TrueView.json',\n",
    " 'gs://rtf_staging/q3_YT Reserve.json'],\n",
    "                 moat_vid_schema,\n",
    "                \"moat_vid_test\",\n",
    "                ext='json'\n",
    "                )\n",
    "## load Disp\n",
    "resp = bq.load_from_gcs('rtf_pixel_brand_report',\n",
    "                 \"gs://rtf_staging/q3_moat_google_display.json\",\n",
    "                 moat_disp_schema,\n",
    "                \"g_disp\",\n",
    "                ext='json'\n",
    "                )"
   ]
  },
  {
   "cell_type": "code",
   "execution_count": 38,
   "metadata": {},
   "outputs": [],
   "source": [
    "## Report ID's\n",
    "verification_report = CampaignManagerReport(credentialsFromVault,5096586,631165400)"
   ]
  },
  {
   "cell_type": "markdown",
   "metadata": {},
   "source": [
    "## DCM - Reports"
   ]
  },
  {
   "cell_type": "code",
   "execution_count": 39,
   "metadata": {},
   "outputs": [],
   "source": [
    "verification_report = CampaignManagerReport(credentialsFromVault,5096586,631165400)\n",
    "video_player_size = CampaignManagerReport(credentialsFromVault,5096586,632709822)\n",
    "\n",
    "verification_report.set_date_range(\"2019-07-01\",\"2019-08-25\")\n",
    "video_player_size.set_date_range(\"2019-07-01\",\"2019-08-25\")\n",
    "\n",
    "verification_report.run_report()\n",
    "video_player_size.run_report()\n",
    "\n",
    "verification_report.get_report_status()\n",
    "\n",
    "\n",
    "file_name = verification_report.download_file()\n",
    "\n",
    "\n",
    "from time import sleep\n",
    "video_player_size.get_report_status()\n",
    "while video_player_size.status != \"REPORT_AVAILABLE\":\n",
    "    sleep(5)\n",
    "    video_player_size.get_report_status()\n",
    "    print(video_player_size.status)\n",
    "filename = video_player_size.download_file()\n",
    "clean_dcm_file('Bonito_Video_Player_Size.csv')"
   ]
  },
  {
   "cell_type": "code",
   "execution_count": 88,
   "metadata": {},
   "outputs": [],
   "source": [
    "def clean_dcm_file(filename):\n",
    "    data = []\n",
    "    write = False\n",
    "    with open(filename,'r') as f:\n",
    "        reader = csv.reader(f, delimiter=',')\n",
    "\n",
    "        for row in reader:\n",
    "            if write == True:\n",
    "                data.append(row)        \n",
    "            elif row == ['Report Fields']:\n",
    "                write = True\n",
    "\n",
    "        if data[-1][0] == 'Grand Total:':\n",
    "            data.pop()\n",
    "\n",
    "    with open(filename, \"w\", newline=\"\") as f:\n",
    "        writer = csv.writer(f)\n",
    "        writer.writerows(data)"
   ]
  },
  {
   "cell_type": "code",
   "execution_count": 90,
   "metadata": {},
   "outputs": [],
   "source": [
    "classification = clean_dcm_file(file_name)"
   ]
  },
  {
   "cell_type": "code",
   "execution_count": 87,
   "metadata": {},
   "outputs": [],
   "source": [
    "cs.upload_blob(\"rtf_staging\",\"dcm_verification.csv\",\"\",mode=\"filename\")"
   ]
  },
  {
   "cell_type": "code",
   "execution_count": 97,
   "metadata": {},
   "outputs": [],
   "source": [
    "resp = bq.load_from_gcs('rtf_pixel_brand_report',\n",
    "                'gs://rtf_staging/Bonito_Classification.csv',\n",
    "                 verification_schema,\n",
    "               \"dcm_verification\",\n",
    "                skip_rows = 1\n",
    "                )"
   ]
  },
  {
   "cell_type": "code",
   "execution_count": 10,
   "metadata": {},
   "outputs": [],
   "source": [
    "video_player_size.set_date_range(\"2019-07-01\",\"2019-08-25\")\n",
    "video_player_size.run_report()"
   ]
  },
  {
   "cell_type": "code",
   "execution_count": 12,
   "metadata": {},
   "outputs": [
    {
     "name": "stdout",
     "output_type": "stream",
     "text": [
      "PROCESSING\n",
      "PROCESSING\n",
      "PROCESSING\n",
      "PROCESSING\n",
      "REPORT_AVAILABLE\n"
     ]
    }
   ],
   "source": [
    "from time import sleep\n",
    "video_player_size.get_report_status()\n",
    "while video_player_size.status != \"REPORT_AVAILABLE\":\n",
    "    sleep(5)\n",
    "    video_player_size.get_report_status()\n",
    "    print(video_player_size.status)\n",
    "filename = video_player_size.download_file()\n",
    "clean_dcm_file('Bonito_Video_Player_Size.csv')"
   ]
  },
  {
   "cell_type": "code",
   "execution_count": 20,
   "metadata": {},
   "outputs": [],
   "source": [
    "cs.upload_blob(\"rtf_staging\",\"Bonito_Video_Player_Size.csv\",\"Bonito_Video_Player_Size.csv\",mode=\"filename\")"
   ]
  },
  {
   "cell_type": "code",
   "execution_count": 24,
   "metadata": {},
   "outputs": [],
   "source": [
    "resp = bq.load_from_gcs('rtf_brand_reporting',\n",
    "                'gs://rtf_staging/Bonito_Video_Player_Size.csv',\n",
    "                 player_size_schema,\n",
    "               \"DCM_playerSize\",\n",
    "                ext='csv',\n",
    "                        skip_rows = 1\n",
    "                )"
   ]
  },
  {
   "cell_type": "code",
   "execution_count": 25,
   "metadata": {},
   "outputs": [],
   "source": [
    "resp = bq.load_from_gcs('rtf_brand_reporting',\n",
    "                'gs://rtf_staging/Bonito_Classification.csv',\n",
    "                 verification_schema,\n",
    "               \"DCM_contentVerification\",\n",
    "                skip_rows = 1\n",
    "                )"
   ]
  },
  {
   "cell_type": "code",
   "execution_count": 33,
   "metadata": {},
   "outputs": [],
   "source": [
    "## load Video\n",
    "resp = bq.load_from_gcs('rtf_brand_reporting',\n",
    "                 [ 'gs://rtf_staging/q3_Essence Google TrueView.json',\n",
    " 'gs://rtf_staging/q3_YT Reserve.json'],\n",
    "                 moat_vid_schema,\n",
    "                \"MOAT_videoTiles_RAW\",\n",
    "                ext='json'\n",
    "                )\n",
    "## load Disp\n",
    "resp = bq.load_from_gcs('rtf_brand_reporting',\n",
    "                 \"gs://rtf_staging/q3_moat_google_display.json\",\n",
    "                 moat_disp_schema,\n",
    "                \"MOAT_displayTiles_RAW\",\n",
    "                ext='json'\n",
    "                )"
   ]
  },
  {
   "cell_type": "code",
   "execution_count": 4,
   "metadata": {},
   "outputs": [],
   "source": [
    "materialize_verification = \"\"\"\n",
    "                            SELECT\n",
    "                              date,\n",
    "                              CAST(REGEXP_EXTRACT(placement,r\"OPID-(\\d+)\") AS int64) AS opid,\n",
    "                              SUM(verifiable_impressions) verifiable_impressions_no_issues\n",
    "                            FROM\n",
    "                              `essence-analytics-dwh.rtf_brand_reporting.DCM_contentVerification`\n",
    "                            WHERE\n",
    "                              classifier = \"None Detected\"\n",
    "                            GROUP BY\n",
    "                              1,\n",
    "                              2\n",
    "\n",
    "                            \"\"\"\n",
    "\n",
    "materialize_player_report = \"\"\"\n",
    "                            WITH\n",
    "                              player_pivot AS (\n",
    "                              SELECT\n",
    "                                date,\n",
    "                                CAST(REGEXP_EXTRACT(placement,r\"OPID-(\\d+)\") AS int64) AS opid,\n",
    "                                CASE\n",
    "                                  WHEN video_player_size = \"HD\" THEN verifiable_impressions\n",
    "                              END\n",
    "                                AS hd_player_impressions,\n",
    "                                CASE\n",
    "                                  WHEN video_player_size = \"LARGE\" THEN verifiable_impressions\n",
    "                              END\n",
    "                                AS large_player_impressions,\n",
    "                                CASE\n",
    "                                  WHEN video_player_size = \"SMALL\" THEN verifiable_impressions\n",
    "                              END\n",
    "                                AS small_player_impressions,\n",
    "                                CASE\n",
    "                                  WHEN video_player_size = \"(not set)\" THEN verifiable_impressions\n",
    "                              END\n",
    "                                AS player_not_set_impressions\n",
    "                              FROM\n",
    "                                `essence-analytics-dwh.rtf_brand_reporting.DCM_playerSize`)\n",
    "                            SELECT\n",
    "                              date,\n",
    "                              opid,\n",
    "                              SUM(hd_player_impressions) hd_player_impressions,\n",
    "                              SUM(large_player_impressions) large_player_impressions,\n",
    "                              SUM(small_player_impressions) small_player_impressions,\n",
    "                              SUM(player_not_set_impressions) player_not_set_impressions\n",
    "                            FROM\n",
    "                              player_pivot\n",
    "                            GROUP BY\n",
    "                              1,\n",
    "                              2\n",
    "                            \"\"\"\n",
    "\n",
    "\n",
    "moat_vid = \"\"\"\n",
    "            SELECT\n",
    "              date,\n",
    "              CAST(REGEXP_EXTRACT(level4_label,r\"OPID-(\\d+)\") AS int64) AS opid,\n",
    "              SUM(impressions_analyzed) AS moat_vid_impressions_analyzed,\n",
    "              SUM(susp_valid) AS moat_vid_susp_valid,\n",
    "              SUM(valid_and_viewable) AS valid_and_viewable,\n",
    "              SUM(reached_first_quart_sum) reached_first_quart_sum,\n",
    "              SUM(reached_second_quart_sum) reached_second_quart_sum,\n",
    "              SUM(reached_third_quart_sum) reached_third_quart_sum,\n",
    "              SUM(reached_complete_sum) reached_complete_sum,\n",
    "              SUM(player_visible_on_complete_sum) player_visible_on_complete_sum,\n",
    "              SUM(player_audible_on_complete_sum) player_audible_on_complete_sum,\n",
    "              SUM(player_vis_and_aud_on_complete_sum) player_vis_and_aud_on_complete_sum,\n",
    "              SUM(susp_valid_and_inview_gm_meas_sum) susp_valid_and_inview_gm_meas_sum,\n",
    "              sum(_5_sec_in_view_impressions) _5_sec_in_view_impressions,\n",
    "              sum(susp_bot_geo_perc) susp_bot_geo_perc\n",
    "            FROM\n",
    "              `essence-analytics-dwh.rtf_brand_reporting.MOAT_videoTiles_RAW`\n",
    "\n",
    "            Group by 1,2\n",
    "            \"\"\"\n",
    "\n",
    "helper_sql.moat_disp = \"\"\"\n",
    "            SELECT\n",
    "              date,\n",
    "              CAST(REGEXP_EXTRACT(level3_label,r\"OPID-(\\d+)\") AS int64) AS opid,\n",
    "              SUM(impressions_analyzed) AS impressions_analyzed,\n",
    "              SUM(valid_and_viewable) AS valid_and_viewable,\n",
    "              SUM(iva) AS iva,\n",
    "              SUM(susp_bot_geo_perc) AS susp_bot_geo_perc\n",
    "            FROM\n",
    "              `essence-analytics-dwh.rtf_brand_reporting.MOAT_displayTiles_RAW`\n",
    "            GROUP BY\n",
    "              1,\n",
    "              2\n",
    "            \"\"\"\n",
    "\n"
   ]
  },
  {
   "cell_type": "code",
   "execution_count": 3,
   "metadata": {},
   "outputs": [],
   "source": [
    "bq = BigQuery(credentialsFromVault)"
   ]
  },
  {
   "cell_type": "code",
   "execution_count": 9,
   "metadata": {},
   "outputs": [
    {
     "name": "stderr",
     "output_type": "stream",
     "text": [
      "C:\\Users\\kyle.randolph\\AppData\\Local\\Continuum\\anaconda3\\lib\\site-packages\\google\\auth\\_default.py:66: UserWarning: Your application has authenticated using end user credentials from Google Cloud SDK. We recommend that most server applications use service accounts instead. If your application continues to use end user credentials from Cloud SDK, you might receive a \"quota exceeded\" or \"API not enabled\" error. For more information about service accounts, see https://cloud.google.com/docs/authentication/\n",
      "  warnings.warn(_CLOUD_SDK_CREDENTIALS_WARNING)\n"
     ]
    }
   ],
   "source": [
    "resp = bq.store_query_results(materialize_verification,\"rtf_brand_reporting\",\"DCM_verificationReport_TRANSFORMED\")"
   ]
  },
  {
   "cell_type": "code",
   "execution_count": 12,
   "metadata": {},
   "outputs": [],
   "source": [
    "resp = bq.store_query_results(materialize_player_report,\"rtf_brand_reporting\",\"DCM_playerSize_TRANSFORMED\")"
   ]
  },
  {
   "cell_type": "code",
   "execution_count": 14,
   "metadata": {},
   "outputs": [],
   "source": [
    "resp = bq.store_query_results(moat_vid,\"rtf_brand_reporting\",\"MOAT_videoTiles_TRANSFORMED\")"
   ]
  },
  {
   "cell_type": "code",
   "execution_count": 11,
   "metadata": {},
   "outputs": [
    {
     "ename": "AttributeError",
     "evalue": "module 'helper_sql' has no attribute 'moat_disp'",
     "output_type": "error",
     "traceback": [
      "\u001b[1;31m---------------------------------------------------------------------------\u001b[0m",
      "\u001b[1;31mAttributeError\u001b[0m                            Traceback (most recent call last)",
      "\u001b[1;32m<ipython-input-11-9c8259e4b2cb>\u001b[0m in \u001b[0;36m<module>\u001b[1;34m\u001b[0m\n\u001b[1;32m----> 1\u001b[1;33m \u001b[0mresp\u001b[0m \u001b[1;33m=\u001b[0m \u001b[0mbq\u001b[0m\u001b[1;33m.\u001b[0m\u001b[0mstore_query_results\u001b[0m\u001b[1;33m(\u001b[0m\u001b[0mq\u001b[0m\u001b[1;33m.\u001b[0m\u001b[0mmoat_disp\u001b[0m\u001b[1;33m,\u001b[0m\u001b[1;34m\"rtf_brand_reporting\"\u001b[0m\u001b[1;33m,\u001b[0m\u001b[1;34m\"MOAT_displayTiles_TRANSFORMED\"\u001b[0m\u001b[1;33m)\u001b[0m\u001b[1;33m\u001b[0m\u001b[1;33m\u001b[0m\u001b[0m\n\u001b[0m",
      "\u001b[1;31mAttributeError\u001b[0m: module 'helper_sql' has no attribute 'moat_disp'"
     ]
    }
   ],
   "source": [
    "resp = bq.store_query_results(moat_disp,\"rtf_brand_reporting\",\"MOAT_displayTiles_TRANSFORMED\")"
   ]
  },
  {
   "cell_type": "code",
   "execution_count": 2,
   "metadata": {},
   "outputs": [
    {
     "ename": "NameError",
     "evalue": "name 'q' is not defined",
     "output_type": "error",
     "traceback": [
      "\u001b[1;31m---------------------------------------------------------------------------\u001b[0m",
      "\u001b[1;31mNameError\u001b[0m                                 Traceback (most recent call last)",
      "\u001b[1;32m<ipython-input-2-e222fcdf3350>\u001b[0m in \u001b[0;36m<module>\u001b[1;34m\u001b[0m\n\u001b[1;32m----> 1\u001b[1;33m \u001b[0mq\u001b[0m\u001b[1;33m\u001b[0m\u001b[1;33m\u001b[0m\u001b[0m\n\u001b[0m",
      "\u001b[1;31mNameError\u001b[0m: name 'q' is not defined"
     ]
    }
   ],
   "source": [
    "q"
   ]
  },
  {
   "cell_type": "code",
   "execution_count": null,
   "metadata": {},
   "outputs": [],
   "source": []
  }
 ],
 "metadata": {
  "kernelspec": {
   "display_name": "Python 3",
   "language": "python",
   "name": "python3"
  },
  "language_info": {
   "codemirror_mode": {
    "name": "ipython",
    "version": 3
   },
   "file_extension": ".py",
   "mimetype": "text/x-python",
   "name": "python",
   "nbconvert_exporter": "python",
   "pygments_lexer": "ipython3",
   "version": "3.7.1"
  }
 },
 "nbformat": 4,
 "nbformat_minor": 2
}
