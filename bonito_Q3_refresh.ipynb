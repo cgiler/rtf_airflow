{
 "cells": [
  {
   "cell_type": "code",
   "execution_count": 5,
   "metadata": {},
   "outputs": [],
   "source": [
    "from rtf_utils.moat_utils import MoatTile\n",
    "import json\n",
    "import logging\n",
    "import sys\n",
    "import os\n",
    "from rtf_utils.gcp_utils import CloudStorage,BigQuery\n",
    "from essence.analytics.platform import securedcredentials as secure_creds"
   ]
  },
  {
   "cell_type": "code",
   "execution_count": 6,
   "metadata": {},
   "outputs": [
    {
     "name": "stderr",
     "output_type": "stream",
     "text": [
      "C:\\Users\\kyle.randolph\\AppData\\Local\\Continuum\\anaconda3\\lib\\site-packages\\google\\auth\\_default.py:66: UserWarning: Your application has authenticated using end user credentials from Google Cloud SDK. We recommend that most server applications use service accounts instead. If your application continues to use end user credentials from Cloud SDK, you might receive a \"quota exceeded\" or \"API not enabled\" error. For more information about service accounts, see https://cloud.google.com/docs/authentication/\n",
      "  warnings.warn(_CLOUD_SDK_CREDENTIALS_WARNING)\n"
     ]
    }
   ],
   "source": [
    "service_account_email='131786951123-compute@developer.gserviceaccount.com' ## gcp analytics service account\n",
    "PROJECT_ID='essence-analytics-dwh'\n",
    "credentialsFromVault=secure_creds.getCredentialsFromEssenceVault(service_account_email)\n",
    "\n",
    "\n",
    "moat_token = \"[moat token here]\"\n",
    "start_date = '20190801'\n",
    "end_date = '20190810'"
   ]
  },
  {
   "cell_type": "code",
   "execution_count": 7,
   "metadata": {},
   "outputs": [],
   "source": [
    "ig_vid = MoatTile(tile_id=13120,\n",
    "         tile_type=\"vid\",name = \"ig_vid\",\n",
    "         level_filters={'level1':10154328017481183},\n",
    "         dimensions=['date','level4'])\n",
    "\n",
    "yt_trv = MoatTile(tile_id=13386,\n",
    "         tile_type=\"vid\",name = \"YT_TRV\",\n",
    "         level_filters={'level1':7020493427},\n",
    "         dimensions=['date','level4'])\n",
    "\n",
    "cm_disp = MoatTile(tile_id=2506,\n",
    "         tile_type=\"disp\",name = \"cm_disp\",\n",
    "         level_filters={'level1':22830945},\n",
    "         dimensions=['date','level3'])\n",
    "                   \n",
    "cm_vid = MoatTile(tile_id=2698,\n",
    "         tile_type=\"vid\",name = \"cm_vid\",\n",
    "         level_filters={'level1':22830945},\n",
    "         dimensions=['date','level3'])\n",
    "\n",
    "\n",
    "file_queue = [ig_vid,yt_trv]"
   ]
  },
  {
   "cell_type": "code",
   "execution_count": null,
   "metadata": {},
   "outputs": [],
   "source": [
    "files = [tile.get_data('20190801', '20190805',moat_token) for tile in file_queue]    "
   ]
  },
  {
   "cell_type": "code",
   "execution_count": 8,
   "metadata": {},
   "outputs": [],
   "source": [
    "gcs = CloudStorage(credentialsFromVault)\n",
    "bq = BigQuery(credentialsFromVault)"
   ]
  },
  {
   "cell_type": "code",
   "execution_count": 23,
   "metadata": {},
   "outputs": [
    {
     "name": "stdout",
     "output_type": "stream",
     "text": [
      "uploading 13120_ig_vid.json\n",
      "uploading 13386_YT_TRV.json\n"
     ]
    }
   ],
   "source": [
    "for file in files:\n",
    "    print(\"uploading {}\".format(file))\n",
    "    gcs.upload_blob('rtf_staging','bonito_q3/'+file,file,mode='filename')\n",
    "    try:\n",
    "        print(\"Removing {} Locally\".format(file))\n",
    "        os.remove(file)\n",
    "    except Exception as e:\n",
    "        print(e)"
   ]
  },
  {
   "cell_type": "code",
   "execution_count": 29,
   "metadata": {},
   "outputs": [
    {
     "data": {
      "text/plain": [
       "['13120_ig_vid.json', '13386_YT_TRV.json']"
      ]
     },
     "execution_count": 29,
     "metadata": {},
     "output_type": "execute_result"
    }
   ],
   "source": [
    "files"
   ]
  },
  {
   "cell_type": "code",
   "execution_count": 11,
   "metadata": {},
   "outputs": [
    {
     "data": {
      "text/plain": [
       "<google.cloud.bigquery.job.LoadJob at 0x155c40df438>"
      ]
     },
     "execution_count": 11,
     "metadata": {},
     "output_type": "execute_result"
    }
   ],
   "source": [
    "bq.load_from_gcs('rtf_brand_reporting','gs://rtf_staging/bonito_q3/13386_YT_TRV.json','test_write_trv',mode='Truncate',ext='json')"
   ]
  },
  {
   "cell_type": "markdown",
   "metadata": {},
   "source": [
    "## ------ DCM Section ------"
   ]
  },
  {
   "cell_type": "markdown",
   "metadata": {},
   "source": [
    "#### DCM ToDo:\n",
    "- refactor report class take same data range format. Declare one format globally and format on class instantiation\n",
    "- Put dcm report cleaner in class\n",
    "- put report wait-until-available in class\n",
    "- figure out a better way to materalize views -- storing sql etc (use parameters for tables names"
   ]
  },
  {
   "cell_type": "code",
   "execution_count": 13,
   "metadata": {},
   "outputs": [],
   "source": [
    "from rtf_utils.dfa_utils import CampaignManagerReport,clean_dcm_file"
   ]
  },
  {
   "cell_type": "code",
   "execution_count": null,
   "metadata": {},
   "outputs": [],
   "source": [
    "verification_report = CampaignManagerReport(credentialsFromVault,5096586,631165400)\n",
    "video_player_size = CampaignManagerReport(credentialsFromVault,5096586,632709822)\n",
    "\n",
    "verification_report.set_date_range(\"2019-07-01\",\"2019-08-25\")\n",
    "video_player_size.set_date_range(\"2019-07-01\",\"2019-08-25\")\n",
    "\n",
    "verification_report.run_report()\n",
    "video_player_size.run_report()\n",
    "\n",
    "verification_report.get_report_status()\n",
    "\n",
    "\n",
    "file_name = verification_report.download_file()\n",
    "\n",
    "\n",
    "from time import sleep\n",
    "video_player_size.get_report_status()\n",
    "while video_player_size.status != \"REPORT_AVAILABLE\":\n",
    "    sleep(5)\n",
    "    video_player_size.get_report_status()\n",
    "    print(video_player_size.status)\n",
    "filename = video_player_size.download_file()\n",
    "clean_dcm_file('Bonito_Video_Player_Size.csv')"
   ]
  },
  {
   "cell_type": "code",
   "execution_count": null,
   "metadata": {},
   "outputs": [],
   "source": [
    "def clean_dcm_file(filename):\n",
    "    data = []\n",
    "    write = False\n",
    "    with open(filename,'r') as f:\n",
    "        reader = csv.reader(f, delimiter=',')\n",
    "\n",
    "        for row in reader:\n",
    "            if write == True:\n",
    "                data.append(row)        \n",
    "            elif row == ['Report Fields']:\n",
    "                write = True\n",
    "\n",
    "        if data[-1][0] == 'Grand Total:':\n",
    "            data.pop()\n",
    "\n",
    "    with open(filename, \"w\", newline=\"\") as f:\n",
    "        writer = csv.writer(f)\n",
    "        writer.writerows(data)"
   ]
  },
  {
   "cell_type": "code",
   "execution_count": null,
   "metadata": {},
   "outputs": [],
   "source": [
    "from time import sleep\n",
    "video_player_size.get_report_status()\n",
    "while video_player_size.status != \"REPORT_AVAILABLE\":\n",
    "    sleep(5)\n",
    "    video_player_size.get_report_status()\n",
    "    print(video_player_size.status)\n",
    "filename = video_player_size.download_file()\n",
    "clean_dcm_file('Bonito_Video_Player_Size.csv')"
   ]
  },
  {
   "cell_type": "code",
   "execution_count": null,
   "metadata": {},
   "outputs": [],
   "source": [
    "materialize_verification = \"\"\"\n",
    "                            SELECT\n",
    "                              date,\n",
    "                              CAST(REGEXP_EXTRACT(placement,r\"OPID-(\\d+)\") AS int64) AS opid,\n",
    "                              SUM(verifiable_impressions) verifiable_impressions_no_issues\n",
    "                            FROM\n",
    "                              `essence-analytics-dwh.rtf_brand_reporting.DCM_contentVerification`\n",
    "                            WHERE\n",
    "                              classifier = \"None Detected\"\n",
    "                            GROUP BY\n",
    "                              1,\n",
    "                              2\n",
    "\n",
    "                            \"\"\"\n",
    "\n",
    "materialize_player_report = \"\"\"\n",
    "                            WITH\n",
    "                              player_pivot AS (\n",
    "                              SELECT\n",
    "                                date,\n",
    "                                CAST(REGEXP_EXTRACT(placement,r\"OPID-(\\d+)\") AS int64) AS opid,\n",
    "                                CASE\n",
    "                                  WHEN video_player_size = \"HD\" THEN verifiable_impressions\n",
    "                              END\n",
    "                                AS hd_player_impressions,\n",
    "                                CASE\n",
    "                                  WHEN video_player_size = \"LARGE\" THEN verifiable_impressions\n",
    "                              END\n",
    "                                AS large_player_impressions,\n",
    "                                CASE\n",
    "                                  WHEN video_player_size = \"SMALL\" THEN verifiable_impressions\n",
    "                              END\n",
    "                                AS small_player_impressions,\n",
    "                                CASE\n",
    "                                  WHEN video_player_size = \"(not set)\" THEN verifiable_impressions\n",
    "                              END\n",
    "                                AS player_not_set_impressions\n",
    "                              FROM\n",
    "                                `essence-analytics-dwh.rtf_brand_reporting.DCM_playerSize`)\n",
    "                            SELECT\n",
    "                              date,\n",
    "                              opid,\n",
    "                              SUM(hd_player_impressions) hd_player_impressions,\n",
    "                              SUM(large_player_impressions) large_player_impressions,\n",
    "                              SUM(small_player_impressions) small_player_impressions,\n",
    "                              SUM(player_not_set_impressions) player_not_set_impressions\n",
    "                            FROM\n",
    "                              player_pivot\n",
    "                            GROUP BY\n",
    "                              1,\n",
    "                              2\n",
    "                            \"\"\"\n",
    "\n",
    "\n",
    "moat_vid = \"\"\"\n",
    "            SELECT\n",
    "              date,\n",
    "              CAST(REGEXP_EXTRACT(level4_label,r\"OPID-(\\d+)\") AS int64) AS opid,\n",
    "              SUM(impressions_analyzed) AS moat_vid_impressions_analyzed,\n",
    "              SUM(susp_valid) AS moat_vid_susp_valid,\n",
    "              SUM(valid_and_viewable) AS valid_and_viewable,\n",
    "              SUM(reached_first_quart_sum) reached_first_quart_sum,\n",
    "              SUM(reached_second_quart_sum) reached_second_quart_sum,\n",
    "              SUM(reached_third_quart_sum) reached_third_quart_sum,\n",
    "              SUM(reached_complete_sum) reached_complete_sum,\n",
    "              SUM(player_visible_on_complete_sum) player_visible_on_complete_sum,\n",
    "              SUM(player_audible_on_complete_sum) player_audible_on_complete_sum,\n",
    "              SUM(player_vis_and_aud_on_complete_sum) player_vis_and_aud_on_complete_sum,\n",
    "              SUM(susp_valid_and_inview_gm_meas_sum) susp_valid_and_inview_gm_meas_sum,\n",
    "              sum(_5_sec_in_view_impressions) _5_sec_in_view_impressions,\n",
    "              sum(susp_bot_geo_perc) susp_bot_geo_perc\n",
    "            FROM\n",
    "              `essence-analytics-dwh.rtf_brand_reporting.MOAT_videoTiles_RAW`\n",
    "\n",
    "            Group by 1,2\n",
    "            \"\"\"\n",
    "\n",
    "helper_sql.moat_disp = \"\"\"\n",
    "            SELECT\n",
    "              date,\n",
    "              CAST(REGEXP_EXTRACT(level3_label,r\"OPID-(\\d+)\") AS int64) AS opid,\n",
    "              SUM(impressions_analyzed) AS impressions_analyzed,\n",
    "              SUM(valid_and_viewable) AS valid_and_viewable,\n",
    "              SUM(iva) AS iva,\n",
    "              SUM(susp_bot_geo_perc) AS susp_bot_geo_perc\n",
    "            FROM\n",
    "              `essence-analytics-dwh.rtf_brand_reporting.MOAT_displayTiles_RAW`\n",
    "            GROUP BY\n",
    "              1,\n",
    "              2\n",
    "            \"\"\"\n",
    "\n"
   ]
  },
  {
   "cell_type": "code",
   "execution_count": null,
   "metadata": {},
   "outputs": [],
   "source": [
    "resp = bq.store_query_results(moat_disp,\"rtf_brand_reporting\",\"MOAT_displayTiles_TRANSFORMED\")"
   ]
  }
 ],
 "metadata": {
  "kernelspec": {
   "display_name": "Python 3",
   "language": "python",
   "name": "python3"
  },
  "language_info": {
   "codemirror_mode": {
    "name": "ipython",
    "version": 3
   },
   "file_extension": ".py",
   "mimetype": "text/x-python",
   "name": "python",
   "nbconvert_exporter": "python",
   "pygments_lexer": "ipython3",
   "version": "3.7.1"
  }
 },
 "nbformat": 4,
 "nbformat_minor": 2
}
