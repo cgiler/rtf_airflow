{
 "cells": [
  {
   "cell_type": "markdown",
   "metadata": {},
   "source": [
    "# Manual Brand Report Refresh - DCM"
   ]
  },
  {
   "cell_type": "code",
   "execution_count": 1,
   "metadata": {},
   "outputs": [
    {
     "name": "stdout",
     "output_type": "stream",
     "text": [
      "M\tbonito_Q3_refresh.ipynb\r\n",
      "M\tbrand_reporting_dags/dfa_reporting_dag_tasks.py\r\n",
      "D\tdag playground.ipynb\r\n",
      "M\trtf_utils/__pycache__/dfa_utils.cpython-36.pyc\r\n",
      "M\trtf_utils/__pycache__/gcp_utils.cpython-36.pyc\r\n",
      "M\trtf_utils/dfa_utils.py\r\n",
      "Already on 'dev'\r\n",
      "Your branch is up to date with 'origin/dev'.\r\n"
     ]
    }
   ],
   "source": [
    "!git checkout dev\n",
    "from brand_reporting_dags.dfa_reporting_dag_tasks import dfa_report_extract,dfa_report_load,clean_up\n",
    "\n",
    "import json\n",
    "import os\n",
    "from datetime import datetime\n",
    "import time\n",
    "import warnings\n",
    "warnings.filterwarnings(\"ignore\", \"Your application has authenticated using end user credentials\")"
   ]
  },
  {
   "cell_type": "code",
   "execution_count": 2,
   "metadata": {
    "collapsed": true
   },
   "outputs": [],
   "source": [
    "from rtf_utils.dfa_utils import CampaignManagerReport,get_dfa_report,clean_dcm_file\n",
    "from rtf_utils.gcp_utils import BigQuery,CloudStorage\n",
    "from essence.analytics.platform import securedcredentials as secure_creds"
   ]
  },
  {
   "cell_type": "markdown",
   "metadata": {},
   "source": [
    "## DCM Reports"
   ]
  },
  {
   "cell_type": "code",
   "execution_count": 25,
   "metadata": {
    "collapsed": true
   },
   "outputs": [],
   "source": [
    "with open('dags/brand_report_task_queue.json') as json_file:\n",
    "    config_json = json.load(json_file)\n",
    "    campaigns = config_json['campaigns']"
   ]
  },
  {
   "cell_type": "markdown",
   "metadata": {},
   "source": [
    "Task = (report_id, bq_dest (proj:dataset.table), schema)"
   ]
  },
  {
   "cell_type": "code",
   "execution_count": 3,
   "metadata": {},
   "outputs": [],
   "source": [
    "tasks = campaigns[0]['dcmTasks']"
   ]
  },
  {
   "cell_type": "code",
   "execution_count": 5,
   "metadata": {
    "scrolled": true
   },
   "outputs": [
    {
     "name": "stdout",
     "output_type": "stream",
     "text": [
      "Get Report Meta\n",
      "File is already available. Start download\n",
      "File downloaded to Bonito_Classification.csv\n",
      "Cleaning File\n",
      "Auth GCS\n",
      "Upload File\n",
      "Clean Up Local\n",
      "Get Report Meta\n",
      "File doesn't exist, run report\n",
      "The Download Part\n",
      "Report Processing, Wait 10. Try 0\n",
      "Report Processing, Wait 10. Try 1\n",
      "Print Report Available!\n",
      "File downloaded to Bonito_Video_Player_Size.csv\n",
      "Cleaning File\n",
      "Auth GCS\n",
      "Upload File\n",
      "Clean Up Local\n"
     ]
    }
   ],
   "source": [
    "start_date = '2019-09-01'\n",
    "end_date = '2019-09-10'\n",
    "gcs_files = [dfa_report_extract(task['reportId'],start_date = start_date,end_date = end_date) for task in tasks]"
   ]
  },
  {
   "cell_type": "code",
   "execution_count": 4,
   "metadata": {},
   "outputs": [],
   "source": [
    "gcs_files = [('rtf_staging', 'brand_reporting/2019-09-10_Bonito_Classification.csv'),\n",
    " ('rtf_staging', 'brand_reporting/2019-09-10_Bonito_Video_Player_Size.csv')]"
   ]
  },
  {
   "cell_type": "code",
   "execution_count": 5,
   "metadata": {},
   "outputs": [
    {
     "name": "stdout",
     "output_type": "stream",
     "text": [
      "Loading brand_reporting/2019-09-10_Bonito_Classification.csv into DCM_contentVerification\n",
      "Loading brand_reporting/2019-09-10_Bonito_Video_Player_Size.csv into DCM_playerSize\n"
     ]
    }
   ],
   "source": [
    "service_account_email='131786951123-compute@developer.gserviceaccount.com'\n",
    "credentialsFromVault=secure_creds.getCredentialsFromEssenceVault(service_account_email)\n",
    "bq = BigQuery(credentialsFromVault)\n",
    "\n",
    "for file in gcs_files:\n",
    "    \n",
    "    bucket, filename = file\n",
    "    file_uri = \"gs://\" + bucket + \"/\" + filename\n",
    "    dataset_id = 'rtf_brand_reporting'\n",
    "    \n",
    "    if 'Classification' in filename:\n",
    "        dest_table = 'DCM_contentVerification' \n",
    "    else:\n",
    "        dest_table = 'DCM_playerSize'\n",
    "    print(\"Loading {} into {}\".format(filename,dest_table))\n",
    "    bq.load_from_gcs(dataset_id,file_uri,dest_table,mode='Append')"
   ]
  },
  {
   "cell_type": "code",
   "execution_count": 12,
   "metadata": {},
   "outputs": [],
   "source": [
    "new_report = {'name': 'geo_report', 'profileId': 5096586, 'reportId': 633170439}\n",
    "config_json['campaigns'][0]['dcmTasks'].append(new_report)"
   ]
  },
  {
   "cell_type": "code",
   "execution_count": 13,
   "metadata": {},
   "outputs": [
    {
     "data": {
      "text/plain": [
       "[{'name': 'verification_report', 'profileId': 5096586, 'reportId': 631165400},\n",
       " {'name': 'video_player_size', 'profileId': 5096586, 'reportId': 632709822},\n",
       " {'name': 'geo_report', 'profileId': 5096586, 'reportId': 633170439}]"
      ]
     },
     "execution_count": 13,
     "metadata": {},
     "output_type": "execute_result"
    }
   ],
   "source": [
    "config_json['campaigns'][0]['dcmTasks']"
   ]
  },
  {
   "cell_type": "code",
   "execution_count": 20,
   "metadata": {},
   "outputs": [],
   "source": [
    "config_json['campaigns'].extend(new_campaigns)"
   ]
  },
  {
   "cell_type": "code",
   "execution_count": 24,
   "metadata": {},
   "outputs": [],
   "source": [
    "with open('dags/brand_report_task_queue.json','w') as json_file:\n",
    "    json.dump(config_json,json_file)\n",
    "    "
   ]
  },
  {
   "cell_type": "code",
   "execution_count": 58,
   "metadata": {},
   "outputs": [],
   "source": [
    "dcm_tasks = []\n",
    "for campaign in config_json['campaigns']:\n",
    "     dcm_tasks.extend(campaign['dcmTasks'])"
   ]
  },
  {
   "cell_type": "code",
   "execution_count": 47,
   "metadata": {},
   "outputs": [
    {
     "name": "stdout",
     "output_type": "stream",
     "text": [
      "[{'name': 'geo_report', 'profileId': 5096586, 'reportId': 633170439}, {'name': 'geo_report', 'profileId': 5096586, 'reportId': ''}, {'name': 'geo_report', 'profileId': 5096586, 'reportId': ''}, {'name': 'geo_report', 'profileId': 5096586, 'reportId': ''}, {'name': 'verification_report', 'reportId': 631165400, 'profileId': 5096586}, {'name': 'verification_report', 'profileId': 5096586, 'reportId': ''}, {'name': 'verification_report', 'profileId': 5096586, 'reportId': ''}, {'name': 'verification_report', 'profileId': 5096586, 'reportId': ''}, {'name': 'video_player_size', 'reportId': 632709822, 'profileId': 5096586}, {'name': 'video_player_size', 'profileId': 5096586, 'reportId': ''}, {'name': 'video_player_size', 'profileId': 5096586, 'reportId': ''}, {'name': 'video_player_size', 'profileId': 5096586, 'reportId': ''}]\n"
     ]
    }
   ],
   "source": [
    "print(sorted(dcm_tasks, key = lambda i: i['name']))"
   ]
  },
  {
   "cell_type": "code",
   "execution_count": 61,
   "metadata": {},
   "outputs": [
    {
     "name": "stdout",
     "output_type": "stream",
     "text": [
      "Starting video_player_size\n",
      "\n",
      "\n",
      "\n",
      "632709822\n",
      "Starting verification_report\n",
      "\n",
      "\n",
      "\n",
      "631165400\n",
      "Starting geo_report\n",
      "\n",
      "\n",
      "\n",
      "633170439\n"
     ]
    }
   ],
   "source": [
    "def task_orchestrator(campaign_list,):\n",
    "    dcm_tasks = []\n",
    "    \n",
    "    for campaign in config_json['campaigns']:\n",
    "         dcm_tasks.extend(campaign['dcmTasks'])\n",
    "\n",
    "\n",
    "    prev_task_name = \"\"\n",
    "\n",
    "    tasks_sorted = sorted(dcm_tasks, key = lambda i: i['name'])\n",
    "\n",
    "    while tasks_sorted:\n",
    "        task = tasks_sorted.pop()\n",
    "        task_name = task['name']\n",
    "        if task_name != prev_task_name:\n",
    "            print(\"Starting {}\".format(task_name))\n",
    "        prev_task_name = task_name\n",
    "        print(task['reportId'])\n"
   ]
  },
  {
   "cell_type": "code",
   "execution_count": null,
   "metadata": {
    "collapsed": true
   },
   "outputs": [],
   "source": []
  }
 ],
 "metadata": {
  "kernelspec": {
   "display_name": "Python 3",
   "language": "python",
   "name": "python3"
  },
  "language_info": {
   "codemirror_mode": {
    "name": "ipython",
    "version": 3
   },
   "file_extension": ".py",
   "mimetype": "text/x-python",
   "name": "python",
   "nbconvert_exporter": "python",
   "pygments_lexer": "ipython3",
   "version": "3.6.3"
  }
 },
 "nbformat": 4,
 "nbformat_minor": 2
}
