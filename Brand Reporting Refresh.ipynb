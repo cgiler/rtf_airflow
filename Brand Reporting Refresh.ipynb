{
 "cells": [
  {
   "cell_type": "markdown",
   "metadata": {},
   "source": [
    "# Manual Brand Report Refresh - DCM"
   ]
  },
  {
   "cell_type": "code",
   "execution_count": 10,
   "metadata": {},
   "outputs": [
    {
     "name": "stdout",
     "output_type": "stream",
     "text": [
      "M\tBrand Reporting Refresh.ipynb\r\n",
      "M\tbonito_Q3_refresh.ipynb\r\n",
      "D\tdag playground.ipynb\r\n",
      "M\trtf_utils/__pycache__/dfa_utils.cpython-36.pyc\r\n",
      "M\trtf_utils/__pycache__/gcp_utils.cpython-36.pyc\r\n",
      "Already on 'dev'\r\n",
      "Your branch is up to date with 'origin/dev'.\r\n"
     ]
    }
   ],
   "source": [
    "!git checkout dev\n",
    "from brand_reporting_dags.dfa_reporting_dag_tasks import dfa_report_extract,dfa_report_load,clean_up\n",
    "\n",
    "import json\n",
    "import os\n",
    "from datetime import datetime\n",
    "import time\n",
    "import warnings\n",
    "warnings.filterwarnings(\"ignore\", \"Your application has authenticated using end user credentials\")"
   ]
  },
  {
   "cell_type": "code",
   "execution_count": 8,
   "metadata": {
    "collapsed": true
   },
   "outputs": [],
   "source": [
    "from rtf_utils.dfa_utils import CampaignManagerReport,get_dfa_report,clean_dcm_file\n",
    "from rtf_utils.gcp_utils import BigQuery,CloudStorage\n",
    "from essence.analytics.platform import securedcredentials as secure_creds"
   ]
  },
  {
   "cell_type": "markdown",
   "metadata": {},
   "source": [
    "## DCM Reports"
   ]
  },
  {
   "cell_type": "code",
   "execution_count": 25,
   "metadata": {
    "collapsed": true
   },
   "outputs": [],
   "source": [
    "with open('dags/brand_report_task_queue.json') as json_file:\n",
    "    config_json = json.load(json_file)\n",
    "    campaigns = config_json['campaigns']"
   ]
  },
  {
   "cell_type": "markdown",
   "metadata": {},
   "source": [
    "Task = (report_id, bq_dest (proj:dataset.table), schema)"
   ]
  },
  {
   "cell_type": "code",
   "execution_count": 3,
   "metadata": {
    "collapsed": true
   },
   "outputs": [],
   "source": [
    "tasks = campaigns[0]['dcmTasks']"
   ]
  },
  {
   "cell_type": "code",
   "execution_count": 5,
   "metadata": {
    "scrolled": true
   },
   "outputs": [
    {
     "name": "stdout",
     "output_type": "stream",
     "text": [
      "Get Report Meta\n",
      "File is already available. Start download\n",
      "File downloaded to Bonito_Classification.csv\n",
      "Cleaning File\n",
      "Auth GCS\n",
      "Upload File\n",
      "Clean Up Local\n",
      "Get Report Meta\n",
      "File doesn't exist, run report\n",
      "The Download Part\n",
      "Report Processing, Wait 10. Try 0\n",
      "Report Processing, Wait 10. Try 1\n",
      "Print Report Available!\n",
      "File downloaded to Bonito_Video_Player_Size.csv\n",
      "Cleaning File\n",
      "Auth GCS\n",
      "Upload File\n",
      "Clean Up Local\n"
     ]
    }
   ],
   "source": [
    "start_date = '2019-09-01'\n",
    "end_date = '2019-09-10'\n",
    "gcs_files = [dfa_report_extract(task['reportId'],start_date = start_date,end_date = end_date) for task in tasks]"
   ]
  },
  {
   "cell_type": "code",
   "execution_count": 4,
   "metadata": {
    "collapsed": true
   },
   "outputs": [],
   "source": [
    "gcs_files = [\n",
    "('rtf_staging', 'brand_reporting/2019-09-10_Bonito_Classification.csv'),\n",
    "('rtf_staging', 'brand_reporting/2019-09-10_Bonito_Video_Player_Size.csv')]"
   ]
  },
  {
   "cell_type": "markdown",
   "metadata": {},
   "source": [
    "### DCM Report Loader\n",
    "#### Note: Reports need to be cleaned"
   ]
  },
  {
   "cell_type": "code",
   "execution_count": 11,
   "metadata": {},
   "outputs": [
    {
     "name": "stdout",
     "output_type": "stream",
     "text": [
      "Loading gs://rtf_staging/5295_BR_Reporting_Classification_20190913_142345_2656806431.csv into DCM_contentReport\n",
      "Loading gs://rtf_staging/5295_BR_Reporting_Geo_Report_20190913_144251_2656783687.csv into DCM_geoReport\n",
      "Loading gs://rtf_staging/5295_BR_Reporting_Video_Player_Size_20190913_140102_2656781516.csv into DCM_playerSizeReport\n"
     ]
    }
   ],
   "source": [
    "uris = ['gs://rtf_staging/5295_BR_Reporting_Classification_20190913_142345_2656806431.csv',\n",
    "        'gs://rtf_staging/5295_BR_Reporting_Geo_Report_20190913_144251_2656783687.csv',\n",
    "        'gs://rtf_staging/5295_BR_Reporting_Video_Player_Size_20190913_140102_2656781516.csv'\n",
    "       ]\n",
    "\n",
    "service_account_email='131786951123-compute@developer.gserviceaccount.com'\n",
    "credentialsFromVault=secure_creds.getCredentialsFromEssenceVault(service_account_email)\n",
    "bq = BigQuery(credentialsFromVault)\n",
    "\n",
    "for file in uris:#gcs_files:\n",
    "    \n",
    "    #bucket, filename = file\n",
    "    #file_uri = \"gs://\" + bucket + \"/\" + filename\n",
    "    \n",
    "    file_uri = file\n",
    "    \n",
    "    dataset_id = 'RTF_DWH_CampaignManager'\n",
    "    \n",
    "    if 'Classification' in file_uri:\n",
    "        dest_table = 'DCM_contentReport'\n",
    "    elif 'Geo' in file_uri:\n",
    "        dest_table = 'DCM_geoReport' \n",
    "    else:\n",
    "        dest_table = 'DCM_playerSizeReport'\n",
    "    print(\"Loading {} into {}\".format(file_uri,dest_table))\n",
    "    bq.load_from_gcs(dataset_id,file_uri,dest_table,mode='Append')"
   ]
  },
  {
   "cell_type": "code",
   "execution_count": 61,
   "metadata": {},
   "outputs": [
    {
     "name": "stdout",
     "output_type": "stream",
     "text": [
      "Starting video_player_size\n",
      "\n",
      "\n",
      "\n",
      "632709822\n",
      "Starting verification_report\n",
      "\n",
      "\n",
      "\n",
      "631165400\n",
      "Starting geo_report\n",
      "\n",
      "\n",
      "\n",
      "633170439\n"
     ]
    }
   ],
   "source": [
    "def task_orchestrator(campaign_list,):\n",
    "    dcm_tasks = []\n",
    "    \n",
    "    for campaign in config_json['campaigns']:\n",
    "         dcm_tasks.extend(campaign['dcmTasks'])\n",
    "\n",
    "\n",
    "    prev_task_name = \"\"\n",
    "\n",
    "    tasks_sorted = sorted(dcm_tasks, key = lambda i: i['name'])\n",
    "\n",
    "    while tasks_sorted:\n",
    "        task = tasks_sorted.pop()\n",
    "        task_name = task['name']\n",
    "        if task_name != prev_task_name:\n",
    "            print(\"Starting {}\".format(task_name))\n",
    "        prev_task_name = task_name\n",
    "        print(task['reportId'])\n"
   ]
  },
  {
   "cell_type": "code",
   "execution_count": 1,
   "metadata": {
    "collapsed": true
   },
   "outputs": [],
   "source": [
    "def clean_dcm_file(filename):\n",
    "    data = []\n",
    "    write = False\n",
    "    with open(filename,'r') as f:\n",
    "        reader = csv.reader(f, delimiter=',')\n",
    "\n",
    "        for row in reader:\n",
    "            if write == True:\n",
    "                data.append(row)        \n",
    "            elif row == ['Report Fields']:\n",
    "                write = True\n",
    "\n",
    "        if data[-1][0] == 'Grand Total:':\n",
    "            data.pop()\n",
    "\n",
    "    with open(filename, \"w\", newline=\"\") as f:\n",
    "        writer = csv.writer(f)\n",
    "        writer.writerows(data)"
   ]
  },
  {
   "cell_type": "code",
   "execution_count": 6,
   "metadata": {},
   "outputs": [],
   "source": [
    "import csv\n",
    "clean_dcm_file('/Users/kylerandolph/Downloads/5295_BR_Reporting_Video_Player_Size_20190913_140102_2656781516.csv')"
   ]
  },
  {
   "cell_type": "code",
   "execution_count": 16,
   "metadata": {},
   "outputs": [
    {
     "data": {
      "text/plain": [
       "'20190913'"
      ]
     },
     "execution_count": 16,
     "metadata": {},
     "output_type": "execute_result"
    }
   ],
   "source": [
    "import datetime\n",
    "datetime.datetime.now().strftime('%Y%m%d')"
   ]
  },
  {
   "cell_type": "code",
   "execution_count": 22,
   "metadata": {},
   "outputs": [],
   "source": [
    "r = (\"RTF_DWH_CampaignReporting.\" + \n",
    "     \"task\" + \n",
    "     datetime.datetime.now().strftime('%Y%m%d'))"
   ]
  },
  {
   "cell_type": "code",
   "execution_count": 23,
   "metadata": {},
   "outputs": [
    {
     "data": {
      "text/plain": [
       "'RTF_DWH_CampaignReporting.task20190913'"
      ]
     },
     "execution_count": 23,
     "metadata": {},
     "output_type": "execute_result"
    }
   ],
   "source": [
    "r"
   ]
  },
  {
   "cell_type": "code",
   "execution_count": 24,
   "metadata": {},
   "outputs": [
    {
     "data": {
      "text/plain": [
       "'hei 1'"
      ]
     },
     "execution_count": 24,
     "metadata": {},
     "output_type": "execute_result"
    }
   ],
   "source": [
    "\"hei {}\".format(1)"
   ]
  },
  {
   "cell_type": "code",
   "execution_count": null,
   "metadata": {
    "collapsed": true
   },
   "outputs": [],
   "source": []
  }
 ],
 "metadata": {
  "kernelspec": {
   "display_name": "Python 3",
   "language": "python",
   "name": "python3"
  },
  "language_info": {
   "codemirror_mode": {
    "name": "ipython",
    "version": 3
   },
   "file_extension": ".py",
   "mimetype": "text/x-python",
   "name": "python",
   "nbconvert_exporter": "python",
   "pygments_lexer": "ipython3",
   "version": "3.6.3"
  }
 },
 "nbformat": 4,
 "nbformat_minor": 2
}
